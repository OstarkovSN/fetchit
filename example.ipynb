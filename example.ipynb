{
 "cells": [
  {
   "cell_type": "markdown",
   "metadata": {},
   "source": [
    "# LightRAG usage example"
   ]
  },
  {
   "cell_type": "markdown",
   "metadata": {},
   "source": [
    "## Imports"
   ]
  },
  {
   "cell_type": "code",
   "execution_count": 1,
   "metadata": {},
   "outputs": [],
   "source": [
    "\n",
    "import os\n",
    "import json\n",
    "import logging\n",
    "import base64\n",
    "from getpass import getpass\n",
    "\n",
    "import nest_asyncio\n",
    "import networkx as nx\n",
    "from pyvis.network import Network\n",
    "from langchain_openai import ChatOpenAI\n",
    "from huggingface_hub import notebook_login, login\n",
    "from transformers import AutoModel, AutoTokenizer\n",
    "\n",
    "from lightrag import LightRAG, QueryParam\n",
    "from lightrag.llm import (\n",
    "    hf_embedding,\n",
    "    openai_complete_if_cache,\n",
    "\n",
    ")\n",
    "from lightrag.utils import EmbeddingFunc\n",
    "\n",
    "from utils.config import Configuration"
   ]
  },
  {
   "cell_type": "markdown",
   "metadata": {},
   "source": [
    "## Setting up LightRAG"
   ]
  },
  {
   "cell_type": "markdown",
   "metadata": {},
   "source": [
    "### Config loading & workdir creation"
   ]
  },
  {
   "cell_type": "code",
   "execution_count": 2,
   "metadata": {},
   "outputs": [
    {
     "name": "stdout",
     "output_type": "stream",
     "text": [
      "Login successful!\n"
     ]
    }
   ],
   "source": [
    "if not os.path.exists(\"secrets.json\"):\n",
    "    secrets = {\n",
    "        \"samba_nova_api_key\": [\n",
    "            getpass(prompt=\"Your SambaNova API key (input hiddden): \")\n",
    "        ],\n",
    "        \"huggingface_token\": [\n",
    "            getpass(prompt=\"Your Hugging Face token (input hidden): \")\n",
    "        ],\n",
    "    }\n",
    "    with open(\"secrets.json\", \"w\", encoding=\"utf-8\") as f:\n",
    "        json.dump(secrets, f, ensure_ascii=False, indent=4)\n",
    "if not os.path.exists(\"config.json\"):\n",
    "    with open(\"config.json\", \"w\", encoding=\"utf-8\") as f:\n",
    "        json.dump({}, f, ensure_ascii=False, indent=4)\n",
    "\n",
    "config = Configuration(\"config.json\")\n",
    "\n",
    "try:\n",
    "    token = config[\"huggingface_token\"]\n",
    "    assert isinstance(token, str), \"Invalid token type encountered somehow\"\n",
    "    login(token)\n",
    "    print(\"Login successful!\")\n",
    "except KeyError:\n",
    "    notebook_login()\n",
    "\n",
    "nest_asyncio.apply()\n",
    "WORKING_DIR = config[\"processed/lightrag\"]\n",
    "DATA_PATH = config[\"raw/\"]\n",
    "assert isinstance(\n",
    "    WORKING_DIR, str\n",
    "), f\"WORKING_DIR should be a string but is {type(WORKING_DIR)}\"\n",
    "assert isinstance(\n",
    "    DATA_PATH, str\n",
    "), f\"DATA_PATH should be a string but is {type(DATA_PATH)}\"\n",
    "empty = not os.path.exists(\"lightrag\") or not os.listdir(\"lightrag\")\n",
    "os.makedirs(WORKING_DIR, exist_ok=True)"
   ]
  },
  {
   "cell_type": "markdown",
   "metadata": {},
   "source": [
    "### LightRAG init"
   ]
  },
  {
   "cell_type": "code",
   "execution_count": 3,
   "metadata": {},
   "outputs": [
    {
     "name": "stderr",
     "output_type": "stream",
     "text": [
      "INFO:lightrag:Logger initialized for working directory: data/processed/lightrag\n",
      "INFO:lightrag:Load KV llm_response_cache with 0 data\n",
      "INFO:lightrag:Load KV full_docs with 0 data\n",
      "INFO:lightrag:Load KV text_chunks with 0 data\n",
      "INFO:nano-vectordb:Init {'embedding_dim': 384, 'metric': 'cosine', 'storage_file': 'data/processed/lightrag/vdb_entities.json'} 0 data\n",
      "INFO:nano-vectordb:Init {'embedding_dim': 384, 'metric': 'cosine', 'storage_file': 'data/processed/lightrag/vdb_relationships.json'} 0 data\n",
      "INFO:nano-vectordb:Init {'embedding_dim': 384, 'metric': 'cosine', 'storage_file': 'data/processed/lightrag/vdb_chunks.json'} 0 data\n"
     ]
    }
   ],
   "source": [
    "async def llm_model_func(\n",
    "    prompt, system_prompt=None, history_messages=[], **kwargs\n",
    ") -> str:\n",
    "    return await openai_complete_if_cache(\n",
    "        \"Meta-Llama-3.1-405B-Instruct\",\n",
    "        prompt,\n",
    "        system_prompt=system_prompt,\n",
    "        history_messages=history_messages,\n",
    "        api_key=config['samba_nova_api_key'],\n",
    "        base_url=\"https://api.sambanova.ai/v1\",\n",
    "        **config['openai_complete_if_cache_kwargs']\n",
    "    )\n",
    "\n",
    "\n",
    "rag = LightRAG(\n",
    "    working_dir=WORKING_DIR,\n",
    "    llm_model_func=llm_model_func,\n",
    "    embedding_func=EmbeddingFunc(\n",
    "        embedding_dim=384,\n",
    "        max_token_size=5000,\n",
    "        func=lambda texts: hf_embedding(\n",
    "            texts,\n",
    "            tokenizer=AutoTokenizer.from_pretrained(\"sentence-transformers/paraphrase-multilingual-MiniLM-L12-v2\"),\n",
    "            embed_model=AutoModel.from_pretrained(\"sentence-transformers/paraphrase-multilingual-MiniLM-L12-v2\")\n",
    "        )\n",
    "    ),\n",
    "    **config['rag_kwargs']\n",
    ")"
   ]
  },
  {
   "cell_type": "markdown",
   "metadata": {},
   "source": [
    "### Inserting data"
   ]
  },
  {
   "cell_type": "code",
   "execution_count": 4,
   "metadata": {},
   "outputs": [
    {
     "name": "stderr",
     "output_type": "stream",
     "text": [
      "INFO:lightrag:[New Docs] inserting 2 docs\n",
      "Chunking documents:   0%|          | 0/2 [00:00<?, ?doc/s]"
     ]
    },
    {
     "name": "stdout",
     "output_type": "stream",
     "text": [
      "Extracting content from file: data/raw/Росконгресс_Рынок_промышленных_роботов_в_мире_и_России_2024_16_стр.pdf...done!\n"
     ]
    },
    {
     "name": "stderr",
     "output_type": "stream",
     "text": [
      "Chunking documents: 100%|██████████| 2/2 [00:03<00:00,  1.78s/doc]\n",
      "INFO:lightrag:[New Chunks] inserting 217 chunks\n",
      "INFO:lightrag:Inserting 217 vectors to chunks\n"
     ]
    },
    {
     "name": "stdout",
     "output_type": "stream",
     "text": [
      "Extracting content from file: data/raw/СП_496_1325800_2020_Основания_и_фундаменты_зданий_и_сооружений.docx...done!\n"
     ]
    },
    {
     "name": "stderr",
     "output_type": "stream",
     "text": [
      "Generating embeddings:   0%|          | 0/7 [00:00<?, ?batch/s]We strongly recommend passing in an `attention_mask` since your input_ids may be padded. See https://huggingface.co/docs/transformers/troubleshooting#incorrect-output-when-padding-tokens-arent-masked.\n",
      "Generating embeddings: 100%|██████████| 7/7 [00:36<00:00,  5.15s/batch]\n",
      "INFO:lightrag:[Entity Extraction]...\n",
      "Extracting entities from chunks:   0%|          | 0/217 [00:00<?, ?chunk/s]INFO:httpx:HTTP Request: POST https://api.sambanova.ai/v1/chat/completions \"HTTP/1.1 200 OK\"\n",
      "INFO:httpx:HTTP Request: POST https://api.sambanova.ai/v1/chat/completions \"HTTP/1.1 200 OK\"\n",
      "INFO:httpx:HTTP Request: POST https://api.sambanova.ai/v1/chat/completions \"HTTP/1.1 200 OK\"\n",
      "INFO:httpx:HTTP Request: POST https://api.sambanova.ai/v1/chat/completions \"HTTP/1.1 200 OK\"\n",
      "INFO:httpx:HTTP Request: POST https://api.sambanova.ai/v1/chat/completions \"HTTP/1.1 200 OK\"\n",
      "INFO:httpx:HTTP Request: POST https://api.sambanova.ai/v1/chat/completions \"HTTP/1.1 200 OK\"\n",
      "INFO:httpx:HTTP Request: POST https://api.sambanova.ai/v1/chat/completions \"HTTP/1.1 200 OK\"\n",
      "INFO:httpx:HTTP Request: POST https://api.sambanova.ai/v1/chat/completions \"HTTP/1.1 200 OK\"\n",
      "INFO:httpx:HTTP Request: POST https://api.sambanova.ai/v1/chat/completions \"HTTP/1.1 200 OK\"\n",
      "INFO:httpx:HTTP Request: POST https://api.sambanova.ai/v1/chat/completions \"HTTP/1.1 200 OK\"\n",
      "INFO:httpx:HTTP Request: POST https://api.sambanova.ai/v1/chat/completions \"HTTP/1.1 200 OK\"\n",
      "INFO:httpx:HTTP Request: POST https://api.sambanova.ai/v1/chat/completions \"HTTP/1.1 200 OK\"\n",
      "INFO:httpx:HTTP Request: POST https://api.sambanova.ai/v1/chat/completions \"HTTP/1.1 200 OK\"\n",
      "INFO:httpx:HTTP Request: POST https://api.sambanova.ai/v1/chat/completions \"HTTP/1.1 200 OK\"\n",
      "INFO:httpx:HTTP Request: POST https://api.sambanova.ai/v1/chat/completions \"HTTP/1.1 200 OK\"\n",
      "INFO:httpx:HTTP Request: POST https://api.sambanova.ai/v1/chat/completions \"HTTP/1.1 200 OK\"\n",
      "INFO:httpx:HTTP Request: POST https://api.sambanova.ai/v1/chat/completions \"HTTP/1.1 200 OK\"\n"
     ]
    },
    {
     "name": "stdout",
     "output_type": "stream",
     "text": [
      "⠙ Processed 1 chunks, 6 entities(duplicated), 5 relations(duplicated)\r"
     ]
    },
    {
     "name": "stderr",
     "output_type": "stream",
     "text": [
      "Extracting entities from chunks:   0%|          | 1/217 [00:17<1:04:16, 17.86s/chunk]INFO:httpx:HTTP Request: POST https://api.sambanova.ai/v1/chat/completions \"HTTP/1.1 200 OK\"\n"
     ]
    },
    {
     "name": "stdout",
     "output_type": "stream",
     "text": [
      "⠹ Processed 2 chunks, 17 entities(duplicated), 11 relations(duplicated)\r"
     ]
    },
    {
     "name": "stderr",
     "output_type": "stream",
     "text": [
      "Extracting entities from chunks:   1%|          | 2/217 [00:20<32:20,  9.02s/chunk]  INFO:httpx:HTTP Request: POST https://api.sambanova.ai/v1/chat/completions \"HTTP/1.1 200 OK\"\n"
     ]
    },
    {
     "name": "stdout",
     "output_type": "stream",
     "text": [
      "⠸ Processed 3 chunks, 27 entities(duplicated), 17 relations(duplicated)\r"
     ]
    },
    {
     "name": "stderr",
     "output_type": "stream",
     "text": [
      "Extracting entities from chunks:   1%|▏         | 3/217 [00:21<18:14,  5.11s/chunk]INFO:httpx:HTTP Request: POST https://api.sambanova.ai/v1/chat/completions \"HTTP/1.1 200 OK\"\n"
     ]
    },
    {
     "name": "stdout",
     "output_type": "stream",
     "text": [
      "⠼ Processed 4 chunks, 35 entities(duplicated), 20 relations(duplicated)\r"
     ]
    },
    {
     "name": "stderr",
     "output_type": "stream",
     "text": [
      "Extracting entities from chunks:   2%|▏         | 4/217 [00:22<12:15,  3.45s/chunk]INFO:httpx:HTTP Request: POST https://api.sambanova.ai/v1/chat/completions \"HTTP/1.1 200 OK\"\n"
     ]
    },
    {
     "name": "stdout",
     "output_type": "stream",
     "text": [
      "⠴ Processed 5 chunks, 36 entities(duplicated), 20 relations(duplicated)\r"
     ]
    },
    {
     "name": "stderr",
     "output_type": "stream",
     "text": [
      "Extracting entities from chunks:   2%|▏         | 5/217 [00:23<09:56,  2.82s/chunk]INFO:httpx:HTTP Request: POST https://api.sambanova.ai/v1/chat/completions \"HTTP/1.1 200 OK\"\n"
     ]
    },
    {
     "name": "stdout",
     "output_type": "stream",
     "text": [
      "⠦ Processed 6 chunks, 43 entities(duplicated), 20 relations(duplicated)\r"
     ]
    },
    {
     "name": "stderr",
     "output_type": "stream",
     "text": [
      "Extracting entities from chunks:   3%|▎         | 6/217 [00:24<06:51,  1.95s/chunk]INFO:httpx:HTTP Request: POST https://api.sambanova.ai/v1/chat/completions \"HTTP/1.1 200 OK\"\n"
     ]
    },
    {
     "name": "stdout",
     "output_type": "stream",
     "text": [
      "⠧ Processed 7 chunks, 52 entities(duplicated), 24 relations(duplicated)\r"
     ]
    },
    {
     "name": "stderr",
     "output_type": "stream",
     "text": [
      "Extracting entities from chunks:   3%|▎         | 7/217 [00:24<04:47,  1.37s/chunk]INFO:httpx:HTTP Request: POST https://api.sambanova.ai/v1/chat/completions \"HTTP/1.1 200 OK\"\n"
     ]
    },
    {
     "name": "stdout",
     "output_type": "stream",
     "text": [
      "⠇ Processed 8 chunks, 65 entities(duplicated), 24 relations(duplicated)\r"
     ]
    },
    {
     "name": "stderr",
     "output_type": "stream",
     "text": [
      "Extracting entities from chunks:   4%|▎         | 8/217 [00:25<04:34,  1.32s/chunk]INFO:httpx:HTTP Request: POST https://api.sambanova.ai/v1/chat/completions \"HTTP/1.1 200 OK\"\n"
     ]
    },
    {
     "name": "stdout",
     "output_type": "stream",
     "text": [
      "⠏ Processed 9 chunks, 74 entities(duplicated), 34 relations(duplicated)\r"
     ]
    },
    {
     "name": "stderr",
     "output_type": "stream",
     "text": [
      "Extracting entities from chunks:   4%|▍         | 9/217 [00:25<03:15,  1.06chunk/s]INFO:httpx:HTTP Request: POST https://api.sambanova.ai/v1/chat/completions \"HTTP/1.1 200 OK\"\n"
     ]
    },
    {
     "name": "stdout",
     "output_type": "stream",
     "text": [
      "⠋ Processed 10 chunks, 88 entities(duplicated), 34 relations(duplicated)\r"
     ]
    },
    {
     "name": "stderr",
     "output_type": "stream",
     "text": [
      "Extracting entities from chunks:   5%|▍         | 10/217 [00:26<02:47,  1.23chunk/s]INFO:httpx:HTTP Request: POST https://api.sambanova.ai/v1/chat/completions \"HTTP/1.1 200 OK\"\n"
     ]
    },
    {
     "name": "stdout",
     "output_type": "stream",
     "text": [
      "⠙ Processed 11 chunks, 101 entities(duplicated), 39 relations(duplicated)\r"
     ]
    },
    {
     "name": "stderr",
     "output_type": "stream",
     "text": [
      "Extracting entities from chunks:   5%|▌         | 11/217 [00:26<02:33,  1.34chunk/s]INFO:httpx:HTTP Request: POST https://api.sambanova.ai/v1/chat/completions \"HTTP/1.1 200 OK\"\n"
     ]
    },
    {
     "name": "stdout",
     "output_type": "stream",
     "text": [
      "⠹ Processed 12 chunks, 118 entities(duplicated), 50 relations(duplicated)\r"
     ]
    },
    {
     "name": "stderr",
     "output_type": "stream",
     "text": [
      "Extracting entities from chunks:   6%|▌         | 12/217 [00:26<02:00,  1.71chunk/s]INFO:httpx:HTTP Request: POST https://api.sambanova.ai/v1/chat/completions \"HTTP/1.1 200 OK\"\n"
     ]
    },
    {
     "name": "stdout",
     "output_type": "stream",
     "text": [
      "⠸ Processed 13 chunks, 131 entities(duplicated), 56 relations(duplicated)\r"
     ]
    },
    {
     "name": "stderr",
     "output_type": "stream",
     "text": [
      "Extracting entities from chunks:   6%|▌         | 13/217 [00:27<01:59,  1.70chunk/s]INFO:httpx:HTTP Request: POST https://api.sambanova.ai/v1/chat/completions \"HTTP/1.1 200 OK\"\n"
     ]
    },
    {
     "name": "stdout",
     "output_type": "stream",
     "text": [
      "⠼ Processed 14 chunks, 143 entities(duplicated), 63 relations(duplicated)\r"
     ]
    },
    {
     "name": "stderr",
     "output_type": "stream",
     "text": [
      "Extracting entities from chunks:   6%|▋         | 14/217 [00:28<02:37,  1.29chunk/s]INFO:httpx:HTTP Request: POST https://api.sambanova.ai/v1/chat/completions \"HTTP/1.1 200 OK\"\n"
     ]
    },
    {
     "name": "stdout",
     "output_type": "stream",
     "text": [
      "⠴ Processed 15 chunks, 151 entities(duplicated), 68 relations(duplicated)\r"
     ]
    },
    {
     "name": "stderr",
     "output_type": "stream",
     "text": [
      "Extracting entities from chunks:   7%|▋         | 15/217 [00:29<02:23,  1.41chunk/s]INFO:httpx:HTTP Request: POST https://api.sambanova.ai/v1/chat/completions \"HTTP/1.1 200 OK\"\n"
     ]
    },
    {
     "name": "stdout",
     "output_type": "stream",
     "text": [
      "⠦ Processed 16 chunks, 169 entities(duplicated), 83 relations(duplicated)\r"
     ]
    },
    {
     "name": "stderr",
     "output_type": "stream",
     "text": [
      "Extracting entities from chunks:   7%|▋         | 16/217 [00:30<02:32,  1.32chunk/s]INFO:httpx:HTTP Request: POST https://api.sambanova.ai/v1/chat/completions \"HTTP/1.1 200 OK\"\n",
      "INFO:httpx:HTTP Request: POST https://api.sambanova.ai/v1/chat/completions \"HTTP/1.1 200 OK\"\n",
      "INFO:httpx:HTTP Request: POST https://api.sambanova.ai/v1/chat/completions \"HTTP/1.1 200 OK\"\n",
      "INFO:httpx:HTTP Request: POST https://api.sambanova.ai/v1/chat/completions \"HTTP/1.1 200 OK\"\n",
      "INFO:httpx:HTTP Request: POST https://api.sambanova.ai/v1/chat/completions \"HTTP/1.1 200 OK\"\n",
      "INFO:httpx:HTTP Request: POST https://api.sambanova.ai/v1/chat/completions \"HTTP/1.1 200 OK\"\n",
      "INFO:httpx:HTTP Request: POST https://api.sambanova.ai/v1/chat/completions \"HTTP/1.1 200 OK\"\n",
      "INFO:httpx:HTTP Request: POST https://api.sambanova.ai/v1/chat/completions \"HTTP/1.1 200 OK\"\n",
      "INFO:httpx:HTTP Request: POST https://api.sambanova.ai/v1/chat/completions \"HTTP/1.1 200 OK\"\n",
      "INFO:httpx:HTTP Request: POST https://api.sambanova.ai/v1/chat/completions \"HTTP/1.1 200 OK\"\n",
      "INFO:httpx:HTTP Request: POST https://api.sambanova.ai/v1/chat/completions \"HTTP/1.1 200 OK\"\n",
      "INFO:httpx:HTTP Request: POST https://api.sambanova.ai/v1/chat/completions \"HTTP/1.1 200 OK\"\n",
      "INFO:httpx:HTTP Request: POST https://api.sambanova.ai/v1/chat/completions \"HTTP/1.1 200 OK\"\n"
     ]
    },
    {
     "name": "stdout",
     "output_type": "stream",
     "text": [
      "⠧ Processed 17 chunks, 178 entities(duplicated), 83 relations(duplicated)\r"
     ]
    },
    {
     "name": "stderr",
     "output_type": "stream",
     "text": [
      "Extracting entities from chunks:   8%|▊         | 17/217 [00:41<13:35,  4.08s/chunk]INFO:httpx:HTTP Request: POST https://api.sambanova.ai/v1/chat/completions \"HTTP/1.1 200 OK\"\n",
      "INFO:httpx:HTTP Request: POST https://api.sambanova.ai/v1/chat/completions \"HTTP/1.1 200 OK\"\n",
      "INFO:httpx:HTTP Request: POST https://api.sambanova.ai/v1/chat/completions \"HTTP/1.1 200 OK\"\n",
      "INFO:httpx:HTTP Request: POST https://api.sambanova.ai/v1/chat/completions \"HTTP/1.1 200 OK\"\n"
     ]
    },
    {
     "name": "stdout",
     "output_type": "stream",
     "text": [
      "⠇ Processed 18 chunks, 190 entities(duplicated), 87 relations(duplicated)\r"
     ]
    },
    {
     "name": "stderr",
     "output_type": "stream",
     "text": [
      "Extracting entities from chunks:   8%|▊         | 18/217 [00:45<13:03,  3.94s/chunk]INFO:httpx:HTTP Request: POST https://api.sambanova.ai/v1/chat/completions \"HTTP/1.1 200 OK\"\n",
      "INFO:httpx:HTTP Request: POST https://api.sambanova.ai/v1/chat/completions \"HTTP/1.1 429 Too Many Requests\"\n",
      "INFO:openai._base_client:Retrying request to /chat/completions in 0.448463 seconds\n",
      "INFO:httpx:HTTP Request: POST https://api.sambanova.ai/v1/chat/completions \"HTTP/1.1 429 Too Many Requests\"\n",
      "INFO:openai._base_client:Retrying request to /chat/completions in 0.490256 seconds\n",
      "INFO:httpx:HTTP Request: POST https://api.sambanova.ai/v1/chat/completions \"HTTP/1.1 429 Too Many Requests\"\n",
      "INFO:openai._base_client:Retrying request to /chat/completions in 0.762438 seconds\n",
      "INFO:httpx:HTTP Request: POST https://api.sambanova.ai/v1/chat/completions \"HTTP/1.1 429 Too Many Requests\"\n",
      "INFO:openai._base_client:Retrying request to /chat/completions in 0.874540 seconds\n",
      "INFO:httpx:HTTP Request: POST https://api.sambanova.ai/v1/chat/completions \"HTTP/1.1 429 Too Many Requests\"\n",
      "INFO:httpx:HTTP Request: POST https://api.sambanova.ai/v1/chat/completions \"HTTP/1.1 429 Too Many Requests\"\n",
      "INFO:httpx:HTTP Request: POST https://api.sambanova.ai/v1/chat/completions \"HTTP/1.1 200 OK\"\n"
     ]
    },
    {
     "name": "stdout",
     "output_type": "stream",
     "text": [
      "⠏ Processed 19 chunks, 214 entities(duplicated), 98 relations(duplicated)\r"
     ]
    },
    {
     "name": "stderr",
     "output_type": "stream",
     "text": [
      "Extracting entities from chunks:   9%|▉         | 19/217 [00:49<12:45,  3.87s/chunk]INFO:httpx:HTTP Request: POST https://api.sambanova.ai/v1/chat/completions \"HTTP/1.1 429 Too Many Requests\"\n",
      "INFO:openai._base_client:Retrying request to /chat/completions in 0.496717 seconds\n",
      "INFO:httpx:HTTP Request: POST https://api.sambanova.ai/v1/chat/completions \"HTTP/1.1 200 OK\"\n"
     ]
    },
    {
     "name": "stdout",
     "output_type": "stream",
     "text": [
      "⠋ Processed 20 chunks, 230 entities(duplicated), 105 relations(duplicated)\r"
     ]
    },
    {
     "name": "stderr",
     "output_type": "stream",
     "text": [
      "Extracting entities from chunks:   9%|▉         | 20/217 [00:50<10:38,  3.24s/chunk]INFO:httpx:HTTP Request: POST https://api.sambanova.ai/v1/chat/completions \"HTTP/1.1 429 Too Many Requests\"\n",
      "INFO:openai._base_client:Retrying request to /chat/completions in 0.847254 seconds\n",
      "INFO:httpx:HTTP Request: POST https://api.sambanova.ai/v1/chat/completions \"HTTP/1.1 200 OK\"\n"
     ]
    },
    {
     "name": "stdout",
     "output_type": "stream",
     "text": [
      "⠙ Processed 21 chunks, 246 entities(duplicated), 109 relations(duplicated)\r"
     ]
    },
    {
     "name": "stderr",
     "output_type": "stream",
     "text": [
      "Extracting entities from chunks:  10%|▉         | 21/217 [00:51<08:10,  2.50s/chunk]INFO:httpx:HTTP Request: POST https://api.sambanova.ai/v1/chat/completions \"HTTP/1.1 200 OK\"\n"
     ]
    },
    {
     "name": "stdout",
     "output_type": "stream",
     "text": [
      "⠹ Processed 22 chunks, 258 entities(duplicated), 116 relations(duplicated)\r"
     ]
    },
    {
     "name": "stderr",
     "output_type": "stream",
     "text": [
      "Extracting entities from chunks:  10%|█         | 22/217 [00:51<05:50,  1.80s/chunk]INFO:httpx:HTTP Request: POST https://api.sambanova.ai/v1/chat/completions \"HTTP/1.1 429 Too Many Requests\"\n",
      "INFO:openai._base_client:Retrying request to /chat/completions in 0.418750 seconds\n",
      "INFO:httpx:HTTP Request: POST https://api.sambanova.ai/v1/chat/completions \"HTTP/1.1 429 Too Many Requests\"\n",
      "INFO:httpx:HTTP Request: POST https://api.sambanova.ai/v1/chat/completions \"HTTP/1.1 200 OK\"\n"
     ]
    },
    {
     "name": "stdout",
     "output_type": "stream",
     "text": [
      "⠸ Processed 23 chunks, 264 entities(duplicated), 119 relations(duplicated)\r"
     ]
    },
    {
     "name": "stderr",
     "output_type": "stream",
     "text": [
      "Extracting entities from chunks:  11%|█         | 23/217 [00:52<04:45,  1.47s/chunk]INFO:httpx:HTTP Request: POST https://api.sambanova.ai/v1/chat/completions \"HTTP/1.1 429 Too Many Requests\"\n",
      "INFO:openai._base_client:Retrying request to /chat/completions in 0.902165 seconds\n",
      "INFO:httpx:HTTP Request: POST https://api.sambanova.ai/v1/chat/completions \"HTTP/1.1 429 Too Many Requests\"\n",
      "INFO:openai._base_client:Retrying request to /chat/completions in 0.494899 seconds\n",
      "INFO:httpx:HTTP Request: POST https://api.sambanova.ai/v1/chat/completions \"HTTP/1.1 429 Too Many Requests\"\n",
      "INFO:openai._base_client:Retrying request to /chat/completions in 0.466420 seconds\n",
      "INFO:httpx:HTTP Request: POST https://api.sambanova.ai/v1/chat/completions \"HTTP/1.1 200 OK\"\n"
     ]
    },
    {
     "name": "stdout",
     "output_type": "stream",
     "text": [
      "⠼ Processed 24 chunks, 277 entities(duplicated), 128 relations(duplicated)\r"
     ]
    },
    {
     "name": "stderr",
     "output_type": "stream",
     "text": [
      "Extracting entities from chunks:  11%|█         | 24/217 [00:53<03:43,  1.16s/chunk]INFO:httpx:HTTP Request: POST https://api.sambanova.ai/v1/chat/completions \"HTTP/1.1 200 OK\"\n"
     ]
    },
    {
     "name": "stdout",
     "output_type": "stream",
     "text": [
      "⠴ Processed 25 chunks, 288 entities(duplicated), 128 relations(duplicated)\r"
     ]
    },
    {
     "name": "stderr",
     "output_type": "stream",
     "text": [
      "Extracting entities from chunks:  12%|█▏        | 25/217 [00:53<02:42,  1.18chunk/s]INFO:httpx:HTTP Request: POST https://api.sambanova.ai/v1/chat/completions \"HTTP/1.1 200 OK\"\n"
     ]
    },
    {
     "name": "stdout",
     "output_type": "stream",
     "text": [
      "⠦ Processed 26 chunks, 297 entities(duplicated), 134 relations(duplicated)\r"
     ]
    },
    {
     "name": "stderr",
     "output_type": "stream",
     "text": [
      "Extracting entities from chunks:  12%|█▏        | 26/217 [00:53<02:10,  1.46chunk/s]INFO:httpx:HTTP Request: POST https://api.sambanova.ai/v1/chat/completions \"HTTP/1.1 429 Too Many Requests\"\n",
      "INFO:httpx:HTTP Request: POST https://api.sambanova.ai/v1/chat/completions \"HTTP/1.1 429 Too Many Requests\"\n",
      "INFO:openai._base_client:Retrying request to /chat/completions in 0.880280 seconds\n",
      "INFO:openai._base_client:Retrying request to /chat/completions in 0.887979 seconds\n",
      "INFO:httpx:HTTP Request: POST https://api.sambanova.ai/v1/chat/completions \"HTTP/1.1 429 Too Many Requests\"\n",
      "INFO:openai._base_client:Retrying request to /chat/completions in 0.464363 seconds\n",
      "INFO:httpx:HTTP Request: POST https://api.sambanova.ai/v1/chat/completions \"HTTP/1.1 200 OK\"\n"
     ]
    },
    {
     "name": "stdout",
     "output_type": "stream",
     "text": [
      "⠧ Processed 27 chunks, 311 entities(duplicated), 139 relations(duplicated)\r"
     ]
    },
    {
     "name": "stderr",
     "output_type": "stream",
     "text": [
      "Extracting entities from chunks:  12%|█▏        | 27/217 [00:53<01:52,  1.68chunk/s]INFO:httpx:HTTP Request: POST https://api.sambanova.ai/v1/chat/completions \"HTTP/1.1 429 Too Many Requests\"\n",
      "INFO:httpx:HTTP Request: POST https://api.sambanova.ai/v1/chat/completions \"HTTP/1.1 200 OK\"\n",
      "INFO:httpx:HTTP Request: POST https://api.sambanova.ai/v1/chat/completions \"HTTP/1.1 200 OK\"\n"
     ]
    },
    {
     "name": "stdout",
     "output_type": "stream",
     "text": [
      "⠇ Processed 28 chunks, 319 entities(duplicated), 141 relations(duplicated)\r"
     ]
    },
    {
     "name": "stderr",
     "output_type": "stream",
     "text": [
      "Extracting entities from chunks:  13%|█▎        | 28/217 [00:54<01:40,  1.88chunk/s]INFO:httpx:HTTP Request: POST https://api.sambanova.ai/v1/chat/completions \"HTTP/1.1 429 Too Many Requests\"\n",
      "INFO:openai._base_client:Retrying request to /chat/completions in 0.377736 seconds\n",
      "INFO:httpx:HTTP Request: POST https://api.sambanova.ai/v1/chat/completions \"HTTP/1.1 429 Too Many Requests\"\n",
      "INFO:openai._base_client:Retrying request to /chat/completions in 0.494233 seconds\n",
      "INFO:httpx:HTTP Request: POST https://api.sambanova.ai/v1/chat/completions \"HTTP/1.1 429 Too Many Requests\"\n",
      "INFO:openai._base_client:Retrying request to /chat/completions in 0.498631 seconds\n",
      "INFO:httpx:HTTP Request: POST https://api.sambanova.ai/v1/chat/completions \"HTTP/1.1 429 Too Many Requests\"\n",
      "INFO:openai._base_client:Retrying request to /chat/completions in 0.989845 seconds\n",
      "INFO:httpx:HTTP Request: POST https://api.sambanova.ai/v1/chat/completions \"HTTP/1.1 429 Too Many Requests\"\n",
      "INFO:openai._base_client:Retrying request to /chat/completions in 0.493415 seconds\n",
      "INFO:httpx:HTTP Request: POST https://api.sambanova.ai/v1/chat/completions \"HTTP/1.1 429 Too Many Requests\"\n",
      "INFO:httpx:HTTP Request: POST https://api.sambanova.ai/v1/chat/completions \"HTTP/1.1 429 Too Many Requests\"\n",
      "INFO:httpx:HTTP Request: POST https://api.sambanova.ai/v1/chat/completions \"HTTP/1.1 429 Too Many Requests\"\n",
      "INFO:openai._base_client:Retrying request to /chat/completions in 0.438155 seconds\n",
      "INFO:httpx:HTTP Request: POST https://api.sambanova.ai/v1/chat/completions \"HTTP/1.1 429 Too Many Requests\"\n",
      "INFO:openai._base_client:Retrying request to /chat/completions in 0.993683 seconds\n",
      "INFO:httpx:HTTP Request: POST https://api.sambanova.ai/v1/chat/completions \"HTTP/1.1 429 Too Many Requests\"\n",
      "INFO:openai._base_client:Retrying request to /chat/completions in 0.835856 seconds\n",
      "INFO:httpx:HTTP Request: POST https://api.sambanova.ai/v1/chat/completions \"HTTP/1.1 429 Too Many Requests\"\n",
      "INFO:openai._base_client:Retrying request to /chat/completions in 0.450033 seconds\n",
      "INFO:httpx:HTTP Request: POST https://api.sambanova.ai/v1/chat/completions \"HTTP/1.1 429 Too Many Requests\"\n",
      "INFO:openai._base_client:Retrying request to /chat/completions in 0.830051 seconds\n",
      "INFO:httpx:HTTP Request: POST https://api.sambanova.ai/v1/chat/completions \"HTTP/1.1 429 Too Many Requests\"\n",
      "INFO:openai._base_client:Retrying request to /chat/completions in 0.970059 seconds\n",
      "INFO:httpx:HTTP Request: POST https://api.sambanova.ai/v1/chat/completions \"HTTP/1.1 429 Too Many Requests\"\n",
      "INFO:openai._base_client:Retrying request to /chat/completions in 0.783999 seconds\n",
      "INFO:httpx:HTTP Request: POST https://api.sambanova.ai/v1/chat/completions \"HTTP/1.1 200 OK\"\n"
     ]
    },
    {
     "name": "stdout",
     "output_type": "stream",
     "text": [
      "⠏ Processed 29 chunks, 337 entities(duplicated), 149 relations(duplicated)\r"
     ]
    },
    {
     "name": "stderr",
     "output_type": "stream",
     "text": [
      "Extracting entities from chunks:  13%|█▎        | 29/217 [00:55<02:45,  1.13chunk/s]INFO:httpx:HTTP Request: POST https://api.sambanova.ai/v1/chat/completions \"HTTP/1.1 429 Too Many Requests\"\n",
      "INFO:openai._base_client:Retrying request to /chat/completions in 0.942297 seconds\n",
      "INFO:httpx:HTTP Request: POST https://api.sambanova.ai/v1/chat/completions \"HTTP/1.1 429 Too Many Requests\"\n",
      "INFO:httpx:HTTP Request: POST https://api.sambanova.ai/v1/chat/completions \"HTTP/1.1 429 Too Many Requests\"\n",
      "INFO:httpx:HTTP Request: POST https://api.sambanova.ai/v1/chat/completions \"HTTP/1.1 429 Too Many Requests\"\n",
      "INFO:httpx:HTTP Request: POST https://api.sambanova.ai/v1/chat/completions \"HTTP/1.1 429 Too Many Requests\"\n",
      "INFO:httpx:HTTP Request: POST https://api.sambanova.ai/v1/chat/completions \"HTTP/1.1 429 Too Many Requests\"\n",
      "INFO:openai._base_client:Retrying request to /chat/completions in 0.397267 seconds\n",
      "INFO:httpx:HTTP Request: POST https://api.sambanova.ai/v1/chat/completions \"HTTP/1.1 429 Too Many Requests\"\n",
      "INFO:httpx:HTTP Request: POST https://api.sambanova.ai/v1/chat/completions \"HTTP/1.1 429 Too Many Requests\"\n",
      "INFO:httpx:HTTP Request: POST https://api.sambanova.ai/v1/chat/completions \"HTTP/1.1 429 Too Many Requests\"\n",
      "INFO:httpx:HTTP Request: POST https://api.sambanova.ai/v1/chat/completions \"HTTP/1.1 429 Too Many Requests\"\n",
      "INFO:openai._base_client:Retrying request to /chat/completions in 0.759937 seconds\n",
      "INFO:httpx:HTTP Request: POST https://api.sambanova.ai/v1/chat/completions \"HTTP/1.1 429 Too Many Requests\"\n",
      "INFO:httpx:HTTP Request: POST https://api.sambanova.ai/v1/chat/completions \"HTTP/1.1 200 OK\"\n"
     ]
    },
    {
     "name": "stdout",
     "output_type": "stream",
     "text": [
      "⠋ Processed 30 chunks, 354 entities(duplicated), 158 relations(duplicated)\r"
     ]
    },
    {
     "name": "stderr",
     "output_type": "stream",
     "text": [
      "Extracting entities from chunks:  14%|█▍        | 30/217 [00:59<05:06,  1.64s/chunk]INFO:httpx:HTTP Request: POST https://api.sambanova.ai/v1/chat/completions \"HTTP/1.1 429 Too Many Requests\"\n",
      "INFO:openai._base_client:Retrying request to /chat/completions in 0.415265 seconds\n",
      "INFO:httpx:HTTP Request: POST https://api.sambanova.ai/v1/chat/completions \"HTTP/1.1 200 OK\"\n",
      "INFO:httpx:HTTP Request: POST https://api.sambanova.ai/v1/chat/completions \"HTTP/1.1 429 Too Many Requests\"\n"
     ]
    },
    {
     "name": "stdout",
     "output_type": "stream",
     "text": [
      "⠙ Processed 31 chunks, 369 entities(duplicated), 168 relations(duplicated)\r"
     ]
    },
    {
     "name": "stderr",
     "output_type": "stream",
     "text": [
      "INFO:openai._base_client:Retrying request to /chat/completions in 0.872096 seconds\n",
      "Extracting entities from chunks:  14%|█▍        | 31/217 [01:01<05:14,  1.69s/chunk]INFO:httpx:HTTP Request: POST https://api.sambanova.ai/v1/chat/completions \"HTTP/1.1 429 Too Many Requests\"\n",
      "INFO:openai._base_client:Retrying request to /chat/completions in 0.482310 seconds\n",
      "INFO:httpx:HTTP Request: POST https://api.sambanova.ai/v1/chat/completions \"HTTP/1.1 429 Too Many Requests\"\n",
      "INFO:httpx:HTTP Request: POST https://api.sambanova.ai/v1/chat/completions \"HTTP/1.1 429 Too Many Requests\"\n",
      "INFO:openai._base_client:Retrying request to /chat/completions in 0.752081 seconds\n",
      "INFO:httpx:HTTP Request: POST https://api.sambanova.ai/v1/chat/completions \"HTTP/1.1 429 Too Many Requests\"\n",
      "INFO:httpx:HTTP Request: POST https://api.sambanova.ai/v1/chat/completions \"HTTP/1.1 200 OK\"\n",
      "INFO:httpx:HTTP Request: POST https://api.sambanova.ai/v1/chat/completions \"HTTP/1.1 200 OK\"\n",
      "INFO:httpx:HTTP Request: POST https://api.sambanova.ai/v1/chat/completions \"HTTP/1.1 200 OK\"\n",
      "INFO:httpx:HTTP Request: POST https://api.sambanova.ai/v1/chat/completions \"HTTP/1.1 200 OK\"\n",
      "INFO:httpx:HTTP Request: POST https://api.sambanova.ai/v1/chat/completions \"HTTP/1.1 200 OK\"\n",
      "INFO:httpx:HTTP Request: POST https://api.sambanova.ai/v1/chat/completions \"HTTP/1.1 200 OK\"\n",
      "INFO:httpx:HTTP Request: POST https://api.sambanova.ai/v1/chat/completions \"HTTP/1.1 200 OK\"\n",
      "INFO:httpx:HTTP Request: POST https://api.sambanova.ai/v1/chat/completions \"HTTP/1.1 200 OK\"\n",
      "INFO:httpx:HTTP Request: POST https://api.sambanova.ai/v1/chat/completions \"HTTP/1.1 200 OK\"\n",
      "INFO:httpx:HTTP Request: POST https://api.sambanova.ai/v1/chat/completions \"HTTP/1.1 200 OK\"\n",
      "INFO:httpx:HTTP Request: POST https://api.sambanova.ai/v1/chat/completions \"HTTP/1.1 200 OK\"\n",
      "INFO:httpx:HTTP Request: POST https://api.sambanova.ai/v1/chat/completions \"HTTP/1.1 200 OK\"\n",
      "INFO:httpx:HTTP Request: POST https://api.sambanova.ai/v1/chat/completions \"HTTP/1.1 200 OK\"\n"
     ]
    },
    {
     "name": "stdout",
     "output_type": "stream",
     "text": [
      "⠹ Processed 32 chunks, 377 entities(duplicated), 172 relations(duplicated)\r"
     ]
    },
    {
     "name": "stderr",
     "output_type": "stream",
     "text": [
      "Extracting entities from chunks:  15%|█▍        | 32/217 [02:04<1:02:40, 20.33s/chunk]INFO:httpx:HTTP Request: POST https://api.sambanova.ai/v1/chat/completions \"HTTP/1.1 200 OK\"\n"
     ]
    },
    {
     "name": "stdout",
     "output_type": "stream",
     "text": [
      "⠸ Processed 33 chunks, 387 entities(duplicated), 179 relations(duplicated)\r"
     ]
    },
    {
     "name": "stderr",
     "output_type": "stream",
     "text": [
      "Extracting entities from chunks:  15%|█▌        | 33/217 [02:05<44:10, 14.41s/chunk]  INFO:httpx:HTTP Request: POST https://api.sambanova.ai/v1/chat/completions \"HTTP/1.1 200 OK\"\n"
     ]
    },
    {
     "name": "stdout",
     "output_type": "stream",
     "text": [
      "⠼ Processed 34 chunks, 390 entities(duplicated), 179 relations(duplicated)\r"
     ]
    },
    {
     "name": "stderr",
     "output_type": "stream",
     "text": [
      "Extracting entities from chunks:  16%|█▌        | 34/217 [02:05<30:55, 10.14s/chunk]INFO:httpx:HTTP Request: POST https://api.sambanova.ai/v1/chat/completions \"HTTP/1.1 200 OK\"\n"
     ]
    },
    {
     "name": "stdout",
     "output_type": "stream",
     "text": [
      "⠴ Processed 35 chunks, 405 entities(duplicated), 188 relations(duplicated)\r"
     ]
    },
    {
     "name": "stderr",
     "output_type": "stream",
     "text": [
      "Extracting entities from chunks:  16%|█▌        | 35/217 [02:07<23:13,  7.66s/chunk]INFO:httpx:HTTP Request: POST https://api.sambanova.ai/v1/chat/completions \"HTTP/1.1 200 OK\"\n"
     ]
    },
    {
     "name": "stdout",
     "output_type": "stream",
     "text": [
      "⠦ Processed 36 chunks, 418 entities(duplicated), 195 relations(duplicated)\r"
     ]
    },
    {
     "name": "stderr",
     "output_type": "stream",
     "text": [
      "Extracting entities from chunks:  17%|█▋        | 36/217 [02:08<16:55,  5.61s/chunk]INFO:httpx:HTTP Request: POST https://api.sambanova.ai/v1/chat/completions \"HTTP/1.1 200 OK\"\n"
     ]
    },
    {
     "name": "stdout",
     "output_type": "stream",
     "text": [
      "⠧ Processed 37 chunks, 430 entities(duplicated), 203 relations(duplicated)\r"
     ]
    },
    {
     "name": "stderr",
     "output_type": "stream",
     "text": [
      "INFO:httpx:HTTP Request: POST https://api.sambanova.ai/v1/chat/completions \"HTTP/1.1 200 OK\"\n"
     ]
    },
    {
     "name": "stdout",
     "output_type": "stream",
     "text": [
      "⠇ Processed 38 chunks, 449 entities(duplicated), 214 relations(duplicated)\r"
     ]
    },
    {
     "name": "stderr",
     "output_type": "stream",
     "text": [
      "Extracting entities from chunks:  18%|█▊        | 38/217 [02:09<09:49,  3.30s/chunk]INFO:httpx:HTTP Request: POST https://api.sambanova.ai/v1/chat/completions \"HTTP/1.1 200 OK\"\n"
     ]
    },
    {
     "name": "stdout",
     "output_type": "stream",
     "text": [
      "⠏ Processed 39 chunks, 459 entities(duplicated), 221 relations(duplicated)\r"
     ]
    },
    {
     "name": "stderr",
     "output_type": "stream",
     "text": [
      "Extracting entities from chunks:  18%|█▊        | 39/217 [02:09<07:27,  2.52s/chunk]INFO:httpx:HTTP Request: POST https://api.sambanova.ai/v1/chat/completions \"HTTP/1.1 200 OK\"\n",
      "INFO:httpx:HTTP Request: POST https://api.sambanova.ai/v1/chat/completions \"HTTP/1.1 200 OK\"\n"
     ]
    },
    {
     "name": "stdout",
     "output_type": "stream",
     "text": [
      "⠋ Processed 40 chunks, 470 entities(duplicated), 224 relations(duplicated)\r"
     ]
    },
    {
     "name": "stderr",
     "output_type": "stream",
     "text": [
      "Extracting entities from chunks:  18%|█▊        | 40/217 [02:09<05:35,  1.89s/chunk]INFO:httpx:HTTP Request: POST https://api.sambanova.ai/v1/chat/completions \"HTTP/1.1 200 OK\"\n",
      "INFO:httpx:HTTP Request: POST https://api.sambanova.ai/v1/chat/completions \"HTTP/1.1 200 OK\"\n",
      "INFO:httpx:HTTP Request: POST https://api.sambanova.ai/v1/chat/completions \"HTTP/1.1 200 OK\"\n"
     ]
    },
    {
     "name": "stdout",
     "output_type": "stream",
     "text": [
      "⠙ Processed 41 chunks, 479 entities(duplicated), 231 relations(duplicated)\r"
     ]
    },
    {
     "name": "stderr",
     "output_type": "stream",
     "text": [
      "Extracting entities from chunks:  19%|█▉        | 41/217 [02:14<07:29,  2.56s/chunk]INFO:httpx:HTTP Request: POST https://api.sambanova.ai/v1/chat/completions \"HTTP/1.1 200 OK\"\n",
      "INFO:httpx:HTTP Request: POST https://api.sambanova.ai/v1/chat/completions \"HTTP/1.1 200 OK\"\n"
     ]
    },
    {
     "name": "stdout",
     "output_type": "stream",
     "text": [
      "⠹ Processed 42 chunks, 490 entities(duplicated), 239 relations(duplicated)\r"
     ]
    },
    {
     "name": "stderr",
     "output_type": "stream",
     "text": [
      "Extracting entities from chunks:  19%|█▉        | 42/217 [02:16<06:51,  2.35s/chunk]INFO:httpx:HTTP Request: POST https://api.sambanova.ai/v1/chat/completions \"HTTP/1.1 200 OK\"\n",
      "INFO:httpx:HTTP Request: POST https://api.sambanova.ai/v1/chat/completions \"HTTP/1.1 429 Too Many Requests\"\n",
      "INFO:httpx:HTTP Request: POST https://api.sambanova.ai/v1/chat/completions \"HTTP/1.1 429 Too Many Requests\"\n",
      "INFO:openai._base_client:Retrying request to /chat/completions in 0.395812 seconds\n",
      "INFO:openai._base_client:Retrying request to /chat/completions in 0.393655 seconds\n",
      "INFO:httpx:HTTP Request: POST https://api.sambanova.ai/v1/chat/completions \"HTTP/1.1 429 Too Many Requests\"\n",
      "INFO:openai._base_client:Retrying request to /chat/completions in 0.990306 seconds\n",
      "INFO:httpx:HTTP Request: POST https://api.sambanova.ai/v1/chat/completions \"HTTP/1.1 429 Too Many Requests\"\n",
      "INFO:openai._base_client:Retrying request to /chat/completions in 0.825294 seconds\n",
      "INFO:httpx:HTTP Request: POST https://api.sambanova.ai/v1/chat/completions \"HTTP/1.1 200 OK\"\n",
      "INFO:httpx:HTTP Request: POST https://api.sambanova.ai/v1/chat/completions \"HTTP/1.1 429 Too Many Requests\"\n",
      "INFO:httpx:HTTP Request: POST https://api.sambanova.ai/v1/chat/completions \"HTTP/1.1 429 Too Many Requests\"\n",
      "INFO:httpx:HTTP Request: POST https://api.sambanova.ai/v1/chat/completions \"HTTP/1.1 429 Too Many Requests\"\n",
      "INFO:openai._base_client:Retrying request to /chat/completions in 0.402206 seconds\n",
      "INFO:httpx:HTTP Request: POST https://api.sambanova.ai/v1/chat/completions \"HTTP/1.1 200 OK\"\n",
      "INFO:httpx:HTTP Request: POST https://api.sambanova.ai/v1/chat/completions \"HTTP/1.1 429 Too Many Requests\"\n",
      "INFO:openai._base_client:Retrying request to /chat/completions in 0.864883 seconds\n",
      "INFO:httpx:HTTP Request: POST https://api.sambanova.ai/v1/chat/completions \"HTTP/1.1 200 OK\"\n",
      "INFO:httpx:HTTP Request: POST https://api.sambanova.ai/v1/chat/completions \"HTTP/1.1 429 Too Many Requests\"\n",
      "INFO:openai._base_client:Retrying request to /chat/completions in 0.474185 seconds\n",
      "INFO:httpx:HTTP Request: POST https://api.sambanova.ai/v1/chat/completions \"HTTP/1.1 200 OK\"\n",
      "INFO:httpx:HTTP Request: POST https://api.sambanova.ai/v1/chat/completions \"HTTP/1.1 429 Too Many Requests\"\n",
      "INFO:httpx:HTTP Request: POST https://api.sambanova.ai/v1/chat/completions \"HTTP/1.1 429 Too Many Requests\"\n",
      "INFO:openai._base_client:Retrying request to /chat/completions in 0.438162 seconds\n",
      "INFO:httpx:HTTP Request: POST https://api.sambanova.ai/v1/chat/completions \"HTTP/1.1 429 Too Many Requests\"\n",
      "INFO:openai._base_client:Retrying request to /chat/completions in 0.991767 seconds\n",
      "INFO:httpx:HTTP Request: POST https://api.sambanova.ai/v1/chat/completions \"HTTP/1.1 200 OK\"\n",
      "INFO:httpx:HTTP Request: POST https://api.sambanova.ai/v1/chat/completions \"HTTP/1.1 429 Too Many Requests\"\n",
      "INFO:openai._base_client:Retrying request to /chat/completions in 0.851408 seconds\n",
      "INFO:httpx:HTTP Request: POST https://api.sambanova.ai/v1/chat/completions \"HTTP/1.1 429 Too Many Requests\"\n",
      "INFO:openai._base_client:Retrying request to /chat/completions in 0.488596 seconds\n",
      "INFO:httpx:HTTP Request: POST https://api.sambanova.ai/v1/chat/completions \"HTTP/1.1 200 OK\"\n"
     ]
    },
    {
     "name": "stdout",
     "output_type": "stream",
     "text": [
      "⠸ Processed 43 chunks, 508 entities(duplicated), 256 relations(duplicated)\r"
     ]
    },
    {
     "name": "stderr",
     "output_type": "stream",
     "text": [
      "Extracting entities from chunks:  20%|█▉        | 43/217 [02:23<10:37,  3.67s/chunk]INFO:httpx:HTTP Request: POST https://api.sambanova.ai/v1/chat/completions \"HTTP/1.1 429 Too Many Requests\"\n",
      "INFO:httpx:HTTP Request: POST https://api.sambanova.ai/v1/chat/completions \"HTTP/1.1 200 OK\"\n",
      "INFO:httpx:HTTP Request: POST https://api.sambanova.ai/v1/chat/completions \"HTTP/1.1 429 Too Many Requests\"\n",
      "INFO:openai._base_client:Retrying request to /chat/completions in 0.447848 seconds\n",
      "INFO:httpx:HTTP Request: POST https://api.sambanova.ai/v1/chat/completions \"HTTP/1.1 429 Too Many Requests\"\n",
      "INFO:openai._base_client:Retrying request to /chat/completions in 0.910003 seconds\n",
      "INFO:httpx:HTTP Request: POST https://api.sambanova.ai/v1/chat/completions \"HTTP/1.1 429 Too Many Requests\"\n",
      "INFO:httpx:HTTP Request: POST https://api.sambanova.ai/v1/chat/completions \"HTTP/1.1 429 Too Many Requests\"\n",
      "INFO:openai._base_client:Retrying request to /chat/completions in 0.383960 seconds\n",
      "INFO:httpx:HTTP Request: POST https://api.sambanova.ai/v1/chat/completions \"HTTP/1.1 429 Too Many Requests\"\n",
      "INFO:openai._base_client:Retrying request to /chat/completions in 0.841026 seconds\n",
      "INFO:httpx:HTTP Request: POST https://api.sambanova.ai/v1/chat/completions \"HTTP/1.1 429 Too Many Requests\"\n",
      "INFO:openai._base_client:Retrying request to /chat/completions in 0.477832 seconds\n",
      "INFO:httpx:HTTP Request: POST https://api.sambanova.ai/v1/chat/completions \"HTTP/1.1 429 Too Many Requests\"\n",
      "INFO:httpx:HTTP Request: POST https://api.sambanova.ai/v1/chat/completions \"HTTP/1.1 429 Too Many Requests\"\n",
      "INFO:openai._base_client:Retrying request to /chat/completions in 0.776523 seconds\n",
      "INFO:httpx:HTTP Request: POST https://api.sambanova.ai/v1/chat/completions \"HTTP/1.1 429 Too Many Requests\"\n",
      "INFO:openai._base_client:Retrying request to /chat/completions in 0.771230 seconds\n",
      "INFO:httpx:HTTP Request: POST https://api.sambanova.ai/v1/chat/completions \"HTTP/1.1 429 Too Many Requests\"\n",
      "INFO:httpx:HTTP Request: POST https://api.sambanova.ai/v1/chat/completions \"HTTP/1.1 200 OK\"\n"
     ]
    },
    {
     "name": "stdout",
     "output_type": "stream",
     "text": [
      "⠼ Processed 44 chunks, 519 entities(duplicated), 256 relations(duplicated)\r"
     ]
    },
    {
     "name": "stderr",
     "output_type": "stream",
     "text": [
      "Extracting entities from chunks:  20%|██        | 44/217 [02:25<09:28,  3.29s/chunk]INFO:httpx:HTTP Request: POST https://api.sambanova.ai/v1/chat/completions \"HTTP/1.1 429 Too Many Requests\"\n",
      "INFO:httpx:HTTP Request: POST https://api.sambanova.ai/v1/chat/completions \"HTTP/1.1 429 Too Many Requests\"\n",
      "INFO:httpx:HTTP Request: POST https://api.sambanova.ai/v1/chat/completions \"HTTP/1.1 429 Too Many Requests\"\n",
      "INFO:openai._base_client:Retrying request to /chat/completions in 0.440575 seconds\n",
      "INFO:httpx:HTTP Request: POST https://api.sambanova.ai/v1/chat/completions \"HTTP/1.1 429 Too Many Requests\"\n",
      "INFO:openai._base_client:Retrying request to /chat/completions in 0.999997 seconds\n",
      "INFO:httpx:HTTP Request: POST https://api.sambanova.ai/v1/chat/completions \"HTTP/1.1 200 OK\"\n"
     ]
    },
    {
     "name": "stdout",
     "output_type": "stream",
     "text": [
      "⠴ Processed 45 chunks, 536 entities(duplicated), 266 relations(duplicated)\r"
     ]
    },
    {
     "name": "stderr",
     "output_type": "stream",
     "text": [
      "Extracting entities from chunks:  21%|██        | 45/217 [02:27<08:22,  2.92s/chunk]INFO:httpx:HTTP Request: POST https://api.sambanova.ai/v1/chat/completions \"HTTP/1.1 200 OK\"\n",
      "INFO:httpx:HTTP Request: POST https://api.sambanova.ai/v1/chat/completions \"HTTP/1.1 429 Too Many Requests\"\n",
      "INFO:httpx:HTTP Request: POST https://api.sambanova.ai/v1/chat/completions \"HTTP/1.1 429 Too Many Requests\"\n",
      "INFO:openai._base_client:Retrying request to /chat/completions in 0.486619 seconds\n",
      "INFO:httpx:HTTP Request: POST https://api.sambanova.ai/v1/chat/completions \"HTTP/1.1 429 Too Many Requests\"\n",
      "INFO:openai._base_client:Retrying request to /chat/completions in 0.492807 seconds\n",
      "INFO:httpx:HTTP Request: POST https://api.sambanova.ai/v1/chat/completions \"HTTP/1.1 429 Too Many Requests\"\n",
      "INFO:openai._base_client:Retrying request to /chat/completions in 0.894421 seconds\n",
      "INFO:httpx:HTTP Request: POST https://api.sambanova.ai/v1/chat/completions \"HTTP/1.1 200 OK\"\n"
     ]
    },
    {
     "name": "stdout",
     "output_type": "stream",
     "text": [
      "⠦ Processed 46 chunks, 563 entities(duplicated), 287 relations(duplicated)\r"
     ]
    },
    {
     "name": "stderr",
     "output_type": "stream",
     "text": [
      "Extracting entities from chunks:  21%|██        | 46/217 [02:29<07:44,  2.72s/chunk]INFO:httpx:HTTP Request: POST https://api.sambanova.ai/v1/chat/completions \"HTTP/1.1 429 Too Many Requests\"\n",
      "INFO:openai._base_client:Retrying request to /chat/completions in 0.966942 seconds\n",
      "INFO:httpx:HTTP Request: POST https://api.sambanova.ai/v1/chat/completions \"HTTP/1.1 429 Too Many Requests\"\n",
      "INFO:openai._base_client:Retrying request to /chat/completions in 0.380601 seconds\n",
      "INFO:httpx:HTTP Request: POST https://api.sambanova.ai/v1/chat/completions \"HTTP/1.1 429 Too Many Requests\"\n",
      "INFO:httpx:HTTP Request: POST https://api.sambanova.ai/v1/chat/completions \"HTTP/1.1 200 OK\"\n"
     ]
    },
    {
     "name": "stdout",
     "output_type": "stream",
     "text": [
      "⠧ Processed 47 chunks, 569 entities(duplicated), 291 relations(duplicated)\r"
     ]
    },
    {
     "name": "stderr",
     "output_type": "stream",
     "text": [
      "Extracting entities from chunks:  22%|██▏       | 47/217 [02:31<06:34,  2.32s/chunk]INFO:httpx:HTTP Request: POST https://api.sambanova.ai/v1/chat/completions \"HTTP/1.1 200 OK\"\n"
     ]
    },
    {
     "name": "stdout",
     "output_type": "stream",
     "text": [
      "⠇ Processed 48 chunks, 578 entities(duplicated), 291 relations(duplicated)\r"
     ]
    },
    {
     "name": "stderr",
     "output_type": "stream",
     "text": [
      "INFO:httpx:HTTP Request: POST https://api.sambanova.ai/v1/chat/completions \"HTTP/1.1 429 Too Many Requests\"\n",
      "INFO:httpx:HTTP Request: POST https://api.sambanova.ai/v1/chat/completions \"HTTP/1.1 429 Too Many Requests\"\n",
      "INFO:openai._base_client:Retrying request to /chat/completions in 0.982596 seconds\n",
      "INFO:httpx:HTTP Request: POST https://api.sambanova.ai/v1/chat/completions \"HTTP/1.1 429 Too Many Requests\"\n",
      "INFO:openai._base_client:Retrying request to /chat/completions in 0.412858 seconds\n",
      "INFO:httpx:HTTP Request: POST https://api.sambanova.ai/v1/chat/completions \"HTTP/1.1 429 Too Many Requests\"\n",
      "INFO:openai._base_client:Retrying request to /chat/completions in 0.481292 seconds\n",
      "INFO:httpx:HTTP Request: POST https://api.sambanova.ai/v1/chat/completions \"HTTP/1.1 429 Too Many Requests\"\n",
      "INFO:openai._base_client:Retrying request to /chat/completions in 0.995277 seconds\n",
      "INFO:httpx:HTTP Request: POST https://api.sambanova.ai/v1/chat/completions \"HTTP/1.1 429 Too Many Requests\"\n",
      "INFO:httpx:HTTP Request: POST https://api.sambanova.ai/v1/chat/completions \"HTTP/1.1 429 Too Many Requests\"\n",
      "INFO:openai._base_client:Retrying request to /chat/completions in 0.867768 seconds\n",
      "INFO:httpx:HTTP Request: POST https://api.sambanova.ai/v1/chat/completions \"HTTP/1.1 429 Too Many Requests\"\n",
      "INFO:httpx:HTTP Request: POST https://api.sambanova.ai/v1/chat/completions \"HTTP/1.1 429 Too Many Requests\"\n",
      "INFO:httpx:HTTP Request: POST https://api.sambanova.ai/v1/chat/completions \"HTTP/1.1 200 OK\"\n"
     ]
    },
    {
     "name": "stdout",
     "output_type": "stream",
     "text": [
      "⠏ Processed 49 chunks, 590 entities(duplicated), 301 relations(duplicated)\r"
     ]
    },
    {
     "name": "stderr",
     "output_type": "stream",
     "text": [
      "Extracting entities from chunks:  23%|██▎       | 49/217 [02:36<06:56,  2.48s/chunk]INFO:httpx:HTTP Request: POST https://api.sambanova.ai/v1/chat/completions \"HTTP/1.1 429 Too Many Requests\"\n",
      "INFO:openai._base_client:Retrying request to /chat/completions in 0.424515 seconds\n",
      "INFO:httpx:HTTP Request: POST https://api.sambanova.ai/v1/chat/completions \"HTTP/1.1 429 Too Many Requests\"\n",
      "INFO:openai._base_client:Retrying request to /chat/completions in 0.765755 seconds\n",
      "INFO:httpx:HTTP Request: POST https://api.sambanova.ai/v1/chat/completions \"HTTP/1.1 429 Too Many Requests\"\n",
      "INFO:httpx:HTTP Request: POST https://api.sambanova.ai/v1/chat/completions \"HTTP/1.1 200 OK\"\n",
      "INFO:httpx:HTTP Request: POST https://api.sambanova.ai/v1/chat/completions \"HTTP/1.1 200 OK\"\n"
     ]
    },
    {
     "name": "stdout",
     "output_type": "stream",
     "text": [
      "⠋ Processed 50 chunks, 600 entities(duplicated), 310 relations(duplicated)\r"
     ]
    },
    {
     "name": "stderr",
     "output_type": "stream",
     "text": [
      "Extracting entities from chunks:  23%|██▎       | 50/217 [03:30<42:11, 15.16s/chunk]INFO:httpx:HTTP Request: POST https://api.sambanova.ai/v1/chat/completions \"HTTP/1.1 200 OK\"\n"
     ]
    },
    {
     "name": "stdout",
     "output_type": "stream",
     "text": [
      "⠙ Processed 51 chunks, 611 entities(duplicated), 316 relations(duplicated)\r"
     ]
    },
    {
     "name": "stderr",
     "output_type": "stream",
     "text": [
      "Extracting entities from chunks:  24%|██▎       | 51/217 [03:30<31:05, 11.24s/chunk]INFO:httpx:HTTP Request: POST https://api.sambanova.ai/v1/chat/completions \"HTTP/1.1 200 OK\"\n"
     ]
    },
    {
     "name": "stdout",
     "output_type": "stream",
     "text": [
      "⠹ Processed 52 chunks, 626 entities(duplicated), 316 relations(duplicated)\r"
     ]
    },
    {
     "name": "stderr",
     "output_type": "stream",
     "text": [
      "Extracting entities from chunks:  24%|██▍       | 52/217 [03:30<22:35,  8.22s/chunk]INFO:httpx:HTTP Request: POST https://api.sambanova.ai/v1/chat/completions \"HTTP/1.1 200 OK\"\n"
     ]
    },
    {
     "name": "stdout",
     "output_type": "stream",
     "text": [
      "⠸ Processed 53 chunks, 633 entities(duplicated), 319 relations(duplicated)\r"
     ]
    },
    {
     "name": "stderr",
     "output_type": "stream",
     "text": [
      "Extracting entities from chunks:  24%|██▍       | 53/217 [03:31<16:41,  6.11s/chunk]INFO:httpx:HTTP Request: POST https://api.sambanova.ai/v1/chat/completions \"HTTP/1.1 200 OK\"\n",
      "INFO:httpx:HTTP Request: POST https://api.sambanova.ai/v1/chat/completions \"HTTP/1.1 200 OK\"\n",
      "INFO:httpx:HTTP Request: POST https://api.sambanova.ai/v1/chat/completions \"HTTP/1.1 200 OK\"\n"
     ]
    },
    {
     "name": "stdout",
     "output_type": "stream",
     "text": [
      "⠼ Processed 54 chunks, 656 entities(duplicated), 327 relations(duplicated)\r"
     ]
    },
    {
     "name": "stderr",
     "output_type": "stream",
     "text": [
      "Extracting entities from chunks:  25%|██▍       | 54/217 [03:36<16:03,  5.91s/chunk]INFO:httpx:HTTP Request: POST https://api.sambanova.ai/v1/chat/completions \"HTTP/1.1 200 OK\"\n"
     ]
    },
    {
     "name": "stdout",
     "output_type": "stream",
     "text": [
      "⠴ Processed 55 chunks, 661 entities(duplicated), 331 relations(duplicated)\r"
     ]
    },
    {
     "name": "stderr",
     "output_type": "stream",
     "text": [
      "Extracting entities from chunks:  25%|██▌       | 55/217 [03:37<12:20,  4.57s/chunk]INFO:httpx:HTTP Request: POST https://api.sambanova.ai/v1/chat/completions \"HTTP/1.1 200 OK\"\n",
      "INFO:httpx:HTTP Request: POST https://api.sambanova.ai/v1/chat/completions \"HTTP/1.1 200 OK\"\n",
      "INFO:httpx:HTTP Request: POST https://api.sambanova.ai/v1/chat/completions \"HTTP/1.1 200 OK\"\n",
      "INFO:httpx:HTTP Request: POST https://api.sambanova.ai/v1/chat/completions \"HTTP/1.1 200 OK\"\n",
      "INFO:httpx:HTTP Request: POST https://api.sambanova.ai/v1/chat/completions \"HTTP/1.1 200 OK\"\n",
      "INFO:httpx:HTTP Request: POST https://api.sambanova.ai/v1/chat/completions \"HTTP/1.1 200 OK\"\n"
     ]
    },
    {
     "name": "stdout",
     "output_type": "stream",
     "text": [
      "⠦ Processed 56 chunks, 676 entities(duplicated), 342 relations(duplicated)\r"
     ]
    },
    {
     "name": "stderr",
     "output_type": "stream",
     "text": [
      "Extracting entities from chunks:  26%|██▌       | 56/217 [03:40<10:28,  3.90s/chunk]INFO:httpx:HTTP Request: POST https://api.sambanova.ai/v1/chat/completions \"HTTP/1.1 200 OK\"\n",
      "INFO:httpx:HTTP Request: POST https://api.sambanova.ai/v1/chat/completions \"HTTP/1.1 200 OK\"\n"
     ]
    },
    {
     "name": "stdout",
     "output_type": "stream",
     "text": [
      "⠧ Processed 57 chunks, 683 entities(duplicated), 346 relations(duplicated)\r"
     ]
    },
    {
     "name": "stderr",
     "output_type": "stream",
     "text": [
      "Extracting entities from chunks:  26%|██▋       | 57/217 [03:41<08:33,  3.21s/chunk]INFO:httpx:HTTP Request: POST https://api.sambanova.ai/v1/chat/completions \"HTTP/1.1 200 OK\"\n",
      "INFO:httpx:HTTP Request: POST https://api.sambanova.ai/v1/chat/completions \"HTTP/1.1 200 OK\"\n",
      "INFO:httpx:HTTP Request: POST https://api.sambanova.ai/v1/chat/completions \"HTTP/1.1 200 OK\"\n"
     ]
    },
    {
     "name": "stdout",
     "output_type": "stream",
     "text": [
      "⠇ Processed 58 chunks, 696 entities(duplicated), 353 relations(duplicated)\r"
     ]
    },
    {
     "name": "stderr",
     "output_type": "stream",
     "text": [
      "Extracting entities from chunks:  27%|██▋       | 58/217 [03:42<06:39,  2.51s/chunk]INFO:httpx:HTTP Request: POST https://api.sambanova.ai/v1/chat/completions \"HTTP/1.1 200 OK\"\n",
      "INFO:httpx:HTTP Request: POST https://api.sambanova.ai/v1/chat/completions \"HTTP/1.1 200 OK\"\n"
     ]
    },
    {
     "name": "stdout",
     "output_type": "stream",
     "text": [
      "⠏ Processed 59 chunks, 710 entities(duplicated), 360 relations(duplicated)\r"
     ]
    },
    {
     "name": "stderr",
     "output_type": "stream",
     "text": [
      "Extracting entities from chunks:  27%|██▋       | 59/217 [03:42<04:53,  1.86s/chunk]INFO:httpx:HTTP Request: POST https://api.sambanova.ai/v1/chat/completions \"HTTP/1.1 200 OK\"\n",
      "INFO:httpx:HTTP Request: POST https://api.sambanova.ai/v1/chat/completions \"HTTP/1.1 200 OK\"\n"
     ]
    },
    {
     "name": "stdout",
     "output_type": "stream",
     "text": [
      "⠋ Processed 60 chunks, 718 entities(duplicated), 363 relations(duplicated)\r"
     ]
    },
    {
     "name": "stderr",
     "output_type": "stream",
     "text": [
      "Extracting entities from chunks:  28%|██▊       | 60/217 [03:43<04:11,  1.60s/chunk]INFO:httpx:HTTP Request: POST https://api.sambanova.ai/v1/chat/completions \"HTTP/1.1 200 OK\"\n",
      "INFO:httpx:HTTP Request: POST https://api.sambanova.ai/v1/chat/completions \"HTTP/1.1 200 OK\"\n",
      "INFO:httpx:HTTP Request: POST https://api.sambanova.ai/v1/chat/completions \"HTTP/1.1 200 OK\"\n",
      "INFO:httpx:HTTP Request: POST https://api.sambanova.ai/v1/chat/completions \"HTTP/1.1 200 OK\"\n",
      "INFO:httpx:HTTP Request: POST https://api.sambanova.ai/v1/chat/completions \"HTTP/1.1 200 OK\"\n",
      "INFO:httpx:HTTP Request: POST https://api.sambanova.ai/v1/chat/completions \"HTTP/1.1 200 OK\"\n"
     ]
    },
    {
     "name": "stdout",
     "output_type": "stream",
     "text": [
      "⠙ Processed 61 chunks, 729 entities(duplicated), 370 relations(duplicated)\r"
     ]
    },
    {
     "name": "stderr",
     "output_type": "stream",
     "text": [
      "Extracting entities from chunks:  28%|██▊       | 61/217 [03:48<06:43,  2.59s/chunk]INFO:httpx:HTTP Request: POST https://api.sambanova.ai/v1/chat/completions \"HTTP/1.1 429 Too Many Requests\"\n",
      "INFO:openai._base_client:Retrying request to /chat/completions in 0.463319 seconds\n",
      "INFO:httpx:HTTP Request: POST https://api.sambanova.ai/v1/chat/completions \"HTTP/1.1 200 OK\"\n"
     ]
    },
    {
     "name": "stdout",
     "output_type": "stream",
     "text": [
      "⠹ Processed 62 chunks, 743 entities(duplicated), 375 relations(duplicated)\r"
     ]
    },
    {
     "name": "stderr",
     "output_type": "stream",
     "text": [
      "Extracting entities from chunks:  29%|██▊       | 62/217 [03:49<05:05,  1.97s/chunk]INFO:httpx:HTTP Request: POST https://api.sambanova.ai/v1/chat/completions \"HTTP/1.1 429 Too Many Requests\"\n",
      "INFO:openai._base_client:Retrying request to /chat/completions in 0.426325 seconds\n",
      "INFO:httpx:HTTP Request: POST https://api.sambanova.ai/v1/chat/completions \"HTTP/1.1 429 Too Many Requests\"\n",
      "INFO:openai._base_client:Retrying request to /chat/completions in 0.802078 seconds\n",
      "INFO:httpx:HTTP Request: POST https://api.sambanova.ai/v1/chat/completions \"HTTP/1.1 429 Too Many Requests\"\n",
      "INFO:openai._base_client:Retrying request to /chat/completions in 0.422382 seconds\n",
      "INFO:httpx:HTTP Request: POST https://api.sambanova.ai/v1/chat/completions \"HTTP/1.1 429 Too Many Requests\"\n",
      "INFO:openai._base_client:Retrying request to /chat/completions in 0.496569 seconds\n",
      "INFO:httpx:HTTP Request: POST https://api.sambanova.ai/v1/chat/completions \"HTTP/1.1 429 Too Many Requests\"\n",
      "INFO:openai._base_client:Retrying request to /chat/completions in 0.885088 seconds\n",
      "INFO:httpx:HTTP Request: POST https://api.sambanova.ai/v1/chat/completions \"HTTP/1.1 429 Too Many Requests\"\n",
      "INFO:openai._base_client:Retrying request to /chat/completions in 0.476131 seconds\n",
      "INFO:httpx:HTTP Request: POST https://api.sambanova.ai/v1/chat/completions \"HTTP/1.1 200 OK\"\n"
     ]
    },
    {
     "name": "stdout",
     "output_type": "stream",
     "text": [
      "⠸ Processed 63 chunks, 764 entities(duplicated), 375 relations(duplicated)\r"
     ]
    },
    {
     "name": "stderr",
     "output_type": "stream",
     "text": [
      "Extracting entities from chunks:  29%|██▉       | 63/217 [03:50<04:27,  1.74s/chunk]INFO:httpx:HTTP Request: POST https://api.sambanova.ai/v1/chat/completions \"HTTP/1.1 429 Too Many Requests\"\n",
      "INFO:openai._base_client:Retrying request to /chat/completions in 0.915238 seconds\n",
      "INFO:httpx:HTTP Request: POST https://api.sambanova.ai/v1/chat/completions \"HTTP/1.1 429 Too Many Requests\"\n",
      "INFO:openai._base_client:Retrying request to /chat/completions in 0.898928 seconds\n",
      "INFO:httpx:HTTP Request: POST https://api.sambanova.ai/v1/chat/completions \"HTTP/1.1 429 Too Many Requests\"\n",
      "INFO:httpx:HTTP Request: POST https://api.sambanova.ai/v1/chat/completions \"HTTP/1.1 429 Too Many Requests\"\n",
      "INFO:openai._base_client:Retrying request to /chat/completions in 0.874612 seconds\n",
      "INFO:httpx:HTTP Request: POST https://api.sambanova.ai/v1/chat/completions \"HTTP/1.1 200 OK\"\n",
      "INFO:httpx:HTTP Request: POST https://api.sambanova.ai/v1/chat/completions \"HTTP/1.1 429 Too Many Requests\"\n",
      "INFO:httpx:HTTP Request: POST https://api.sambanova.ai/v1/chat/completions \"HTTP/1.1 429 Too Many Requests\"\n",
      "INFO:openai._base_client:Retrying request to /chat/completions in 0.379200 seconds\n",
      "INFO:httpx:HTTP Request: POST https://api.sambanova.ai/v1/chat/completions \"HTTP/1.1 200 OK\"\n"
     ]
    },
    {
     "name": "stdout",
     "output_type": "stream",
     "text": [
      "⠼ Processed 64 chunks, 775 entities(duplicated), 375 relations(duplicated)\r"
     ]
    },
    {
     "name": "stderr",
     "output_type": "stream",
     "text": [
      "Extracting entities from chunks:  29%|██▉       | 64/217 [03:51<03:59,  1.56s/chunk]INFO:httpx:HTTP Request: POST https://api.sambanova.ai/v1/chat/completions \"HTTP/1.1 429 Too Many Requests\"\n",
      "INFO:httpx:HTTP Request: POST https://api.sambanova.ai/v1/chat/completions \"HTTP/1.1 200 OK\"\n"
     ]
    },
    {
     "name": "stdout",
     "output_type": "stream",
     "text": [
      "⠴ Processed 65 chunks, 780 entities(duplicated), 377 relations(duplicated)\r"
     ]
    },
    {
     "name": "stderr",
     "output_type": "stream",
     "text": [
      "Extracting entities from chunks:  30%|██▉       | 65/217 [03:51<02:59,  1.18s/chunk]INFO:httpx:HTTP Request: POST https://api.sambanova.ai/v1/chat/completions \"HTTP/1.1 429 Too Many Requests\"\n",
      "INFO:httpx:HTTP Request: POST https://api.sambanova.ai/v1/chat/completions \"HTTP/1.1 429 Too Many Requests\"\n",
      "INFO:openai._base_client:Retrying request to /chat/completions in 0.844972 seconds\n",
      "INFO:httpx:HTTP Request: POST https://api.sambanova.ai/v1/chat/completions \"HTTP/1.1 429 Too Many Requests\"\n",
      "INFO:httpx:HTTP Request: POST https://api.sambanova.ai/v1/chat/completions \"HTTP/1.1 429 Too Many Requests\"\n",
      "INFO:openai._base_client:Retrying request to /chat/completions in 0.480813 seconds\n",
      "INFO:httpx:HTTP Request: POST https://api.sambanova.ai/v1/chat/completions \"HTTP/1.1 200 OK\"\n"
     ]
    },
    {
     "name": "stdout",
     "output_type": "stream",
     "text": [
      "⠦ Processed 66 chunks, 791 entities(duplicated), 384 relations(duplicated)\r"
     ]
    },
    {
     "name": "stderr",
     "output_type": "stream",
     "text": [
      "Extracting entities from chunks:  30%|███       | 66/217 [03:52<02:39,  1.05s/chunk]INFO:httpx:HTTP Request: POST https://api.sambanova.ai/v1/chat/completions \"HTTP/1.1 429 Too Many Requests\"\n",
      "INFO:openai._base_client:Retrying request to /chat/completions in 0.390592 seconds\n",
      "INFO:httpx:HTTP Request: POST https://api.sambanova.ai/v1/chat/completions \"HTTP/1.1 429 Too Many Requests\"\n",
      "INFO:openai._base_client:Retrying request to /chat/completions in 0.449099 seconds\n",
      "INFO:httpx:HTTP Request: POST https://api.sambanova.ai/v1/chat/completions \"HTTP/1.1 429 Too Many Requests\"\n",
      "INFO:openai._base_client:Retrying request to /chat/completions in 0.907206 seconds\n",
      "INFO:httpx:HTTP Request: POST https://api.sambanova.ai/v1/chat/completions \"HTTP/1.1 429 Too Many Requests\"\n",
      "INFO:httpx:HTTP Request: POST https://api.sambanova.ai/v1/chat/completions \"HTTP/1.1 200 OK\"\n"
     ]
    },
    {
     "name": "stdout",
     "output_type": "stream",
     "text": [
      "⠧ Processed 67 chunks, 803 entities(duplicated), 390 relations(duplicated)\r"
     ]
    },
    {
     "name": "stderr",
     "output_type": "stream",
     "text": [
      "Extracting entities from chunks:  31%|███       | 67/217 [03:53<02:21,  1.06chunk/s]INFO:httpx:HTTP Request: POST https://api.sambanova.ai/v1/chat/completions \"HTTP/1.1 429 Too Many Requests\"\n",
      "INFO:openai._base_client:Retrying request to /chat/completions in 0.905179 seconds\n",
      "INFO:httpx:HTTP Request: POST https://api.sambanova.ai/v1/chat/completions \"HTTP/1.1 200 OK\"\n"
     ]
    },
    {
     "name": "stdout",
     "output_type": "stream",
     "text": [
      "⠇ Processed 68 chunks, 814 entities(duplicated), 396 relations(duplicated)\r"
     ]
    },
    {
     "name": "stderr",
     "output_type": "stream",
     "text": [
      "Extracting entities from chunks:  31%|███▏      | 68/217 [03:53<01:45,  1.42chunk/s]INFO:httpx:HTTP Request: POST https://api.sambanova.ai/v1/chat/completions \"HTTP/1.1 429 Too Many Requests\"\n",
      "INFO:openai._base_client:Retrying request to /chat/completions in 0.419050 seconds\n",
      "INFO:httpx:HTTP Request: POST https://api.sambanova.ai/v1/chat/completions \"HTTP/1.1 200 OK\"\n"
     ]
    },
    {
     "name": "stdout",
     "output_type": "stream",
     "text": [
      "⠏ Processed 69 chunks, 821 entities(duplicated), 402 relations(duplicated)\r"
     ]
    },
    {
     "name": "stderr",
     "output_type": "stream",
     "text": [
      "Extracting entities from chunks:  32%|███▏      | 69/217 [03:53<01:20,  1.85chunk/s]INFO:httpx:HTTP Request: POST https://api.sambanova.ai/v1/chat/completions \"HTTP/1.1 429 Too Many Requests\"\n",
      "INFO:openai._base_client:Retrying request to /chat/completions in 0.784055 seconds\n",
      "INFO:httpx:HTTP Request: POST https://api.sambanova.ai/v1/chat/completions \"HTTP/1.1 429 Too Many Requests\"\n",
      "INFO:httpx:HTTP Request: POST https://api.sambanova.ai/v1/chat/completions \"HTTP/1.1 429 Too Many Requests\"\n",
      "INFO:openai._base_client:Retrying request to /chat/completions in 0.842766 seconds\n",
      "INFO:httpx:HTTP Request: POST https://api.sambanova.ai/v1/chat/completions \"HTTP/1.1 429 Too Many Requests\"\n",
      "INFO:openai._base_client:Retrying request to /chat/completions in 0.484564 seconds\n",
      "INFO:httpx:HTTP Request: POST https://api.sambanova.ai/v1/chat/completions \"HTTP/1.1 429 Too Many Requests\"\n",
      "INFO:openai._base_client:Retrying request to /chat/completions in 0.496175 seconds\n",
      "INFO:httpx:HTTP Request: POST https://api.sambanova.ai/v1/chat/completions \"HTTP/1.1 429 Too Many Requests\"\n",
      "INFO:openai._base_client:Retrying request to /chat/completions in 0.434346 seconds\n",
      "INFO:httpx:HTTP Request: POST https://api.sambanova.ai/v1/chat/completions \"HTTP/1.1 429 Too Many Requests\"\n",
      "INFO:httpx:HTTP Request: POST https://api.sambanova.ai/v1/chat/completions \"HTTP/1.1 429 Too Many Requests\"\n",
      "INFO:httpx:HTTP Request: POST https://api.sambanova.ai/v1/chat/completions \"HTTP/1.1 429 Too Many Requests\"\n",
      "INFO:openai._base_client:Retrying request to /chat/completions in 0.983561 seconds\n",
      "INFO:httpx:HTTP Request: POST https://api.sambanova.ai/v1/chat/completions \"HTTP/1.1 429 Too Many Requests\"\n",
      "INFO:openai._base_client:Retrying request to /chat/completions in 0.777743 seconds\n",
      "INFO:httpx:HTTP Request: POST https://api.sambanova.ai/v1/chat/completions \"HTTP/1.1 429 Too Many Requests\"\n",
      "INFO:openai._base_client:Retrying request to /chat/completions in 0.967161 seconds\n",
      "INFO:httpx:HTTP Request: POST https://api.sambanova.ai/v1/chat/completions \"HTTP/1.1 429 Too Many Requests\"\n",
      "INFO:httpx:HTTP Request: POST https://api.sambanova.ai/v1/chat/completions \"HTTP/1.1 429 Too Many Requests\"\n",
      "INFO:httpx:HTTP Request: POST https://api.sambanova.ai/v1/chat/completions \"HTTP/1.1 429 Too Many Requests\"\n",
      "INFO:httpx:HTTP Request: POST https://api.sambanova.ai/v1/chat/completions \"HTTP/1.1 429 Too Many Requests\"\n",
      "INFO:httpx:HTTP Request: POST https://api.sambanova.ai/v1/chat/completions \"HTTP/1.1 200 OK\"\n"
     ]
    },
    {
     "name": "stdout",
     "output_type": "stream",
     "text": [
      "⠋ Processed 70 chunks, 830 entities(duplicated), 406 relations(duplicated)\r"
     ]
    },
    {
     "name": "stderr",
     "output_type": "stream",
     "text": [
      "Extracting entities from chunks:  32%|███▏      | 70/217 [03:57<03:46,  1.54s/chunk]INFO:httpx:HTTP Request: POST https://api.sambanova.ai/v1/chat/completions \"HTTP/1.1 429 Too Many Requests\"\n",
      "INFO:openai._base_client:Retrying request to /chat/completions in 0.399238 seconds\n",
      "INFO:httpx:HTTP Request: POST https://api.sambanova.ai/v1/chat/completions \"HTTP/1.1 429 Too Many Requests\"\n",
      "INFO:openai._base_client:Retrying request to /chat/completions in 0.992463 seconds\n",
      "INFO:httpx:HTTP Request: POST https://api.sambanova.ai/v1/chat/completions \"HTTP/1.1 429 Too Many Requests\"\n",
      "INFO:httpx:HTTP Request: POST https://api.sambanova.ai/v1/chat/completions \"HTTP/1.1 200 OK\"\n"
     ]
    },
    {
     "name": "stdout",
     "output_type": "stream",
     "text": [
      "⠙ Processed 71 chunks, 847 entities(duplicated), 414 relations(duplicated)\r"
     ]
    },
    {
     "name": "stderr",
     "output_type": "stream",
     "text": [
      "Extracting entities from chunks:  33%|███▎      | 71/217 [04:03<06:46,  2.79s/chunk]INFO:httpx:HTTP Request: POST https://api.sambanova.ai/v1/chat/completions \"HTTP/1.1 429 Too Many Requests\"\n",
      "INFO:openai._base_client:Retrying request to /chat/completions in 0.380951 seconds\n",
      "INFO:httpx:HTTP Request: POST https://api.sambanova.ai/v1/chat/completions \"HTTP/1.1 429 Too Many Requests\"\n",
      "INFO:openai._base_client:Retrying request to /chat/completions in 0.895647 seconds\n",
      "INFO:httpx:HTTP Request: POST https://api.sambanova.ai/v1/chat/completions \"HTTP/1.1 429 Too Many Requests\"\n",
      "INFO:httpx:HTTP Request: POST https://api.sambanova.ai/v1/chat/completions \"HTTP/1.1 200 OK\"\n"
     ]
    },
    {
     "name": "stdout",
     "output_type": "stream",
     "text": [
      "⠹ Processed 72 chunks, 864 entities(duplicated), 426 relations(duplicated)\r"
     ]
    },
    {
     "name": "stderr",
     "output_type": "stream",
     "text": [
      "Extracting entities from chunks:  33%|███▎      | 72/217 [04:06<07:14,  3.00s/chunk]INFO:httpx:HTTP Request: POST https://api.sambanova.ai/v1/chat/completions \"HTTP/1.1 429 Too Many Requests\"\n",
      "INFO:openai._base_client:Retrying request to /chat/completions in 0.436998 seconds\n",
      "INFO:httpx:HTTP Request: POST https://api.sambanova.ai/v1/chat/completions \"HTTP/1.1 429 Too Many Requests\"\n",
      "INFO:openai._base_client:Retrying request to /chat/completions in 0.802281 seconds\n",
      "INFO:httpx:HTTP Request: POST https://api.sambanova.ai/v1/chat/completions \"HTTP/1.1 429 Too Many Requests\"\n",
      "INFO:httpx:HTTP Request: POST https://api.sambanova.ai/v1/chat/completions \"HTTP/1.1 200 OK\"\n",
      "INFO:httpx:HTTP Request: POST https://api.sambanova.ai/v1/chat/completions \"HTTP/1.1 200 OK\"\n",
      "INFO:httpx:HTTP Request: POST https://api.sambanova.ai/v1/chat/completions \"HTTP/1.1 200 OK\"\n"
     ]
    },
    {
     "name": "stdout",
     "output_type": "stream",
     "text": [
      "⠸ Processed 73 chunks, 873 entities(duplicated), 430 relations(duplicated)\r"
     ]
    },
    {
     "name": "stderr",
     "output_type": "stream",
     "text": [
      "Extracting entities from chunks:  34%|███▎      | 73/217 [04:57<41:56, 17.47s/chunk]INFO:httpx:HTTP Request: POST https://api.sambanova.ai/v1/chat/completions \"HTTP/1.1 200 OK\"\n"
     ]
    },
    {
     "name": "stdout",
     "output_type": "stream",
     "text": [
      "⠼ Processed 74 chunks, 880 entities(duplicated), 433 relations(duplicated)\r"
     ]
    },
    {
     "name": "stderr",
     "output_type": "stream",
     "text": [
      "Extracting entities from chunks:  34%|███▍      | 74/217 [04:59<29:58, 12.58s/chunk]INFO:httpx:HTTP Request: POST https://api.sambanova.ai/v1/chat/completions \"HTTP/1.1 200 OK\"\n",
      "INFO:httpx:HTTP Request: POST https://api.sambanova.ai/v1/chat/completions \"HTTP/1.1 200 OK\"\n"
     ]
    },
    {
     "name": "stdout",
     "output_type": "stream",
     "text": [
      "⠴ Processed 75 chunks, 890 entities(duplicated), 437 relations(duplicated)\r"
     ]
    },
    {
     "name": "stderr",
     "output_type": "stream",
     "text": [
      "Extracting entities from chunks:  35%|███▍      | 75/217 [04:59<21:12,  8.96s/chunk]INFO:httpx:HTTP Request: POST https://api.sambanova.ai/v1/chat/completions \"HTTP/1.1 200 OK\"\n",
      "INFO:httpx:HTTP Request: POST https://api.sambanova.ai/v1/chat/completions \"HTTP/1.1 200 OK\"\n",
      "INFO:httpx:HTTP Request: POST https://api.sambanova.ai/v1/chat/completions \"HTTP/1.1 200 OK\"\n"
     ]
    },
    {
     "name": "stdout",
     "output_type": "stream",
     "text": [
      "⠦ Processed 76 chunks, 898 entities(duplicated), 437 relations(duplicated)\r"
     ]
    },
    {
     "name": "stderr",
     "output_type": "stream",
     "text": [
      "Extracting entities from chunks:  35%|███▌      | 76/217 [05:01<16:12,  6.90s/chunk]INFO:httpx:HTTP Request: POST https://api.sambanova.ai/v1/chat/completions \"HTTP/1.1 200 OK\"\n",
      "INFO:httpx:HTTP Request: POST https://api.sambanova.ai/v1/chat/completions \"HTTP/1.1 200 OK\"\n"
     ]
    },
    {
     "name": "stdout",
     "output_type": "stream",
     "text": [
      "⠧ Processed 77 chunks, 910 entities(duplicated), 443 relations(duplicated)\r"
     ]
    },
    {
     "name": "stderr",
     "output_type": "stream",
     "text": [
      "Extracting entities from chunks:  35%|███▌      | 77/217 [05:02<12:00,  5.14s/chunk]INFO:httpx:HTTP Request: POST https://api.sambanova.ai/v1/chat/completions \"HTTP/1.1 200 OK\"\n",
      "INFO:httpx:HTTP Request: POST https://api.sambanova.ai/v1/chat/completions \"HTTP/1.1 200 OK\"\n",
      "INFO:httpx:HTTP Request: POST https://api.sambanova.ai/v1/chat/completions \"HTTP/1.1 200 OK\"\n",
      "INFO:httpx:HTTP Request: POST https://api.sambanova.ai/v1/chat/completions \"HTTP/1.1 200 OK\"\n",
      "INFO:httpx:HTTP Request: POST https://api.sambanova.ai/v1/chat/completions \"HTTP/1.1 200 OK\"\n",
      "INFO:httpx:HTTP Request: POST https://api.sambanova.ai/v1/chat/completions \"HTTP/1.1 200 OK\"\n",
      "INFO:httpx:HTTP Request: POST https://api.sambanova.ai/v1/chat/completions \"HTTP/1.1 200 OK\"\n",
      "INFO:httpx:HTTP Request: POST https://api.sambanova.ai/v1/chat/completions \"HTTP/1.1 200 OK\"\n",
      "INFO:httpx:HTTP Request: POST https://api.sambanova.ai/v1/chat/completions \"HTTP/1.1 200 OK\"\n"
     ]
    },
    {
     "name": "stdout",
     "output_type": "stream",
     "text": [
      "⠇ Processed 78 chunks, 923 entities(duplicated), 448 relations(duplicated)\r"
     ]
    },
    {
     "name": "stderr",
     "output_type": "stream",
     "text": [
      "Extracting entities from chunks:  36%|███▌      | 78/217 [05:06<10:44,  4.64s/chunk]INFO:httpx:HTTP Request: POST https://api.sambanova.ai/v1/chat/completions \"HTTP/1.1 200 OK\"\n"
     ]
    },
    {
     "name": "stdout",
     "output_type": "stream",
     "text": [
      "⠏ Processed 79 chunks, 931 entities(duplicated), 448 relations(duplicated)\r"
     ]
    },
    {
     "name": "stderr",
     "output_type": "stream",
     "text": [
      "Extracting entities from chunks:  36%|███▋      | 79/217 [05:07<08:11,  3.56s/chunk]INFO:httpx:HTTP Request: POST https://api.sambanova.ai/v1/chat/completions \"HTTP/1.1 200 OK\"\n"
     ]
    },
    {
     "name": "stdout",
     "output_type": "stream",
     "text": [
      "⠋ Processed 80 chunks, 944 entities(duplicated), 451 relations(duplicated)\r"
     ]
    },
    {
     "name": "stderr",
     "output_type": "stream",
     "text": [
      "Extracting entities from chunks:  37%|███▋      | 80/217 [05:07<06:11,  2.71s/chunk]INFO:httpx:HTTP Request: POST https://api.sambanova.ai/v1/chat/completions \"HTTP/1.1 200 OK\"\n",
      "INFO:httpx:HTTP Request: POST https://api.sambanova.ai/v1/chat/completions \"HTTP/1.1 200 OK\"\n"
     ]
    },
    {
     "name": "stdout",
     "output_type": "stream",
     "text": [
      "⠙ Processed 81 chunks, 955 entities(duplicated), 458 relations(duplicated)\r"
     ]
    },
    {
     "name": "stderr",
     "output_type": "stream",
     "text": [
      "Extracting entities from chunks:  37%|███▋      | 81/217 [05:09<05:11,  2.29s/chunk]INFO:httpx:HTTP Request: POST https://api.sambanova.ai/v1/chat/completions \"HTTP/1.1 200 OK\"\n"
     ]
    },
    {
     "name": "stdout",
     "output_type": "stream",
     "text": [
      "⠹ Processed 82 chunks, 964 entities(duplicated), 466 relations(duplicated)\r"
     ]
    },
    {
     "name": "stderr",
     "output_type": "stream",
     "text": [
      "Extracting entities from chunks:  38%|███▊      | 82/217 [05:11<04:50,  2.15s/chunk]INFO:httpx:HTTP Request: POST https://api.sambanova.ai/v1/chat/completions \"HTTP/1.1 200 OK\"\n"
     ]
    },
    {
     "name": "stdout",
     "output_type": "stream",
     "text": [
      "⠸ Processed 83 chunks, 983 entities(duplicated), 478 relations(duplicated)\r"
     ]
    },
    {
     "name": "stderr",
     "output_type": "stream",
     "text": [
      "Extracting entities from chunks:  38%|███▊      | 83/217 [05:11<03:31,  1.58s/chunk]INFO:httpx:HTTP Request: POST https://api.sambanova.ai/v1/chat/completions \"HTTP/1.1 200 OK\"\n"
     ]
    },
    {
     "name": "stdout",
     "output_type": "stream",
     "text": [
      "⠼ Processed 84 chunks, 993 entities(duplicated), 481 relations(duplicated)\r"
     ]
    },
    {
     "name": "stderr",
     "output_type": "stream",
     "text": [
      "INFO:httpx:HTTP Request: POST https://api.sambanova.ai/v1/chat/completions \"HTTP/1.1 200 OK\"\n"
     ]
    },
    {
     "name": "stdout",
     "output_type": "stream",
     "text": [
      "⠴ Processed 85 chunks, 1003 entities(duplicated), 486 relations(duplicated)\r"
     ]
    },
    {
     "name": "stderr",
     "output_type": "stream",
     "text": [
      "Extracting entities from chunks:  39%|███▉      | 85/217 [05:11<02:06,  1.04chunk/s]INFO:httpx:HTTP Request: POST https://api.sambanova.ai/v1/chat/completions \"HTTP/1.1 200 OK\"\n",
      "INFO:httpx:HTTP Request: POST https://api.sambanova.ai/v1/chat/completions \"HTTP/1.1 429 Too Many Requests\"\n",
      "INFO:openai._base_client:Retrying request to /chat/completions in 0.493836 seconds\n",
      "INFO:httpx:HTTP Request: POST https://api.sambanova.ai/v1/chat/completions \"HTTP/1.1 429 Too Many Requests\"\n",
      "INFO:openai._base_client:Retrying request to /chat/completions in 0.447012 seconds\n",
      "INFO:httpx:HTTP Request: POST https://api.sambanova.ai/v1/chat/completions \"HTTP/1.1 429 Too Many Requests\"\n",
      "INFO:openai._base_client:Retrying request to /chat/completions in 0.954269 seconds\n",
      "INFO:httpx:HTTP Request: POST https://api.sambanova.ai/v1/chat/completions \"HTTP/1.1 429 Too Many Requests\"\n",
      "INFO:openai._base_client:Retrying request to /chat/completions in 0.491537 seconds\n",
      "INFO:httpx:HTTP Request: POST https://api.sambanova.ai/v1/chat/completions \"HTTP/1.1 429 Too Many Requests\"\n",
      "INFO:openai._base_client:Retrying request to /chat/completions in 0.852658 seconds\n",
      "INFO:httpx:HTTP Request: POST https://api.sambanova.ai/v1/chat/completions \"HTTP/1.1 200 OK\"\n",
      "INFO:httpx:HTTP Request: POST https://api.sambanova.ai/v1/chat/completions \"HTTP/1.1 429 Too Many Requests\"\n",
      "INFO:openai._base_client:Retrying request to /chat/completions in 0.965227 seconds\n",
      "INFO:httpx:HTTP Request: POST https://api.sambanova.ai/v1/chat/completions \"HTTP/1.1 429 Too Many Requests\"\n",
      "INFO:httpx:HTTP Request: POST https://api.sambanova.ai/v1/chat/completions \"HTTP/1.1 429 Too Many Requests\"\n",
      "INFO:httpx:HTTP Request: POST https://api.sambanova.ai/v1/chat/completions \"HTTP/1.1 200 OK\"\n"
     ]
    },
    {
     "name": "stdout",
     "output_type": "stream",
     "text": [
      "⠦ Processed 86 chunks, 1011 entities(duplicated), 491 relations(duplicated)\r"
     ]
    },
    {
     "name": "stderr",
     "output_type": "stream",
     "text": [
      "INFO:httpx:HTTP Request: POST https://api.sambanova.ai/v1/chat/completions \"HTTP/1.1 200 OK\"\n",
      "Extracting entities from chunks:  40%|███▉      | 86/217 [05:14<03:10,  1.46s/chunk]"
     ]
    },
    {
     "name": "stdout",
     "output_type": "stream",
     "text": [
      "⠧ Processed 87 chunks, 1019 entities(duplicated), 495 relations(duplicated)\r"
     ]
    },
    {
     "name": "stderr",
     "output_type": "stream",
     "text": [
      "INFO:httpx:HTTP Request: POST https://api.sambanova.ai/v1/chat/completions \"HTTP/1.1 429 Too Many Requests\"\n",
      "INFO:openai._base_client:Retrying request to /chat/completions in 0.492243 seconds\n",
      "INFO:httpx:HTTP Request: POST https://api.sambanova.ai/v1/chat/completions \"HTTP/1.1 429 Too Many Requests\"\n",
      "INFO:httpx:HTTP Request: POST https://api.sambanova.ai/v1/chat/completions \"HTTP/1.1 200 OK\"\n",
      "INFO:httpx:HTTP Request: POST https://api.sambanova.ai/v1/chat/completions \"HTTP/1.1 429 Too Many Requests\"\n",
      "INFO:openai._base_client:Retrying request to /chat/completions in 0.786174 seconds\n",
      "INFO:httpx:HTTP Request: POST https://api.sambanova.ai/v1/chat/completions \"HTTP/1.1 429 Too Many Requests\"\n",
      "INFO:openai._base_client:Retrying request to /chat/completions in 0.481747 seconds\n",
      "INFO:httpx:HTTP Request: POST https://api.sambanova.ai/v1/chat/completions \"HTTP/1.1 429 Too Many Requests\"\n",
      "INFO:openai._base_client:Retrying request to /chat/completions in 0.398481 seconds\n",
      "INFO:httpx:HTTP Request: POST https://api.sambanova.ai/v1/chat/completions \"HTTP/1.1 200 OK\"\n",
      "INFO:httpx:HTTP Request: POST https://api.sambanova.ai/v1/chat/completions \"HTTP/1.1 200 OK\"\n"
     ]
    },
    {
     "name": "stdout",
     "output_type": "stream",
     "text": [
      "⠇ Processed 88 chunks, 1031 entities(duplicated), 502 relations(duplicated)\r"
     ]
    },
    {
     "name": "stderr",
     "output_type": "stream",
     "text": [
      "Extracting entities from chunks:  41%|████      | 88/217 [05:16<02:40,  1.25s/chunk]INFO:httpx:HTTP Request: POST https://api.sambanova.ai/v1/chat/completions \"HTTP/1.1 429 Too Many Requests\"\n",
      "INFO:httpx:HTTP Request: POST https://api.sambanova.ai/v1/chat/completions \"HTTP/1.1 429 Too Many Requests\"\n",
      "INFO:httpx:HTTP Request: POST https://api.sambanova.ai/v1/chat/completions \"HTTP/1.1 429 Too Many Requests\"\n",
      "INFO:openai._base_client:Retrying request to /chat/completions in 0.417380 seconds\n",
      "INFO:openai._base_client:Retrying request to /chat/completions in 0.839183 seconds\n",
      "INFO:openai._base_client:Retrying request to /chat/completions in 0.936511 seconds\n",
      "INFO:httpx:HTTP Request: POST https://api.sambanova.ai/v1/chat/completions \"HTTP/1.1 200 OK\"\n",
      "INFO:httpx:HTTP Request: POST https://api.sambanova.ai/v1/chat/completions \"HTTP/1.1 200 OK\"\n",
      "INFO:httpx:HTTP Request: POST https://api.sambanova.ai/v1/chat/completions \"HTTP/1.1 429 Too Many Requests\"\n",
      "INFO:httpx:HTTP Request: POST https://api.sambanova.ai/v1/chat/completions \"HTTP/1.1 429 Too Many Requests\"\n",
      "INFO:openai._base_client:Retrying request to /chat/completions in 0.946803 seconds\n",
      "INFO:httpx:HTTP Request: POST https://api.sambanova.ai/v1/chat/completions \"HTTP/1.1 429 Too Many Requests\"\n",
      "INFO:openai._base_client:Retrying request to /chat/completions in 0.467224 seconds\n",
      "INFO:httpx:HTTP Request: POST https://api.sambanova.ai/v1/chat/completions \"HTTP/1.1 429 Too Many Requests\"\n",
      "INFO:openai._base_client:Retrying request to /chat/completions in 0.477934 seconds\n",
      "INFO:httpx:HTTP Request: POST https://api.sambanova.ai/v1/chat/completions \"HTTP/1.1 429 Too Many Requests\"\n",
      "INFO:openai._base_client:Retrying request to /chat/completions in 0.380576 seconds\n",
      "INFO:httpx:HTTP Request: POST https://api.sambanova.ai/v1/chat/completions \"HTTP/1.1 429 Too Many Requests\"\n",
      "INFO:httpx:HTTP Request: POST https://api.sambanova.ai/v1/chat/completions \"HTTP/1.1 429 Too Many Requests\"\n",
      "INFO:openai._base_client:Retrying request to /chat/completions in 0.416769 seconds\n",
      "INFO:httpx:HTTP Request: POST https://api.sambanova.ai/v1/chat/completions \"HTTP/1.1 429 Too Many Requests\"\n",
      "INFO:httpx:HTTP Request: POST https://api.sambanova.ai/v1/chat/completions \"HTTP/1.1 429 Too Many Requests\"\n",
      "INFO:openai._base_client:Retrying request to /chat/completions in 0.886853 seconds\n",
      "INFO:httpx:HTTP Request: POST https://api.sambanova.ai/v1/chat/completions \"HTTP/1.1 429 Too Many Requests\"\n",
      "INFO:openai._base_client:Retrying request to /chat/completions in 0.863539 seconds\n",
      "INFO:httpx:HTTP Request: POST https://api.sambanova.ai/v1/chat/completions \"HTTP/1.1 429 Too Many Requests\"\n",
      "INFO:openai._base_client:Retrying request to /chat/completions in 0.801717 seconds\n",
      "INFO:httpx:HTTP Request: POST https://api.sambanova.ai/v1/chat/completions \"HTTP/1.1 429 Too Many Requests\"\n",
      "INFO:httpx:HTTP Request: POST https://api.sambanova.ai/v1/chat/completions \"HTTP/1.1 200 OK\"\n"
     ]
    },
    {
     "name": "stdout",
     "output_type": "stream",
     "text": [
      "⠏ Processed 89 chunks, 1047 entities(duplicated), 512 relations(duplicated)\r"
     ]
    },
    {
     "name": "stderr",
     "output_type": "stream",
     "text": [
      "Extracting entities from chunks:  41%|████      | 89/217 [05:18<03:08,  1.47s/chunk]INFO:httpx:HTTP Request: POST https://api.sambanova.ai/v1/chat/completions \"HTTP/1.1 429 Too Many Requests\"\n",
      "INFO:openai._base_client:Retrying request to /chat/completions in 0.859760 seconds\n",
      "INFO:httpx:HTTP Request: POST https://api.sambanova.ai/v1/chat/completions \"HTTP/1.1 429 Too Many Requests\"\n",
      "INFO:httpx:HTTP Request: POST https://api.sambanova.ai/v1/chat/completions \"HTTP/1.1 200 OK\"\n",
      "INFO:httpx:HTTP Request: POST https://api.sambanova.ai/v1/chat/completions \"HTTP/1.1 429 Too Many Requests\"\n",
      "INFO:httpx:HTTP Request: POST https://api.sambanova.ai/v1/chat/completions \"HTTP/1.1 429 Too Many Requests\"\n",
      "INFO:openai._base_client:Retrying request to /chat/completions in 0.414722 seconds\n",
      "INFO:httpx:HTTP Request: POST https://api.sambanova.ai/v1/chat/completions \"HTTP/1.1 200 OK\"\n"
     ]
    },
    {
     "name": "stdout",
     "output_type": "stream",
     "text": [
      "⠋ Processed 90 chunks, 1056 entities(duplicated), 517 relations(duplicated)\r"
     ]
    },
    {
     "name": "stderr",
     "output_type": "stream",
     "text": [
      "INFO:httpx:HTTP Request: POST https://api.sambanova.ai/v1/chat/completions \"HTTP/1.1 429 Too Many Requests\"\n",
      "Extracting entities from chunks:  41%|████▏     | 90/217 [05:20<02:55,  1.38s/chunk]INFO:httpx:HTTP Request: POST https://api.sambanova.ai/v1/chat/completions \"HTTP/1.1 429 Too Many Requests\"\n",
      "INFO:openai._base_client:Retrying request to /chat/completions in 0.391131 seconds\n",
      "INFO:httpx:HTTP Request: POST https://api.sambanova.ai/v1/chat/completions \"HTTP/1.1 200 OK\"\n",
      "INFO:httpx:HTTP Request: POST https://api.sambanova.ai/v1/chat/completions \"HTTP/1.1 429 Too Many Requests\"\n",
      "INFO:openai._base_client:Retrying request to /chat/completions in 0.994455 seconds\n",
      "INFO:httpx:HTTP Request: POST https://api.sambanova.ai/v1/chat/completions \"HTTP/1.1 429 Too Many Requests\"\n",
      "INFO:httpx:HTTP Request: POST https://api.sambanova.ai/v1/chat/completions \"HTTP/1.1 429 Too Many Requests\"\n",
      "INFO:openai._base_client:Retrying request to /chat/completions in 0.462669 seconds\n",
      "INFO:httpx:HTTP Request: POST https://api.sambanova.ai/v1/chat/completions \"HTTP/1.1 429 Too Many Requests\"\n",
      "INFO:openai._base_client:Retrying request to /chat/completions in 0.817874 seconds\n",
      "INFO:httpx:HTTP Request: POST https://api.sambanova.ai/v1/chat/completions \"HTTP/1.1 429 Too Many Requests\"\n",
      "INFO:openai._base_client:Retrying request to /chat/completions in 0.449810 seconds\n",
      "INFO:httpx:HTTP Request: POST https://api.sambanova.ai/v1/chat/completions \"HTTP/1.1 429 Too Many Requests\"\n",
      "INFO:openai._base_client:Retrying request to /chat/completions in 0.778037 seconds\n",
      "INFO:httpx:HTTP Request: POST https://api.sambanova.ai/v1/chat/completions \"HTTP/1.1 429 Too Many Requests\"\n",
      "INFO:httpx:HTTP Request: POST https://api.sambanova.ai/v1/chat/completions \"HTTP/1.1 429 Too Many Requests\"\n",
      "INFO:httpx:HTTP Request: POST https://api.sambanova.ai/v1/chat/completions \"HTTP/1.1 429 Too Many Requests\"\n",
      "INFO:openai._base_client:Retrying request to /chat/completions in 0.917338 seconds\n",
      "INFO:httpx:HTTP Request: POST https://api.sambanova.ai/v1/chat/completions \"HTTP/1.1 429 Too Many Requests\"\n",
      "INFO:httpx:HTTP Request: POST https://api.sambanova.ai/v1/chat/completions \"HTTP/1.1 429 Too Many Requests\"\n",
      "INFO:httpx:HTTP Request: POST https://api.sambanova.ai/v1/chat/completions \"HTTP/1.1 200 OK\"\n"
     ]
    },
    {
     "name": "stdout",
     "output_type": "stream",
     "text": [
      "⠙ Processed 91 chunks, 1070 entities(duplicated), 525 relations(duplicated)\r"
     ]
    },
    {
     "name": "stderr",
     "output_type": "stream",
     "text": [
      "Extracting entities from chunks:  42%|████▏     | 91/217 [05:26<05:46,  2.75s/chunk]INFO:httpx:HTTP Request: POST https://api.sambanova.ai/v1/chat/completions \"HTTP/1.1 429 Too Many Requests\"\n",
      "INFO:openai._base_client:Retrying request to /chat/completions in 0.430972 seconds\n",
      "INFO:httpx:HTTP Request: POST https://api.sambanova.ai/v1/chat/completions \"HTTP/1.1 429 Too Many Requests\"\n",
      "INFO:openai._base_client:Retrying request to /chat/completions in 0.964155 seconds\n",
      "INFO:httpx:HTTP Request: POST https://api.sambanova.ai/v1/chat/completions \"HTTP/1.1 429 Too Many Requests\"\n",
      "INFO:httpx:HTTP Request: POST https://api.sambanova.ai/v1/chat/completions \"HTTP/1.1 200 OK\"\n",
      "INFO:httpx:HTTP Request: POST https://api.sambanova.ai/v1/chat/completions \"HTTP/1.1 200 OK\"\n"
     ]
    },
    {
     "name": "stdout",
     "output_type": "stream",
     "text": [
      "⠹ Processed 92 chunks, 1072 entities(duplicated), 526 relations(duplicated)\r"
     ]
    },
    {
     "name": "stderr",
     "output_type": "stream",
     "text": [
      "Extracting entities from chunks:  42%|████▏     | 92/217 [06:28<39:06, 18.77s/chunk]INFO:httpx:HTTP Request: POST https://api.sambanova.ai/v1/chat/completions \"HTTP/1.1 200 OK\"\n",
      "INFO:httpx:HTTP Request: POST https://api.sambanova.ai/v1/chat/completions \"HTTP/1.1 200 OK\"\n",
      "INFO:httpx:HTTP Request: POST https://api.sambanova.ai/v1/chat/completions \"HTTP/1.1 200 OK\"\n",
      "INFO:httpx:HTTP Request: POST https://api.sambanova.ai/v1/chat/completions \"HTTP/1.1 200 OK\"\n",
      "INFO:httpx:HTTP Request: POST https://api.sambanova.ai/v1/chat/completions \"HTTP/1.1 200 OK\"\n"
     ]
    },
    {
     "name": "stdout",
     "output_type": "stream",
     "text": [
      "⠸ Processed 93 chunks, 1081 entities(duplicated), 526 relations(duplicated)\r"
     ]
    },
    {
     "name": "stderr",
     "output_type": "stream",
     "text": [
      "Extracting entities from chunks:  43%|████▎     | 93/217 [06:31<29:47, 14.41s/chunk]INFO:httpx:HTTP Request: POST https://api.sambanova.ai/v1/chat/completions \"HTTP/1.1 200 OK\"\n"
     ]
    },
    {
     "name": "stdout",
     "output_type": "stream",
     "text": [
      "⠼ Processed 94 chunks, 1089 entities(duplicated), 529 relations(duplicated)\r"
     ]
    },
    {
     "name": "stderr",
     "output_type": "stream",
     "text": [
      "Extracting entities from chunks:  43%|████▎     | 94/217 [06:33<21:58, 10.72s/chunk]INFO:httpx:HTTP Request: POST https://api.sambanova.ai/v1/chat/completions \"HTTP/1.1 200 OK\"\n",
      "INFO:httpx:HTTP Request: POST https://api.sambanova.ai/v1/chat/completions \"HTTP/1.1 200 OK\"\n",
      "INFO:httpx:HTTP Request: POST https://api.sambanova.ai/v1/chat/completions \"HTTP/1.1 200 OK\"\n"
     ]
    },
    {
     "name": "stdout",
     "output_type": "stream",
     "text": [
      "⠴ Processed 95 chunks, 1103 entities(duplicated), 535 relations(duplicated)\r"
     ]
    },
    {
     "name": "stderr",
     "output_type": "stream",
     "text": [
      "Extracting entities from chunks:  44%|████▍     | 95/217 [06:35<17:00,  8.37s/chunk]INFO:httpx:HTTP Request: POST https://api.sambanova.ai/v1/chat/completions \"HTTP/1.1 200 OK\"\n",
      "INFO:httpx:HTTP Request: POST https://api.sambanova.ai/v1/chat/completions \"HTTP/1.1 200 OK\"\n",
      "INFO:httpx:HTTP Request: POST https://api.sambanova.ai/v1/chat/completions \"HTTP/1.1 200 OK\"\n",
      "INFO:httpx:HTTP Request: POST https://api.sambanova.ai/v1/chat/completions \"HTTP/1.1 200 OK\"\n"
     ]
    },
    {
     "name": "stdout",
     "output_type": "stream",
     "text": [
      "⠦ Processed 96 chunks, 1118 entities(duplicated), 546 relations(duplicated)\r"
     ]
    },
    {
     "name": "stderr",
     "output_type": "stream",
     "text": [
      "Extracting entities from chunks:  44%|████▍     | 96/217 [06:41<15:05,  7.49s/chunk]INFO:httpx:HTTP Request: POST https://api.sambanova.ai/v1/chat/completions \"HTTP/1.1 200 OK\"\n",
      "INFO:httpx:HTTP Request: POST https://api.sambanova.ai/v1/chat/completions \"HTTP/1.1 200 OK\"\n",
      "INFO:httpx:HTTP Request: POST https://api.sambanova.ai/v1/chat/completions \"HTTP/1.1 200 OK\"\n"
     ]
    },
    {
     "name": "stdout",
     "output_type": "stream",
     "text": [
      "⠧ Processed 97 chunks, 1125 entities(duplicated), 551 relations(duplicated)\r"
     ]
    },
    {
     "name": "stderr",
     "output_type": "stream",
     "text": [
      "Extracting entities from chunks:  45%|████▍     | 97/217 [06:41<11:00,  5.50s/chunk]INFO:httpx:HTTP Request: POST https://api.sambanova.ai/v1/chat/completions \"HTTP/1.1 200 OK\"\n"
     ]
    },
    {
     "name": "stdout",
     "output_type": "stream",
     "text": [
      "⠇ Processed 98 chunks, 1139 entities(duplicated), 557 relations(duplicated)\r"
     ]
    },
    {
     "name": "stderr",
     "output_type": "stream",
     "text": [
      "Extracting entities from chunks:  45%|████▌     | 98/217 [06:42<07:51,  3.96s/chunk]INFO:httpx:HTTP Request: POST https://api.sambanova.ai/v1/chat/completions \"HTTP/1.1 200 OK\"\n"
     ]
    },
    {
     "name": "stdout",
     "output_type": "stream",
     "text": [
      "⠏ Processed 99 chunks, 1152 entities(duplicated), 564 relations(duplicated)\r"
     ]
    },
    {
     "name": "stderr",
     "output_type": "stream",
     "text": [
      "Extracting entities from chunks:  46%|████▌     | 99/217 [06:43<06:02,  3.07s/chunk]INFO:httpx:HTTP Request: POST https://api.sambanova.ai/v1/chat/completions \"HTTP/1.1 200 OK\"\n"
     ]
    },
    {
     "name": "stdout",
     "output_type": "stream",
     "text": [
      "⠋ Processed 100 chunks, 1166 entities(duplicated), 572 relations(duplicated)\r"
     ]
    },
    {
     "name": "stderr",
     "output_type": "stream",
     "text": [
      "Extracting entities from chunks:  46%|████▌     | 100/217 [06:43<04:24,  2.26s/chunk]INFO:httpx:HTTP Request: POST https://api.sambanova.ai/v1/chat/completions \"HTTP/1.1 200 OK\"\n"
     ]
    },
    {
     "name": "stdout",
     "output_type": "stream",
     "text": [
      "⠙ Processed 101 chunks, 1173 entities(duplicated), 575 relations(duplicated)\r"
     ]
    },
    {
     "name": "stderr",
     "output_type": "stream",
     "text": [
      "Extracting entities from chunks:  47%|████▋     | 101/217 [06:43<03:14,  1.68s/chunk]INFO:httpx:HTTP Request: POST https://api.sambanova.ai/v1/chat/completions \"HTTP/1.1 200 OK\"\n"
     ]
    },
    {
     "name": "stdout",
     "output_type": "stream",
     "text": [
      "⠹ Processed 102 chunks, 1186 entities(duplicated), 579 relations(duplicated)\r"
     ]
    },
    {
     "name": "stderr",
     "output_type": "stream",
     "text": [
      "Extracting entities from chunks:  47%|████▋     | 102/217 [06:44<02:38,  1.38s/chunk]INFO:httpx:HTTP Request: POST https://api.sambanova.ai/v1/chat/completions \"HTTP/1.1 200 OK\"\n"
     ]
    },
    {
     "name": "stdout",
     "output_type": "stream",
     "text": [
      "⠸ Processed 103 chunks, 1205 entities(duplicated), 587 relations(duplicated)\r"
     ]
    },
    {
     "name": "stderr",
     "output_type": "stream",
     "text": [
      "Extracting entities from chunks:  47%|████▋     | 103/217 [06:45<02:40,  1.41s/chunk]INFO:httpx:HTTP Request: POST https://api.sambanova.ai/v1/chat/completions \"HTTP/1.1 200 OK\"\n"
     ]
    },
    {
     "name": "stdout",
     "output_type": "stream",
     "text": [
      "⠼ Processed 104 chunks, 1221 entities(duplicated), 590 relations(duplicated)\r"
     ]
    },
    {
     "name": "stderr",
     "output_type": "stream",
     "text": [
      "Extracting entities from chunks:  48%|████▊     | 104/217 [06:46<01:57,  1.04s/chunk]INFO:httpx:HTTP Request: POST https://api.sambanova.ai/v1/chat/completions \"HTTP/1.1 200 OK\"\n",
      "INFO:httpx:HTTP Request: POST https://api.sambanova.ai/v1/chat/completions \"HTTP/1.1 200 OK\"\n",
      "INFO:httpx:HTTP Request: POST https://api.sambanova.ai/v1/chat/completions \"HTTP/1.1 200 OK\"\n"
     ]
    },
    {
     "name": "stdout",
     "output_type": "stream",
     "text": [
      "⠴ Processed 105 chunks, 1234 entities(duplicated), 600 relations(duplicated)\r"
     ]
    },
    {
     "name": "stderr",
     "output_type": "stream",
     "text": [
      "Extracting entities from chunks:  48%|████▊     | 105/217 [06:47<01:53,  1.02s/chunk]INFO:httpx:HTTP Request: POST https://api.sambanova.ai/v1/chat/completions \"HTTP/1.1 200 OK\"\n",
      "INFO:httpx:HTTP Request: POST https://api.sambanova.ai/v1/chat/completions \"HTTP/1.1 200 OK\"\n"
     ]
    },
    {
     "name": "stdout",
     "output_type": "stream",
     "text": [
      "⠦ Processed 106 chunks, 1241 entities(duplicated), 604 relations(duplicated)\r"
     ]
    },
    {
     "name": "stderr",
     "output_type": "stream",
     "text": [
      "Extracting entities from chunks:  49%|████▉     | 106/217 [06:47<01:38,  1.13chunk/s]INFO:httpx:HTTP Request: POST https://api.sambanova.ai/v1/chat/completions \"HTTP/1.1 200 OK\"\n",
      "INFO:httpx:HTTP Request: POST https://api.sambanova.ai/v1/chat/completions \"HTTP/1.1 200 OK\"\n"
     ]
    },
    {
     "name": "stdout",
     "output_type": "stream",
     "text": [
      "⠧ Processed 107 chunks, 1252 entities(duplicated), 607 relations(duplicated)\r"
     ]
    },
    {
     "name": "stderr",
     "output_type": "stream",
     "text": [
      "Extracting entities from chunks:  49%|████▉     | 107/217 [06:47<01:16,  1.44chunk/s]INFO:httpx:HTTP Request: POST https://api.sambanova.ai/v1/chat/completions \"HTTP/1.1 429 Too Many Requests\"\n",
      "INFO:openai._base_client:Retrying request to /chat/completions in 0.462200 seconds\n",
      "INFO:httpx:HTTP Request: POST https://api.sambanova.ai/v1/chat/completions \"HTTP/1.1 429 Too Many Requests\"\n",
      "INFO:openai._base_client:Retrying request to /chat/completions in 0.453973 seconds\n",
      "INFO:httpx:HTTP Request: POST https://api.sambanova.ai/v1/chat/completions \"HTTP/1.1 429 Too Many Requests\"\n",
      "INFO:openai._base_client:Retrying request to /chat/completions in 0.414504 seconds\n",
      "INFO:httpx:HTTP Request: POST https://api.sambanova.ai/v1/chat/completions \"HTTP/1.1 429 Too Many Requests\"\n",
      "INFO:openai._base_client:Retrying request to /chat/completions in 0.406210 seconds\n",
      "INFO:httpx:HTTP Request: POST https://api.sambanova.ai/v1/chat/completions \"HTTP/1.1 429 Too Many Requests\"\n",
      "INFO:openai._base_client:Retrying request to /chat/completions in 0.470865 seconds\n",
      "INFO:httpx:HTTP Request: POST https://api.sambanova.ai/v1/chat/completions \"HTTP/1.1 429 Too Many Requests\"\n",
      "INFO:openai._base_client:Retrying request to /chat/completions in 0.492737 seconds\n",
      "INFO:httpx:HTTP Request: POST https://api.sambanova.ai/v1/chat/completions \"HTTP/1.1 429 Too Many Requests\"\n",
      "INFO:openai._base_client:Retrying request to /chat/completions in 0.849268 seconds\n",
      "INFO:httpx:HTTP Request: POST https://api.sambanova.ai/v1/chat/completions \"HTTP/1.1 200 OK\"\n"
     ]
    },
    {
     "name": "stdout",
     "output_type": "stream",
     "text": [
      "⠇ Processed 108 chunks, 1261 entities(duplicated), 610 relations(duplicated)\r"
     ]
    },
    {
     "name": "stderr",
     "output_type": "stream",
     "text": [
      "Extracting entities from chunks:  50%|████▉     | 108/217 [06:49<01:36,  1.13chunk/s]INFO:httpx:HTTP Request: POST https://api.sambanova.ai/v1/chat/completions \"HTTP/1.1 429 Too Many Requests\"\n",
      "INFO:openai._base_client:Retrying request to /chat/completions in 0.910168 seconds\n",
      "INFO:httpx:HTTP Request: POST https://api.sambanova.ai/v1/chat/completions \"HTTP/1.1 429 Too Many Requests\"\n",
      "INFO:openai._base_client:Retrying request to /chat/completions in 0.828195 seconds\n",
      "INFO:httpx:HTTP Request: POST https://api.sambanova.ai/v1/chat/completions \"HTTP/1.1 200 OK\"\n"
     ]
    },
    {
     "name": "stdout",
     "output_type": "stream",
     "text": [
      "⠏ Processed 109 chunks, 1276 entities(duplicated), 614 relations(duplicated)\r"
     ]
    },
    {
     "name": "stderr",
     "output_type": "stream",
     "text": [
      "Extracting entities from chunks:  50%|█████     | 109/217 [06:49<01:17,  1.40chunk/s]INFO:httpx:HTTP Request: POST https://api.sambanova.ai/v1/chat/completions \"HTTP/1.1 429 Too Many Requests\"\n",
      "INFO:openai._base_client:Retrying request to /chat/completions in 0.953158 seconds\n",
      "INFO:httpx:HTTP Request: POST https://api.sambanova.ai/v1/chat/completions \"HTTP/1.1 429 Too Many Requests\"\n",
      "INFO:openai._base_client:Retrying request to /chat/completions in 0.770896 seconds\n",
      "INFO:httpx:HTTP Request: POST https://api.sambanova.ai/v1/chat/completions \"HTTP/1.1 429 Too Many Requests\"\n",
      "INFO:openai._base_client:Retrying request to /chat/completions in 0.935552 seconds\n",
      "INFO:httpx:HTTP Request: POST https://api.sambanova.ai/v1/chat/completions \"HTTP/1.1 200 OK\"\n",
      "INFO:httpx:HTTP Request: POST https://api.sambanova.ai/v1/chat/completions \"HTTP/1.1 429 Too Many Requests\"\n",
      "INFO:openai._base_client:Retrying request to /chat/completions in 0.418890 seconds\n",
      "INFO:httpx:HTTP Request: POST https://api.sambanova.ai/v1/chat/completions \"HTTP/1.1 429 Too Many Requests\"\n",
      "INFO:httpx:HTTP Request: POST https://api.sambanova.ai/v1/chat/completions \"HTTP/1.1 429 Too Many Requests\"\n",
      "INFO:httpx:HTTP Request: POST https://api.sambanova.ai/v1/chat/completions \"HTTP/1.1 429 Too Many Requests\"\n",
      "INFO:openai._base_client:Retrying request to /chat/completions in 0.497685 seconds\n",
      "INFO:httpx:HTTP Request: POST https://api.sambanova.ai/v1/chat/completions \"HTTP/1.1 429 Too Many Requests\"\n",
      "INFO:httpx:HTTP Request: POST https://api.sambanova.ai/v1/chat/completions \"HTTP/1.1 429 Too Many Requests\"\n",
      "INFO:httpx:HTTP Request: POST https://api.sambanova.ai/v1/chat/completions \"HTTP/1.1 429 Too Many Requests\"\n",
      "INFO:httpx:HTTP Request: POST https://api.sambanova.ai/v1/chat/completions \"HTTP/1.1 429 Too Many Requests\"\n",
      "INFO:openai._base_client:Retrying request to /chat/completions in 0.835349 seconds\n",
      "INFO:httpx:HTTP Request: POST https://api.sambanova.ai/v1/chat/completions \"HTTP/1.1 429 Too Many Requests\"\n",
      "INFO:httpx:HTTP Request: POST https://api.sambanova.ai/v1/chat/completions \"HTTP/1.1 429 Too Many Requests\"\n",
      "INFO:openai._base_client:Retrying request to /chat/completions in 0.472046 seconds\n",
      "INFO:httpx:HTTP Request: POST https://api.sambanova.ai/v1/chat/completions \"HTTP/1.1 200 OK\"\n"
     ]
    },
    {
     "name": "stdout",
     "output_type": "stream",
     "text": [
      "⠋ Processed 110 chunks, 1295 entities(duplicated), 625 relations(duplicated)\r"
     ]
    },
    {
     "name": "stderr",
     "output_type": "stream",
     "text": [
      "Extracting entities from chunks:  51%|█████     | 110/217 [06:51<01:42,  1.05chunk/s]INFO:httpx:HTTP Request: POST https://api.sambanova.ai/v1/chat/completions \"HTTP/1.1 429 Too Many Requests\"\n",
      "INFO:openai._base_client:Retrying request to /chat/completions in 0.911992 seconds\n",
      "INFO:httpx:HTTP Request: POST https://api.sambanova.ai/v1/chat/completions \"HTTP/1.1 429 Too Many Requests\"\n",
      "INFO:openai._base_client:Retrying request to /chat/completions in 0.802969 seconds\n",
      "INFO:httpx:HTTP Request: POST https://api.sambanova.ai/v1/chat/completions \"HTTP/1.1 429 Too Many Requests\"\n",
      "INFO:openai._base_client:Retrying request to /chat/completions in 0.389351 seconds\n",
      "INFO:httpx:HTTP Request: POST https://api.sambanova.ai/v1/chat/completions \"HTTP/1.1 429 Too Many Requests\"\n",
      "INFO:httpx:HTTP Request: POST https://api.sambanova.ai/v1/chat/completions \"HTTP/1.1 429 Too Many Requests\"\n",
      "INFO:openai._base_client:Retrying request to /chat/completions in 0.907998 seconds\n",
      "INFO:httpx:HTTP Request: POST https://api.sambanova.ai/v1/chat/completions \"HTTP/1.1 429 Too Many Requests\"\n",
      "INFO:httpx:HTTP Request: POST https://api.sambanova.ai/v1/chat/completions \"HTTP/1.1 429 Too Many Requests\"\n",
      "INFO:httpx:HTTP Request: POST https://api.sambanova.ai/v1/chat/completions \"HTTP/1.1 429 Too Many Requests\"\n",
      "INFO:httpx:HTTP Request: POST https://api.sambanova.ai/v1/chat/completions \"HTTP/1.1 200 OK\"\n"
     ]
    },
    {
     "name": "stdout",
     "output_type": "stream",
     "text": [
      "⠙ Processed 111 chunks, 1309 entities(duplicated), 635 relations(duplicated)\r"
     ]
    },
    {
     "name": "stderr",
     "output_type": "stream",
     "text": [
      "Extracting entities from chunks:  51%|█████     | 111/217 [06:54<02:46,  1.57s/chunk]INFO:httpx:HTTP Request: POST https://api.sambanova.ai/v1/chat/completions \"HTTP/1.1 200 OK\"\n",
      "INFO:httpx:HTTP Request: POST https://api.sambanova.ai/v1/chat/completions \"HTTP/1.1 200 OK\"\n",
      "INFO:httpx:HTTP Request: POST https://api.sambanova.ai/v1/chat/completions \"HTTP/1.1 429 Too Many Requests\"\n",
      "INFO:openai._base_client:Retrying request to /chat/completions in 0.475595 seconds\n",
      "INFO:httpx:HTTP Request: POST https://api.sambanova.ai/v1/chat/completions \"HTTP/1.1 429 Too Many Requests\"\n",
      "INFO:openai._base_client:Retrying request to /chat/completions in 0.413410 seconds\n",
      "INFO:httpx:HTTP Request: POST https://api.sambanova.ai/v1/chat/completions \"HTTP/1.1 200 OK\"\n",
      "INFO:httpx:HTTP Request: POST https://api.sambanova.ai/v1/chat/completions \"HTTP/1.1 429 Too Many Requests\"\n",
      "INFO:openai._base_client:Retrying request to /chat/completions in 0.453004 seconds\n",
      "INFO:httpx:HTTP Request: POST https://api.sambanova.ai/v1/chat/completions \"HTTP/1.1 429 Too Many Requests\"\n",
      "INFO:openai._base_client:Retrying request to /chat/completions in 0.941338 seconds\n",
      "INFO:httpx:HTTP Request: POST https://api.sambanova.ai/v1/chat/completions \"HTTP/1.1 200 OK\"\n"
     ]
    },
    {
     "name": "stdout",
     "output_type": "stream",
     "text": [
      "⠹ Processed 112 chunks, 1332 entities(duplicated), 648 relations(duplicated)\r"
     ]
    },
    {
     "name": "stderr",
     "output_type": "stream",
     "text": [
      "Extracting entities from chunks:  52%|█████▏    | 112/217 [06:56<02:59,  1.71s/chunk]INFO:httpx:HTTP Request: POST https://api.sambanova.ai/v1/chat/completions \"HTTP/1.1 429 Too Many Requests\"\n",
      "INFO:openai._base_client:Retrying request to /chat/completions in 0.832906 seconds\n",
      "INFO:httpx:HTTP Request: POST https://api.sambanova.ai/v1/chat/completions \"HTTP/1.1 429 Too Many Requests\"\n",
      "INFO:openai._base_client:Retrying request to /chat/completions in 0.470515 seconds\n",
      "INFO:httpx:HTTP Request: POST https://api.sambanova.ai/v1/chat/completions \"HTTP/1.1 429 Too Many Requests\"\n",
      "INFO:openai._base_client:Retrying request to /chat/completions in 0.939146 seconds\n",
      "INFO:httpx:HTTP Request: POST https://api.sambanova.ai/v1/chat/completions \"HTTP/1.1 429 Too Many Requests\"\n",
      "INFO:openai._base_client:Retrying request to /chat/completions in 0.493001 seconds\n",
      "INFO:httpx:HTTP Request: POST https://api.sambanova.ai/v1/chat/completions \"HTTP/1.1 429 Too Many Requests\"\n",
      "INFO:httpx:HTTP Request: POST https://api.sambanova.ai/v1/chat/completions \"HTTP/1.1 200 OK\"\n",
      "INFO:httpx:HTTP Request: POST https://api.sambanova.ai/v1/chat/completions \"HTTP/1.1 429 Too Many Requests\"\n",
      "INFO:httpx:HTTP Request: POST https://api.sambanova.ai/v1/chat/completions \"HTTP/1.1 429 Too Many Requests\"\n",
      "INFO:openai._base_client:Retrying request to /chat/completions in 0.855544 seconds\n",
      "INFO:httpx:HTTP Request: POST https://api.sambanova.ai/v1/chat/completions \"HTTP/1.1 429 Too Many Requests\"\n",
      "INFO:openai._base_client:Retrying request to /chat/completions in 0.949611 seconds\n",
      "INFO:httpx:HTTP Request: POST https://api.sambanova.ai/v1/chat/completions \"HTTP/1.1 429 Too Many Requests\"\n",
      "INFO:httpx:HTTP Request: POST https://api.sambanova.ai/v1/chat/completions \"HTTP/1.1 429 Too Many Requests\"\n",
      "INFO:openai._base_client:Retrying request to /chat/completions in 0.494325 seconds\n",
      "INFO:httpx:HTTP Request: POST https://api.sambanova.ai/v1/chat/completions \"HTTP/1.1 429 Too Many Requests\"\n",
      "INFO:httpx:HTTP Request: POST https://api.sambanova.ai/v1/chat/completions \"HTTP/1.1 429 Too Many Requests\"\n",
      "INFO:httpx:HTTP Request: POST https://api.sambanova.ai/v1/chat/completions \"HTTP/1.1 429 Too Many Requests\"\n",
      "INFO:openai._base_client:Retrying request to /chat/completions in 0.972237 seconds\n",
      "INFO:httpx:HTTP Request: POST https://api.sambanova.ai/v1/chat/completions \"HTTP/1.1 429 Too Many Requests\"\n",
      "INFO:httpx:HTTP Request: POST https://api.sambanova.ai/v1/chat/completions \"HTTP/1.1 200 OK\"\n",
      "INFO:httpx:HTTP Request: POST https://api.sambanova.ai/v1/chat/completions \"HTTP/1.1 200 OK\"\n",
      "INFO:httpx:HTTP Request: POST https://api.sambanova.ai/v1/chat/completions \"HTTP/1.1 200 OK\"\n",
      "INFO:httpx:HTTP Request: POST https://api.sambanova.ai/v1/chat/completions \"HTTP/1.1 200 OK\"\n"
     ]
    },
    {
     "name": "stdout",
     "output_type": "stream",
     "text": [
      "⠸ Processed 113 chunks, 1344 entities(duplicated), 648 relations(duplicated)\r"
     ]
    },
    {
     "name": "stderr",
     "output_type": "stream",
     "text": [
      "Extracting entities from chunks:  52%|█████▏    | 113/217 [07:56<33:31, 19.34s/chunk]INFO:httpx:HTTP Request: POST https://api.sambanova.ai/v1/chat/completions \"HTTP/1.1 200 OK\"\n"
     ]
    },
    {
     "name": "stdout",
     "output_type": "stream",
     "text": [
      "⠼ Processed 114 chunks, 1354 entities(duplicated), 648 relations(duplicated)\r"
     ]
    },
    {
     "name": "stderr",
     "output_type": "stream",
     "text": [
      "Extracting entities from chunks:  53%|█████▎    | 114/217 [07:57<23:26, 13.66s/chunk]INFO:httpx:HTTP Request: POST https://api.sambanova.ai/v1/chat/completions \"HTTP/1.1 200 OK\"\n",
      "INFO:httpx:HTTP Request: POST https://api.sambanova.ai/v1/chat/completions \"HTTP/1.1 200 OK\"\n"
     ]
    },
    {
     "name": "stdout",
     "output_type": "stream",
     "text": [
      "⠴ Processed 115 chunks, 1364 entities(duplicated), 651 relations(duplicated)\r"
     ]
    },
    {
     "name": "stderr",
     "output_type": "stream",
     "text": [
      "Extracting entities from chunks:  53%|█████▎    | 115/217 [07:58<16:52,  9.93s/chunk]INFO:httpx:HTTP Request: POST https://api.sambanova.ai/v1/chat/completions \"HTTP/1.1 200 OK\"\n",
      "INFO:openai._base_client:Retrying request to /chat/completions in 0.444460 seconds\n",
      "INFO:httpx:HTTP Request: POST https://api.sambanova.ai/v1/chat/completions \"HTTP/1.1 200 OK\"\n"
     ]
    },
    {
     "name": "stdout",
     "output_type": "stream",
     "text": [
      "⠦ Processed 116 chunks, 1370 entities(duplicated), 655 relations(duplicated)\r"
     ]
    },
    {
     "name": "stderr",
     "output_type": "stream",
     "text": [
      "Extracting entities from chunks:  53%|█████▎    | 116/217 [08:01<13:15,  7.88s/chunk]INFO:httpx:HTTP Request: POST https://api.sambanova.ai/v1/chat/completions \"HTTP/1.1 200 OK\"\n",
      "INFO:httpx:HTTP Request: POST https://api.sambanova.ai/v1/chat/completions \"HTTP/1.1 200 OK\"\n"
     ]
    },
    {
     "name": "stdout",
     "output_type": "stream",
     "text": [
      "⠧ Processed 117 chunks, 1380 entities(duplicated), 664 relations(duplicated)\r"
     ]
    },
    {
     "name": "stderr",
     "output_type": "stream",
     "text": [
      "Extracting entities from chunks:  54%|█████▍    | 117/217 [08:05<11:29,  6.89s/chunk]INFO:httpx:HTTP Request: POST https://api.sambanova.ai/v1/chat/completions \"HTTP/1.1 200 OK\"\n",
      "INFO:httpx:HTTP Request: POST https://api.sambanova.ai/v1/chat/completions \"HTTP/1.1 200 OK\"\n",
      "INFO:httpx:HTTP Request: POST https://api.sambanova.ai/v1/chat/completions \"HTTP/1.1 200 OK\"\n"
     ]
    },
    {
     "name": "stdout",
     "output_type": "stream",
     "text": [
      "⠇ Processed 118 chunks, 1389 entities(duplicated), 670 relations(duplicated)\r"
     ]
    },
    {
     "name": "stderr",
     "output_type": "stream",
     "text": [
      "Extracting entities from chunks:  54%|█████▍    | 118/217 [08:08<09:18,  5.64s/chunk]INFO:httpx:HTTP Request: POST https://api.sambanova.ai/v1/chat/completions \"HTTP/1.1 200 OK\"\n",
      "INFO:httpx:HTTP Request: POST https://api.sambanova.ai/v1/chat/completions \"HTTP/1.1 200 OK\"\n",
      "INFO:httpx:HTTP Request: POST https://api.sambanova.ai/v1/chat/completions \"HTTP/1.1 200 OK\"\n",
      "INFO:httpx:HTTP Request: POST https://api.sambanova.ai/v1/chat/completions \"HTTP/1.1 200 OK\"\n"
     ]
    },
    {
     "name": "stdout",
     "output_type": "stream",
     "text": [
      "⠏ Processed 119 chunks, 1400 entities(duplicated), 673 relations(duplicated)\r"
     ]
    },
    {
     "name": "stderr",
     "output_type": "stream",
     "text": [
      "Extracting entities from chunks:  55%|█████▍    | 119/217 [08:11<07:48,  4.78s/chunk]INFO:httpx:HTTP Request: POST https://api.sambanova.ai/v1/chat/completions \"HTTP/1.1 200 OK\"\n"
     ]
    },
    {
     "name": "stdout",
     "output_type": "stream",
     "text": [
      "⠋ Processed 120 chunks, 1410 entities(duplicated), 681 relations(duplicated)\r"
     ]
    },
    {
     "name": "stderr",
     "output_type": "stream",
     "text": [
      "Extracting entities from chunks:  55%|█████▌    | 120/217 [08:14<06:57,  4.31s/chunk]INFO:httpx:HTTP Request: POST https://api.sambanova.ai/v1/chat/completions \"HTTP/1.1 200 OK\"\n",
      "INFO:httpx:HTTP Request: POST https://api.sambanova.ai/v1/chat/completions \"HTTP/1.1 200 OK\"\n"
     ]
    },
    {
     "name": "stdout",
     "output_type": "stream",
     "text": [
      "⠙ Processed 121 chunks, 1425 entities(duplicated), 688 relations(duplicated)\r"
     ]
    },
    {
     "name": "stderr",
     "output_type": "stream",
     "text": [
      "Extracting entities from chunks:  56%|█████▌    | 121/217 [08:15<05:04,  3.17s/chunk]INFO:httpx:HTTP Request: POST https://api.sambanova.ai/v1/chat/completions \"HTTP/1.1 200 OK\"\n"
     ]
    },
    {
     "name": "stdout",
     "output_type": "stream",
     "text": [
      "⠹ Processed 122 chunks, 1443 entities(duplicated), 698 relations(duplicated)\r"
     ]
    },
    {
     "name": "stderr",
     "output_type": "stream",
     "text": [
      "Extracting entities from chunks:  56%|█████▌    | 122/217 [08:15<03:35,  2.26s/chunk]INFO:httpx:HTTP Request: POST https://api.sambanova.ai/v1/chat/completions \"HTTP/1.1 200 OK\"\n",
      "INFO:httpx:HTTP Request: POST https://api.sambanova.ai/v1/chat/completions \"HTTP/1.1 200 OK\"\n"
     ]
    },
    {
     "name": "stdout",
     "output_type": "stream",
     "text": [
      "⠸ Processed 123 chunks, 1455 entities(duplicated), 704 relations(duplicated)\r"
     ]
    },
    {
     "name": "stderr",
     "output_type": "stream",
     "text": [
      "Extracting entities from chunks:  57%|█████▋    | 123/217 [08:16<03:02,  1.94s/chunk]INFO:httpx:HTTP Request: POST https://api.sambanova.ai/v1/chat/completions \"HTTP/1.1 200 OK\"\n"
     ]
    },
    {
     "name": "stdout",
     "output_type": "stream",
     "text": [
      "⠼ Processed 124 chunks, 1475 entities(duplicated), 715 relations(duplicated)\r"
     ]
    },
    {
     "name": "stderr",
     "output_type": "stream",
     "text": [
      "Extracting entities from chunks:  57%|█████▋    | 124/217 [08:16<02:17,  1.47s/chunk]INFO:httpx:HTTP Request: POST https://api.sambanova.ai/v1/chat/completions \"HTTP/1.1 200 OK\"\n"
     ]
    },
    {
     "name": "stdout",
     "output_type": "stream",
     "text": [
      "⠴ Processed 125 chunks, 1489 entities(duplicated), 723 relations(duplicated)\r"
     ]
    },
    {
     "name": "stderr",
     "output_type": "stream",
     "text": [
      "Extracting entities from chunks:  58%|█████▊    | 125/217 [08:18<02:26,  1.59s/chunk]INFO:httpx:HTTP Request: POST https://api.sambanova.ai/v1/chat/completions \"HTTP/1.1 200 OK\"\n"
     ]
    },
    {
     "name": "stdout",
     "output_type": "stream",
     "text": [
      "⠦ Processed 126 chunks, 1497 entities(duplicated), 728 relations(duplicated)\r"
     ]
    },
    {
     "name": "stderr",
     "output_type": "stream",
     "text": [
      "Extracting entities from chunks:  58%|█████▊    | 126/217 [08:19<02:09,  1.42s/chunk]INFO:httpx:HTTP Request: POST https://api.sambanova.ai/v1/chat/completions \"HTTP/1.1 200 OK\"\n",
      "INFO:httpx:HTTP Request: POST https://api.sambanova.ai/v1/chat/completions \"HTTP/1.1 200 OK\"\n"
     ]
    },
    {
     "name": "stdout",
     "output_type": "stream",
     "text": [
      "⠧ Processed 127 chunks, 1513 entities(duplicated), 737 relations(duplicated)\r"
     ]
    },
    {
     "name": "stderr",
     "output_type": "stream",
     "text": [
      "Extracting entities from chunks:  59%|█████▊    | 127/217 [08:20<01:49,  1.21s/chunk]INFO:httpx:HTTP Request: POST https://api.sambanova.ai/v1/chat/completions \"HTTP/1.1 429 Too Many Requests\"\n",
      "INFO:openai._base_client:Retrying request to /chat/completions in 0.390066 seconds\n",
      "INFO:httpx:HTTP Request: POST https://api.sambanova.ai/v1/chat/completions \"HTTP/1.1 429 Too Many Requests\"\n",
      "INFO:openai._base_client:Retrying request to /chat/completions in 0.456818 seconds\n",
      "INFO:httpx:HTTP Request: POST https://api.sambanova.ai/v1/chat/completions \"HTTP/1.1 429 Too Many Requests\"\n",
      "INFO:openai._base_client:Retrying request to /chat/completions in 0.805557 seconds\n",
      "INFO:httpx:HTTP Request: POST https://api.sambanova.ai/v1/chat/completions \"HTTP/1.1 429 Too Many Requests\"\n",
      "INFO:openai._base_client:Retrying request to /chat/completions in 0.437094 seconds\n",
      "INFO:httpx:HTTP Request: POST https://api.sambanova.ai/v1/chat/completions \"HTTP/1.1 429 Too Many Requests\"\n",
      "INFO:openai._base_client:Retrying request to /chat/completions in 0.989808 seconds\n",
      "INFO:httpx:HTTP Request: POST https://api.sambanova.ai/v1/chat/completions \"HTTP/1.1 429 Too Many Requests\"\n",
      "INFO:openai._base_client:Retrying request to /chat/completions in 0.812776 seconds\n",
      "INFO:httpx:HTTP Request: POST https://api.sambanova.ai/v1/chat/completions \"HTTP/1.1 200 OK\"\n",
      "INFO:httpx:HTTP Request: POST https://api.sambanova.ai/v1/chat/completions \"HTTP/1.1 200 OK\"\n"
     ]
    },
    {
     "name": "stdout",
     "output_type": "stream",
     "text": [
      "⠇ Processed 128 chunks, 1525 entities(duplicated), 737 relations(duplicated)\r"
     ]
    },
    {
     "name": "stderr",
     "output_type": "stream",
     "text": [
      "Extracting entities from chunks:  59%|█████▉    | 128/217 [08:22<02:09,  1.46s/chunk]INFO:httpx:HTTP Request: POST https://api.sambanova.ai/v1/chat/completions \"HTTP/1.1 429 Too Many Requests\"\n",
      "INFO:httpx:HTTP Request: POST https://api.sambanova.ai/v1/chat/completions \"HTTP/1.1 429 Too Many Requests\"\n",
      "INFO:httpx:HTTP Request: POST https://api.sambanova.ai/v1/chat/completions \"HTTP/1.1 429 Too Many Requests\"\n",
      "INFO:httpx:HTTP Request: POST https://api.sambanova.ai/v1/chat/completions \"HTTP/1.1 429 Too Many Requests\"\n",
      "INFO:httpx:HTTP Request: POST https://api.sambanova.ai/v1/chat/completions \"HTTP/1.1 429 Too Many Requests\"\n",
      "INFO:openai._base_client:Retrying request to /chat/completions in 0.451100 seconds\n",
      "INFO:openai._base_client:Retrying request to /chat/completions in 0.488151 seconds\n",
      "INFO:httpx:HTTP Request: POST https://api.sambanova.ai/v1/chat/completions \"HTTP/1.1 200 OK\"\n",
      "INFO:httpx:HTTP Request: POST https://api.sambanova.ai/v1/chat/completions \"HTTP/1.1 200 OK\"\n"
     ]
    },
    {
     "name": "stdout",
     "output_type": "stream",
     "text": [
      "⠏ Processed 129 chunks, 1534 entities(duplicated), 742 relations(duplicated)\r"
     ]
    },
    {
     "name": "stderr",
     "output_type": "stream",
     "text": [
      "Extracting entities from chunks:  59%|█████▉    | 129/217 [08:23<02:05,  1.42s/chunk]INFO:httpx:HTTP Request: POST https://api.sambanova.ai/v1/chat/completions \"HTTP/1.1 429 Too Many Requests\"\n",
      "INFO:openai._base_client:Retrying request to /chat/completions in 0.889835 seconds\n",
      "INFO:httpx:HTTP Request: POST https://api.sambanova.ai/v1/chat/completions \"HTTP/1.1 429 Too Many Requests\"\n",
      "INFO:openai._base_client:Retrying request to /chat/completions in 0.860082 seconds\n",
      "INFO:httpx:HTTP Request: POST https://api.sambanova.ai/v1/chat/completions \"HTTP/1.1 429 Too Many Requests\"\n",
      "INFO:openai._base_client:Retrying request to /chat/completions in 0.442495 seconds\n",
      "INFO:httpx:HTTP Request: POST https://api.sambanova.ai/v1/chat/completions \"HTTP/1.1 429 Too Many Requests\"\n",
      "INFO:openai._base_client:Retrying request to /chat/completions in 0.436429 seconds\n",
      "INFO:httpx:HTTP Request: POST https://api.sambanova.ai/v1/chat/completions \"HTTP/1.1 429 Too Many Requests\"\n",
      "INFO:httpx:HTTP Request: POST https://api.sambanova.ai/v1/chat/completions \"HTTP/1.1 429 Too Many Requests\"\n",
      "INFO:httpx:HTTP Request: POST https://api.sambanova.ai/v1/chat/completions \"HTTP/1.1 429 Too Many Requests\"\n",
      "INFO:openai._base_client:Retrying request to /chat/completions in 0.866285 seconds\n",
      "INFO:httpx:HTTP Request: POST https://api.sambanova.ai/v1/chat/completions \"HTTP/1.1 429 Too Many Requests\"\n",
      "INFO:openai._base_client:Retrying request to /chat/completions in 0.986530 seconds\n",
      "INFO:httpx:HTTP Request: POST https://api.sambanova.ai/v1/chat/completions \"HTTP/1.1 200 OK\"\n"
     ]
    },
    {
     "name": "stdout",
     "output_type": "stream",
     "text": [
      "⠋ Processed 130 chunks, 1545 entities(duplicated), 742 relations(duplicated)\r"
     ]
    },
    {
     "name": "stderr",
     "output_type": "stream",
     "text": [
      "Extracting entities from chunks:  60%|█████▉    | 130/217 [08:25<02:21,  1.63s/chunk]INFO:httpx:HTTP Request: POST https://api.sambanova.ai/v1/chat/completions \"HTTP/1.1 429 Too Many Requests\"\n",
      "INFO:httpx:HTTP Request: POST https://api.sambanova.ai/v1/chat/completions \"HTTP/1.1 429 Too Many Requests\"\n",
      "INFO:httpx:HTTP Request: POST https://api.sambanova.ai/v1/chat/completions \"HTTP/1.1 429 Too Many Requests\"\n",
      "INFO:openai._base_client:Retrying request to /chat/completions in 0.419668 seconds\n",
      "INFO:httpx:HTTP Request: POST https://api.sambanova.ai/v1/chat/completions \"HTTP/1.1 200 OK\"\n"
     ]
    },
    {
     "name": "stdout",
     "output_type": "stream",
     "text": [
      "⠙ Processed 131 chunks, 1555 entities(duplicated), 747 relations(duplicated)\r"
     ]
    },
    {
     "name": "stderr",
     "output_type": "stream",
     "text": [
      "Extracting entities from chunks:  60%|██████    | 131/217 [08:27<02:07,  1.48s/chunk]INFO:httpx:HTTP Request: POST https://api.sambanova.ai/v1/chat/completions \"HTTP/1.1 429 Too Many Requests\"\n",
      "INFO:openai._base_client:Retrying request to /chat/completions in 0.758031 seconds\n",
      "INFO:httpx:HTTP Request: POST https://api.sambanova.ai/v1/chat/completions \"HTTP/1.1 429 Too Many Requests\"\n",
      "INFO:openai._base_client:Retrying request to /chat/completions in 0.496044 seconds\n",
      "INFO:httpx:HTTP Request: POST https://api.sambanova.ai/v1/chat/completions \"HTTP/1.1 429 Too Many Requests\"\n",
      "INFO:httpx:HTTP Request: POST https://api.sambanova.ai/v1/chat/completions \"HTTP/1.1 429 Too Many Requests\"\n",
      "INFO:openai._base_client:Retrying request to /chat/completions in 0.759702 seconds\n",
      "INFO:httpx:HTTP Request: POST https://api.sambanova.ai/v1/chat/completions \"HTTP/1.1 200 OK\"\n",
      "INFO:httpx:HTTP Request: POST https://api.sambanova.ai/v1/chat/completions \"HTTP/1.1 429 Too Many Requests\"\n",
      "INFO:httpx:HTTP Request: POST https://api.sambanova.ai/v1/chat/completions \"HTTP/1.1 429 Too Many Requests\"\n",
      "INFO:openai._base_client:Retrying request to /chat/completions in 0.468138 seconds\n",
      "INFO:httpx:HTTP Request: POST https://api.sambanova.ai/v1/chat/completions \"HTTP/1.1 200 OK\"\n",
      "INFO:httpx:HTTP Request: POST https://api.sambanova.ai/v1/chat/completions \"HTTP/1.1 429 Too Many Requests\"\n",
      "INFO:openai._base_client:Retrying request to /chat/completions in 0.768910 seconds\n",
      "INFO:httpx:HTTP Request: POST https://api.sambanova.ai/v1/chat/completions \"HTTP/1.1 429 Too Many Requests\"\n",
      "INFO:openai._base_client:Retrying request to /chat/completions in 0.485126 seconds\n",
      "INFO:httpx:HTTP Request: POST https://api.sambanova.ai/v1/chat/completions \"HTTP/1.1 429 Too Many Requests\"\n",
      "INFO:httpx:HTTP Request: POST https://api.sambanova.ai/v1/chat/completions \"HTTP/1.1 200 OK\"\n",
      "INFO:httpx:HTTP Request: POST https://api.sambanova.ai/v1/chat/completions \"HTTP/1.1 200 OK\"\n"
     ]
    },
    {
     "name": "stdout",
     "output_type": "stream",
     "text": [
      "⠹ Processed 132 chunks, 1568 entities(duplicated), 757 relations(duplicated)\r"
     ]
    },
    {
     "name": "stderr",
     "output_type": "stream",
     "text": [
      "Extracting entities from chunks:  61%|██████    | 132/217 [08:33<03:59,  2.82s/chunk]INFO:httpx:HTTP Request: POST https://api.sambanova.ai/v1/chat/completions \"HTTP/1.1 429 Too Many Requests\"\n",
      "INFO:openai._base_client:Retrying request to /chat/completions in 0.772098 seconds\n",
      "INFO:httpx:HTTP Request: POST https://api.sambanova.ai/v1/chat/completions \"HTTP/1.1 429 Too Many Requests\"\n",
      "INFO:openai._base_client:Retrying request to /chat/completions in 0.459586 seconds\n",
      "INFO:httpx:HTTP Request: POST https://api.sambanova.ai/v1/chat/completions \"HTTP/1.1 429 Too Many Requests\"\n",
      "INFO:openai._base_client:Retrying request to /chat/completions in 0.419948 seconds\n",
      "INFO:httpx:HTTP Request: POST https://api.sambanova.ai/v1/chat/completions \"HTTP/1.1 200 OK\"\n",
      "INFO:httpx:HTTP Request: POST https://api.sambanova.ai/v1/chat/completions \"HTTP/1.1 429 Too Many Requests\"\n",
      "INFO:httpx:HTTP Request: POST https://api.sambanova.ai/v1/chat/completions \"HTTP/1.1 429 Too Many Requests\"\n",
      "INFO:openai._base_client:Retrying request to /chat/completions in 0.754294 seconds\n",
      "INFO:httpx:HTTP Request: POST https://api.sambanova.ai/v1/chat/completions \"HTTP/1.1 429 Too Many Requests\"\n",
      "INFO:openai._base_client:Retrying request to /chat/completions in 0.965933 seconds\n",
      "INFO:httpx:HTTP Request: POST https://api.sambanova.ai/v1/chat/completions \"HTTP/1.1 200 OK\"\n",
      "INFO:httpx:HTTP Request: POST https://api.sambanova.ai/v1/chat/completions \"HTTP/1.1 429 Too Many Requests\"\n",
      "INFO:openai._base_client:Retrying request to /chat/completions in 0.474153 seconds\n",
      "INFO:httpx:HTTP Request: POST https://api.sambanova.ai/v1/chat/completions \"HTTP/1.1 200 OK\"\n"
     ]
    },
    {
     "name": "stdout",
     "output_type": "stream",
     "text": [
      "⠸ Processed 133 chunks, 1584 entities(duplicated), 764 relations(duplicated)\r"
     ]
    },
    {
     "name": "stderr",
     "output_type": "stream",
     "text": [
      "Extracting entities from chunks:  61%|██████▏   | 133/217 [08:35<03:41,  2.64s/chunk]INFO:httpx:HTTP Request: POST https://api.sambanova.ai/v1/chat/completions \"HTTP/1.1 429 Too Many Requests\"\n",
      "INFO:httpx:HTTP Request: POST https://api.sambanova.ai/v1/chat/completions \"HTTP/1.1 429 Too Many Requests\"\n",
      "INFO:openai._base_client:Retrying request to /chat/completions in 0.991690 seconds\n",
      "INFO:httpx:HTTP Request: POST https://api.sambanova.ai/v1/chat/completions \"HTTP/1.1 429 Too Many Requests\"\n",
      "INFO:openai._base_client:Retrying request to /chat/completions in 0.490192 seconds\n",
      "INFO:httpx:HTTP Request: POST https://api.sambanova.ai/v1/chat/completions \"HTTP/1.1 429 Too Many Requests\"\n",
      "INFO:httpx:HTTP Request: POST https://api.sambanova.ai/v1/chat/completions \"HTTP/1.1 429 Too Many Requests\"\n",
      "INFO:openai._base_client:Retrying request to /chat/completions in 0.382751 seconds\n",
      "INFO:httpx:HTTP Request: POST https://api.sambanova.ai/v1/chat/completions \"HTTP/1.1 429 Too Many Requests\"\n",
      "INFO:openai._base_client:Retrying request to /chat/completions in 0.761749 seconds\n",
      "INFO:httpx:HTTP Request: POST https://api.sambanova.ai/v1/chat/completions \"HTTP/1.1 429 Too Many Requests\"\n",
      "INFO:openai._base_client:Retrying request to /chat/completions in 0.967329 seconds\n",
      "INFO:httpx:HTTP Request: POST https://api.sambanova.ai/v1/chat/completions \"HTTP/1.1 429 Too Many Requests\"\n",
      "INFO:httpx:HTTP Request: POST https://api.sambanova.ai/v1/chat/completions \"HTTP/1.1 429 Too Many Requests\"\n",
      "INFO:httpx:HTTP Request: POST https://api.sambanova.ai/v1/chat/completions \"HTTP/1.1 429 Too Many Requests\"\n",
      "INFO:httpx:HTTP Request: POST https://api.sambanova.ai/v1/chat/completions \"HTTP/1.1 200 OK\"\n",
      "INFO:httpx:HTTP Request: POST https://api.sambanova.ai/v1/chat/completions \"HTTP/1.1 200 OK\"\n",
      "INFO:httpx:HTTP Request: POST https://api.sambanova.ai/v1/chat/completions \"HTTP/1.1 200 OK\"\n"
     ]
    },
    {
     "name": "stdout",
     "output_type": "stream",
     "text": [
      "⠼ Processed 134 chunks, 1595 entities(duplicated), 773 relations(duplicated)\r"
     ]
    },
    {
     "name": "stderr",
     "output_type": "stream",
     "text": [
      "Extracting entities from chunks:  62%|██████▏   | 134/217 [09:30<25:27, 18.40s/chunk]INFO:httpx:HTTP Request: POST https://api.sambanova.ai/v1/chat/completions \"HTTP/1.1 200 OK\"\n",
      "INFO:httpx:HTTP Request: POST https://api.sambanova.ai/v1/chat/completions \"HTTP/1.1 200 OK\"\n",
      "INFO:httpx:HTTP Request: POST https://api.sambanova.ai/v1/chat/completions \"HTTP/1.1 200 OK\"\n"
     ]
    },
    {
     "name": "stdout",
     "output_type": "stream",
     "text": [
      "⠴ Processed 135 chunks, 1605 entities(duplicated), 778 relations(duplicated)\r"
     ]
    },
    {
     "name": "stderr",
     "output_type": "stream",
     "text": [
      "Extracting entities from chunks:  62%|██████▏   | 135/217 [09:32<18:23, 13.46s/chunk]INFO:httpx:HTTP Request: POST https://api.sambanova.ai/v1/chat/completions \"HTTP/1.1 200 OK\"\n"
     ]
    },
    {
     "name": "stdout",
     "output_type": "stream",
     "text": [
      "⠦ Processed 136 chunks, 1619 entities(duplicated), 781 relations(duplicated)\r"
     ]
    },
    {
     "name": "stderr",
     "output_type": "stream",
     "text": [
      "Extracting entities from chunks:  63%|██████▎   | 136/217 [09:34<13:29,  9.99s/chunk]INFO:httpx:HTTP Request: POST https://api.sambanova.ai/v1/chat/completions \"HTTP/1.1 200 OK\"\n"
     ]
    },
    {
     "name": "stdout",
     "output_type": "stream",
     "text": [
      "⠧ Processed 137 chunks, 1634 entities(duplicated), 781 relations(duplicated)\r"
     ]
    },
    {
     "name": "stderr",
     "output_type": "stream",
     "text": [
      "Extracting entities from chunks:  63%|██████▎   | 137/217 [09:37<10:33,  7.92s/chunk]INFO:httpx:HTTP Request: POST https://api.sambanova.ai/v1/chat/completions \"HTTP/1.1 200 OK\"\n",
      "INFO:httpx:HTTP Request: POST https://api.sambanova.ai/v1/chat/completions \"HTTP/1.1 200 OK\"\n",
      "INFO:httpx:HTTP Request: POST https://api.sambanova.ai/v1/chat/completions \"HTTP/1.1 200 OK\"\n"
     ]
    },
    {
     "name": "stdout",
     "output_type": "stream",
     "text": [
      "⠇ Processed 138 chunks, 1647 entities(duplicated), 785 relations(duplicated)\r"
     ]
    },
    {
     "name": "stderr",
     "output_type": "stream",
     "text": [
      "Extracting entities from chunks:  64%|██████▎   | 138/217 [09:38<07:42,  5.86s/chunk]INFO:httpx:HTTP Request: POST https://api.sambanova.ai/v1/chat/completions \"HTTP/1.1 200 OK\"\n",
      "INFO:httpx:HTTP Request: POST https://api.sambanova.ai/v1/chat/completions \"HTTP/1.1 200 OK\"\n",
      "INFO:httpx:HTTP Request: POST https://api.sambanova.ai/v1/chat/completions \"HTTP/1.1 200 OK\"\n",
      "INFO:httpx:HTTP Request: POST https://api.sambanova.ai/v1/chat/completions \"HTTP/1.1 200 OK\"\n"
     ]
    },
    {
     "name": "stdout",
     "output_type": "stream",
     "text": [
      "⠏ Processed 139 chunks, 1659 entities(duplicated), 790 relations(duplicated)\r"
     ]
    },
    {
     "name": "stderr",
     "output_type": "stream",
     "text": [
      "Extracting entities from chunks:  64%|██████▍   | 139/217 [09:44<07:31,  5.79s/chunk]INFO:httpx:HTTP Request: POST https://api.sambanova.ai/v1/chat/completions \"HTTP/1.1 200 OK\"\n"
     ]
    },
    {
     "name": "stdout",
     "output_type": "stream",
     "text": [
      "⠋ Processed 140 chunks, 1676 entities(duplicated), 799 relations(duplicated)\r"
     ]
    },
    {
     "name": "stderr",
     "output_type": "stream",
     "text": [
      "Extracting entities from chunks:  65%|██████▍   | 140/217 [09:45<05:54,  4.60s/chunk]INFO:httpx:HTTP Request: POST https://api.sambanova.ai/v1/chat/completions \"HTTP/1.1 200 OK\"\n",
      "INFO:httpx:HTTP Request: POST https://api.sambanova.ai/v1/chat/completions \"HTTP/1.1 200 OK\"\n",
      "INFO:httpx:HTTP Request: POST https://api.sambanova.ai/v1/chat/completions \"HTTP/1.1 200 OK\"\n"
     ]
    },
    {
     "name": "stdout",
     "output_type": "stream",
     "text": [
      "⠙ Processed 141 chunks, 1690 entities(duplicated), 810 relations(duplicated)\r"
     ]
    },
    {
     "name": "stderr",
     "output_type": "stream",
     "text": [
      "Extracting entities from chunks:  65%|██████▍   | 141/217 [09:47<04:49,  3.80s/chunk]INFO:httpx:HTTP Request: POST https://api.sambanova.ai/v1/chat/completions \"HTTP/1.1 200 OK\"\n"
     ]
    },
    {
     "name": "stdout",
     "output_type": "stream",
     "text": [
      "⠹ Processed 142 chunks, 1708 entities(duplicated), 818 relations(duplicated)\r"
     ]
    },
    {
     "name": "stderr",
     "output_type": "stream",
     "text": [
      "Extracting entities from chunks:  65%|██████▌   | 142/217 [09:48<03:26,  2.76s/chunk]INFO:httpx:HTTP Request: POST https://api.sambanova.ai/v1/chat/completions \"HTTP/1.1 200 OK\"\n",
      "INFO:httpx:HTTP Request: POST https://api.sambanova.ai/v1/chat/completions \"HTTP/1.1 200 OK\"\n",
      "INFO:httpx:HTTP Request: POST https://api.sambanova.ai/v1/chat/completions \"HTTP/1.1 200 OK\"\n",
      "INFO:httpx:HTTP Request: POST https://api.sambanova.ai/v1/chat/completions \"HTTP/1.1 200 OK\"\n",
      "INFO:httpx:HTTP Request: POST https://api.sambanova.ai/v1/chat/completions \"HTTP/1.1 200 OK\"\n"
     ]
    },
    {
     "name": "stdout",
     "output_type": "stream",
     "text": [
      "⠸ Processed 143 chunks, 1723 entities(duplicated), 825 relations(duplicated)\r"
     ]
    },
    {
     "name": "stderr",
     "output_type": "stream",
     "text": [
      "Extracting entities from chunks:  66%|██████▌   | 143/217 [09:49<02:50,  2.30s/chunk]INFO:httpx:HTTP Request: POST https://api.sambanova.ai/v1/chat/completions \"HTTP/1.1 200 OK\"\n"
     ]
    },
    {
     "name": "stdout",
     "output_type": "stream",
     "text": [
      "⠼ Processed 144 chunks, 1736 entities(duplicated), 833 relations(duplicated)\r"
     ]
    },
    {
     "name": "stderr",
     "output_type": "stream",
     "text": [
      "Extracting entities from chunks:  66%|██████▋   | 144/217 [09:51<02:34,  2.12s/chunk]INFO:httpx:HTTP Request: POST https://api.sambanova.ai/v1/chat/completions \"HTTP/1.1 200 OK\"\n"
     ]
    },
    {
     "name": "stdout",
     "output_type": "stream",
     "text": [
      "⠴ Processed 145 chunks, 1751 entities(duplicated), 838 relations(duplicated)\r"
     ]
    },
    {
     "name": "stderr",
     "output_type": "stream",
     "text": [
      "Extracting entities from chunks:  67%|██████▋   | 145/217 [09:51<01:49,  1.53s/chunk]INFO:httpx:HTTP Request: POST https://api.sambanova.ai/v1/chat/completions \"HTTP/1.1 200 OK\"\n",
      "INFO:httpx:HTTP Request: POST https://api.sambanova.ai/v1/chat/completions \"HTTP/1.1 200 OK\"\n"
     ]
    },
    {
     "name": "stdout",
     "output_type": "stream",
     "text": [
      "⠦ Processed 146 chunks, 1771 entities(duplicated), 838 relations(duplicated)\r"
     ]
    },
    {
     "name": "stderr",
     "output_type": "stream",
     "text": [
      "Extracting entities from chunks:  67%|██████▋   | 146/217 [09:52<01:43,  1.46s/chunk]INFO:httpx:HTTP Request: POST https://api.sambanova.ai/v1/chat/completions \"HTTP/1.1 429 Too Many Requests\"\n",
      "INFO:openai._base_client:Retrying request to /chat/completions in 0.396889 seconds\n",
      "INFO:httpx:HTTP Request: POST https://api.sambanova.ai/v1/chat/completions \"HTTP/1.1 429 Too Many Requests\"\n",
      "INFO:openai._base_client:Retrying request to /chat/completions in 0.404591 seconds\n",
      "INFO:httpx:HTTP Request: POST https://api.sambanova.ai/v1/chat/completions \"HTTP/1.1 429 Too Many Requests\"\n",
      "INFO:openai._base_client:Retrying request to /chat/completions in 0.953502 seconds\n",
      "INFO:httpx:HTTP Request: POST https://api.sambanova.ai/v1/chat/completions \"HTTP/1.1 200 OK\"\n"
     ]
    },
    {
     "name": "stdout",
     "output_type": "stream",
     "text": [
      "⠧ Processed 147 chunks, 1786 entities(duplicated), 847 relations(duplicated)\r"
     ]
    },
    {
     "name": "stderr",
     "output_type": "stream",
     "text": [
      "Extracting entities from chunks:  68%|██████▊   | 147/217 [09:53<01:32,  1.32s/chunk]INFO:httpx:HTTP Request: POST https://api.sambanova.ai/v1/chat/completions \"HTTP/1.1 429 Too Many Requests\"\n",
      "INFO:openai._base_client:Retrying request to /chat/completions in 0.431473 seconds\n",
      "INFO:httpx:HTTP Request: POST https://api.sambanova.ai/v1/chat/completions \"HTTP/1.1 429 Too Many Requests\"\n",
      "INFO:openai._base_client:Retrying request to /chat/completions in 0.874671 seconds\n",
      "INFO:httpx:HTTP Request: POST https://api.sambanova.ai/v1/chat/completions \"HTTP/1.1 429 Too Many Requests\"\n",
      "INFO:openai._base_client:Retrying request to /chat/completions in 0.809372 seconds\n",
      "INFO:httpx:HTTP Request: POST https://api.sambanova.ai/v1/chat/completions \"HTTP/1.1 429 Too Many Requests\"\n",
      "INFO:openai._base_client:Retrying request to /chat/completions in 0.442872 seconds\n",
      "INFO:httpx:HTTP Request: POST https://api.sambanova.ai/v1/chat/completions \"HTTP/1.1 429 Too Many Requests\"\n",
      "INFO:httpx:HTTP Request: POST https://api.sambanova.ai/v1/chat/completions \"HTTP/1.1 429 Too Many Requests\"\n",
      "INFO:httpx:HTTP Request: POST https://api.sambanova.ai/v1/chat/completions \"HTTP/1.1 200 OK\"\n",
      "INFO:httpx:HTTP Request: POST https://api.sambanova.ai/v1/chat/completions \"HTTP/1.1 429 Too Many Requests\"\n",
      "INFO:openai._base_client:Retrying request to /chat/completions in 0.875856 seconds\n",
      "INFO:httpx:HTTP Request: POST https://api.sambanova.ai/v1/chat/completions \"HTTP/1.1 429 Too Many Requests\"\n",
      "INFO:httpx:HTTP Request: POST https://api.sambanova.ai/v1/chat/completions \"HTTP/1.1 200 OK\"\n"
     ]
    },
    {
     "name": "stdout",
     "output_type": "stream",
     "text": [
      "⠇ Processed 148 chunks, 1796 entities(duplicated), 851 relations(duplicated)\r"
     ]
    },
    {
     "name": "stderr",
     "output_type": "stream",
     "text": [
      "Extracting entities from chunks:  68%|██████▊   | 148/217 [09:56<02:00,  1.74s/chunk]INFO:httpx:HTTP Request: POST https://api.sambanova.ai/v1/chat/completions \"HTTP/1.1 200 OK\"\n",
      "INFO:httpx:HTTP Request: POST https://api.sambanova.ai/v1/chat/completions \"HTTP/1.1 429 Too Many Requests\"\n",
      "INFO:openai._base_client:Retrying request to /chat/completions in 0.450749 seconds\n",
      "INFO:httpx:HTTP Request: POST https://api.sambanova.ai/v1/chat/completions \"HTTP/1.1 429 Too Many Requests\"\n",
      "INFO:httpx:HTTP Request: POST https://api.sambanova.ai/v1/chat/completions \"HTTP/1.1 429 Too Many Requests\"\n",
      "INFO:openai._base_client:Retrying request to /chat/completions in 0.843532 seconds\n",
      "INFO:httpx:HTTP Request: POST https://api.sambanova.ai/v1/chat/completions \"HTTP/1.1 429 Too Many Requests\"\n",
      "INFO:openai._base_client:Retrying request to /chat/completions in 0.498355 seconds\n",
      "INFO:httpx:HTTP Request: POST https://api.sambanova.ai/v1/chat/completions \"HTTP/1.1 429 Too Many Requests\"\n",
      "INFO:openai._base_client:Retrying request to /chat/completions in 0.449012 seconds\n",
      "INFO:httpx:HTTP Request: POST https://api.sambanova.ai/v1/chat/completions \"HTTP/1.1 200 OK\"\n"
     ]
    },
    {
     "name": "stdout",
     "output_type": "stream",
     "text": [
      "⠏ Processed 149 chunks, 1808 entities(duplicated), 859 relations(duplicated)\r"
     ]
    },
    {
     "name": "stderr",
     "output_type": "stream",
     "text": [
      "Extracting entities from chunks:  69%|██████▊   | 149/217 [09:58<02:03,  1.82s/chunk]INFO:httpx:HTTP Request: POST https://api.sambanova.ai/v1/chat/completions \"HTTP/1.1 429 Too Many Requests\"\n",
      "INFO:openai._base_client:Retrying request to /chat/completions in 0.943394 seconds\n",
      "INFO:httpx:HTTP Request: POST https://api.sambanova.ai/v1/chat/completions \"HTTP/1.1 429 Too Many Requests\"\n",
      "INFO:openai._base_client:Retrying request to /chat/completions in 0.848514 seconds\n",
      "INFO:httpx:HTTP Request: POST https://api.sambanova.ai/v1/chat/completions \"HTTP/1.1 429 Too Many Requests\"\n",
      "INFO:httpx:HTTP Request: POST https://api.sambanova.ai/v1/chat/completions \"HTTP/1.1 429 Too Many Requests\"\n",
      "INFO:openai._base_client:Retrying request to /chat/completions in 0.405851 seconds\n",
      "INFO:httpx:HTTP Request: POST https://api.sambanova.ai/v1/chat/completions \"HTTP/1.1 429 Too Many Requests\"\n",
      "INFO:httpx:HTTP Request: POST https://api.sambanova.ai/v1/chat/completions \"HTTP/1.1 429 Too Many Requests\"\n",
      "INFO:httpx:HTTP Request: POST https://api.sambanova.ai/v1/chat/completions \"HTTP/1.1 429 Too Many Requests\"\n",
      "INFO:openai._base_client:Retrying request to /chat/completions in 0.880059 seconds\n",
      "INFO:httpx:HTTP Request: POST https://api.sambanova.ai/v1/chat/completions \"HTTP/1.1 429 Too Many Requests\"\n",
      "INFO:httpx:HTTP Request: POST https://api.sambanova.ai/v1/chat/completions \"HTTP/1.1 200 OK\"\n",
      "INFO:httpx:HTTP Request: POST https://api.sambanova.ai/v1/chat/completions \"HTTP/1.1 200 OK\"\n"
     ]
    },
    {
     "name": "stdout",
     "output_type": "stream",
     "text": [
      "⠋ Processed 150 chunks, 1815 entities(duplicated), 859 relations(duplicated)\r"
     ]
    },
    {
     "name": "stderr",
     "output_type": "stream",
     "text": [
      "Extracting entities from chunks:  69%|██████▉   | 150/217 [10:01<02:33,  2.29s/chunk]INFO:httpx:HTTP Request: POST https://api.sambanova.ai/v1/chat/completions \"HTTP/1.1 200 OK\"\n"
     ]
    },
    {
     "name": "stdout",
     "output_type": "stream",
     "text": [
      "⠙ Processed 151 chunks, 1832 entities(duplicated), 869 relations(duplicated)\r"
     ]
    },
    {
     "name": "stderr",
     "output_type": "stream",
     "text": [
      "Extracting entities from chunks:  70%|██████▉   | 151/217 [10:01<01:52,  1.70s/chunk]INFO:httpx:HTTP Request: POST https://api.sambanova.ai/v1/chat/completions \"HTTP/1.1 429 Too Many Requests\"\n",
      "INFO:openai._base_client:Retrying request to /chat/completions in 0.479103 seconds\n",
      "INFO:httpx:HTTP Request: POST https://api.sambanova.ai/v1/chat/completions \"HTTP/1.1 429 Too Many Requests\"\n",
      "INFO:openai._base_client:Retrying request to /chat/completions in 0.399880 seconds\n",
      "INFO:httpx:HTTP Request: POST https://api.sambanova.ai/v1/chat/completions \"HTTP/1.1 429 Too Many Requests\"\n",
      "INFO:openai._base_client:Retrying request to /chat/completions in 0.411410 seconds\n",
      "INFO:httpx:HTTP Request: POST https://api.sambanova.ai/v1/chat/completions \"HTTP/1.1 429 Too Many Requests\"\n",
      "INFO:openai._base_client:Retrying request to /chat/completions in 0.818202 seconds\n",
      "INFO:httpx:HTTP Request: POST https://api.sambanova.ai/v1/chat/completions \"HTTP/1.1 429 Too Many Requests\"\n",
      "INFO:openai._base_client:Retrying request to /chat/completions in 0.802866 seconds\n",
      "INFO:httpx:HTTP Request: POST https://api.sambanova.ai/v1/chat/completions \"HTTP/1.1 429 Too Many Requests\"\n",
      "INFO:openai._base_client:Retrying request to /chat/completions in 0.946498 seconds\n",
      "INFO:httpx:HTTP Request: POST https://api.sambanova.ai/v1/chat/completions \"HTTP/1.1 429 Too Many Requests\"\n",
      "INFO:httpx:HTTP Request: POST https://api.sambanova.ai/v1/chat/completions \"HTTP/1.1 429 Too Many Requests\"\n",
      "INFO:httpx:HTTP Request: POST https://api.sambanova.ai/v1/chat/completions \"HTTP/1.1 200 OK\"\n"
     ]
    },
    {
     "name": "stdout",
     "output_type": "stream",
     "text": [
      "⠹ Processed 152 chunks, 1852 entities(duplicated), 876 relations(duplicated)\r"
     ]
    },
    {
     "name": "stderr",
     "output_type": "stream",
     "text": [
      "Extracting entities from chunks:  70%|███████   | 152/217 [10:04<02:15,  2.09s/chunk]INFO:httpx:HTTP Request: POST https://api.sambanova.ai/v1/chat/completions \"HTTP/1.1 200 OK\"\n"
     ]
    },
    {
     "name": "stdout",
     "output_type": "stream",
     "text": [
      "⠸ Processed 153 chunks, 1859 entities(duplicated), 880 relations(duplicated)\r"
     ]
    },
    {
     "name": "stderr",
     "output_type": "stream",
     "text": [
      "INFO:httpx:HTTP Request: POST https://api.sambanova.ai/v1/chat/completions \"HTTP/1.1 429 Too Many Requests\"\n",
      "INFO:httpx:HTTP Request: POST https://api.sambanova.ai/v1/chat/completions \"HTTP/1.1 200 OK\"\n"
     ]
    },
    {
     "name": "stdout",
     "output_type": "stream",
     "text": [
      "⠼ Processed 154 chunks, 1870 entities(duplicated), 885 relations(duplicated)\r"
     ]
    },
    {
     "name": "stderr",
     "output_type": "stream",
     "text": [
      "Extracting entities from chunks:  71%|███████   | 154/217 [10:05<01:23,  1.32s/chunk]INFO:httpx:HTTP Request: POST https://api.sambanova.ai/v1/chat/completions \"HTTP/1.1 429 Too Many Requests\"\n",
      "INFO:openai._base_client:Retrying request to /chat/completions in 0.433718 seconds\n",
      "INFO:httpx:HTTP Request: POST https://api.sambanova.ai/v1/chat/completions \"HTTP/1.1 429 Too Many Requests\"\n",
      "INFO:openai._base_client:Retrying request to /chat/completions in 0.457539 seconds\n",
      "INFO:httpx:HTTP Request: POST https://api.sambanova.ai/v1/chat/completions \"HTTP/1.1 429 Too Many Requests\"\n",
      "INFO:openai._base_client:Retrying request to /chat/completions in 0.391139 seconds\n",
      "INFO:httpx:HTTP Request: POST https://api.sambanova.ai/v1/chat/completions \"HTTP/1.1 429 Too Many Requests\"\n",
      "INFO:openai._base_client:Retrying request to /chat/completions in 0.959783 seconds\n",
      "INFO:httpx:HTTP Request: POST https://api.sambanova.ai/v1/chat/completions \"HTTP/1.1 429 Too Many Requests\"\n",
      "INFO:openai._base_client:Retrying request to /chat/completions in 0.811656 seconds\n",
      "INFO:httpx:HTTP Request: POST https://api.sambanova.ai/v1/chat/completions \"HTTP/1.1 429 Too Many Requests\"\n",
      "INFO:openai._base_client:Retrying request to /chat/completions in 0.806883 seconds\n",
      "INFO:httpx:HTTP Request: POST https://api.sambanova.ai/v1/chat/completions \"HTTP/1.1 429 Too Many Requests\"\n",
      "INFO:httpx:HTTP Request: POST https://api.sambanova.ai/v1/chat/completions \"HTTP/1.1 429 Too Many Requests\"\n",
      "INFO:httpx:HTTP Request: POST https://api.sambanova.ai/v1/chat/completions \"HTTP/1.1 429 Too Many Requests\"\n",
      "INFO:httpx:HTTP Request: POST https://api.sambanova.ai/v1/chat/completions \"HTTP/1.1 200 OK\"\n"
     ]
    },
    {
     "name": "stdout",
     "output_type": "stream",
     "text": [
      "⠴ Processed 155 chunks, 1885 entities(duplicated), 894 relations(duplicated)\r"
     ]
    },
    {
     "name": "stderr",
     "output_type": "stream",
     "text": [
      "Extracting entities from chunks:  71%|███████▏  | 155/217 [10:10<02:16,  2.20s/chunk]INFO:httpx:HTTP Request: POST https://api.sambanova.ai/v1/chat/completions \"HTTP/1.1 429 Too Many Requests\"\n",
      "INFO:openai._base_client:Retrying request to /chat/completions in 0.422216 seconds\n",
      "INFO:httpx:HTTP Request: POST https://api.sambanova.ai/v1/chat/completions \"HTTP/1.1 429 Too Many Requests\"\n",
      "INFO:openai._base_client:Retrying request to /chat/completions in 0.903466 seconds\n",
      "INFO:httpx:HTTP Request: POST https://api.sambanova.ai/v1/chat/completions \"HTTP/1.1 429 Too Many Requests\"\n",
      "INFO:httpx:HTTP Request: POST https://api.sambanova.ai/v1/chat/completions \"HTTP/1.1 200 OK\"\n"
     ]
    },
    {
     "name": "stdout",
     "output_type": "stream",
     "text": [
      "⠦ Processed 156 chunks, 1904 entities(duplicated), 907 relations(duplicated)\r"
     ]
    },
    {
     "name": "stderr",
     "output_type": "stream",
     "text": [
      "Extracting entities from chunks:  72%|███████▏  | 156/217 [10:28<06:26,  6.34s/chunk]INFO:httpx:HTTP Request: POST https://api.sambanova.ai/v1/chat/completions \"HTTP/1.1 200 OK\"\n",
      "INFO:httpx:HTTP Request: POST https://api.sambanova.ai/v1/chat/completions \"HTTP/1.1 200 OK\"\n"
     ]
    },
    {
     "name": "stdout",
     "output_type": "stream",
     "text": [
      "⠧ Processed 157 chunks, 1919 entities(duplicated), 910 relations(duplicated)\r"
     ]
    },
    {
     "name": "stderr",
     "output_type": "stream",
     "text": [
      "Extracting entities from chunks:  72%|███████▏  | 157/217 [10:46<09:30,  9.51s/chunk]INFO:httpx:HTTP Request: POST https://api.sambanova.ai/v1/chat/completions \"HTTP/1.1 200 OK\"\n",
      "INFO:httpx:HTTP Request: POST https://api.sambanova.ai/v1/chat/completions \"HTTP/1.1 200 OK\"\n"
     ]
    },
    {
     "name": "stdout",
     "output_type": "stream",
     "text": [
      "⠇ Processed 158 chunks, 1936 entities(duplicated), 920 relations(duplicated)\r"
     ]
    },
    {
     "name": "stderr",
     "output_type": "stream",
     "text": [
      "Extracting entities from chunks:  73%|███████▎  | 158/217 [10:59<10:10, 10.35s/chunk]INFO:httpx:HTTP Request: POST https://api.sambanova.ai/v1/chat/completions \"HTTP/1.1 200 OK\"\n",
      "INFO:httpx:HTTP Request: POST https://api.sambanova.ai/v1/chat/completions \"HTTP/1.1 200 OK\"\n",
      "INFO:httpx:HTTP Request: POST https://api.sambanova.ai/v1/chat/completions \"HTTP/1.1 200 OK\"\n",
      "INFO:httpx:HTTP Request: POST https://api.sambanova.ai/v1/chat/completions \"HTTP/1.1 200 OK\"\n"
     ]
    },
    {
     "name": "stdout",
     "output_type": "stream",
     "text": [
      "⠏ Processed 159 chunks, 1944 entities(duplicated), 925 relations(duplicated)\r"
     ]
    },
    {
     "name": "stderr",
     "output_type": "stream",
     "text": [
      "Extracting entities from chunks:  73%|███████▎  | 159/217 [11:01<07:50,  8.11s/chunk]INFO:httpx:HTTP Request: POST https://api.sambanova.ai/v1/chat/completions \"HTTP/1.1 200 OK\"\n",
      "INFO:httpx:HTTP Request: POST https://api.sambanova.ai/v1/chat/completions \"HTTP/1.1 200 OK\"\n",
      "INFO:httpx:HTTP Request: POST https://api.sambanova.ai/v1/chat/completions \"HTTP/1.1 200 OK\"\n"
     ]
    },
    {
     "name": "stdout",
     "output_type": "stream",
     "text": [
      "⠋ Processed 160 chunks, 1960 entities(duplicated), 932 relations(duplicated)\r"
     ]
    },
    {
     "name": "stderr",
     "output_type": "stream",
     "text": [
      "Extracting entities from chunks:  74%|███████▎  | 160/217 [11:07<07:01,  7.40s/chunk]INFO:httpx:HTTP Request: POST https://api.sambanova.ai/v1/chat/completions \"HTTP/1.1 200 OK\"\n",
      "INFO:httpx:HTTP Request: POST https://api.sambanova.ai/v1/chat/completions \"HTTP/1.1 200 OK\"\n"
     ]
    },
    {
     "name": "stdout",
     "output_type": "stream",
     "text": [
      "⠙ Processed 161 chunks, 1968 entities(duplicated), 937 relations(duplicated)\r"
     ]
    },
    {
     "name": "stderr",
     "output_type": "stream",
     "text": [
      "Extracting entities from chunks:  74%|███████▍  | 161/217 [11:08<05:17,  5.68s/chunk]INFO:httpx:HTTP Request: POST https://api.sambanova.ai/v1/chat/completions \"HTTP/1.1 200 OK\"\n",
      "INFO:httpx:HTTP Request: POST https://api.sambanova.ai/v1/chat/completions \"HTTP/1.1 200 OK\"\n"
     ]
    },
    {
     "name": "stdout",
     "output_type": "stream",
     "text": [
      "⠹ Processed 162 chunks, 1968 entities(duplicated), 937 relations(duplicated)\r"
     ]
    },
    {
     "name": "stderr",
     "output_type": "stream",
     "text": [
      "Extracting entities from chunks:  75%|███████▍  | 162/217 [11:09<03:49,  4.17s/chunk]INFO:httpx:HTTP Request: POST https://api.sambanova.ai/v1/chat/completions \"HTTP/1.1 200 OK\"\n",
      "INFO:httpx:HTTP Request: POST https://api.sambanova.ai/v1/chat/completions \"HTTP/1.1 200 OK\"\n",
      "INFO:httpx:HTTP Request: POST https://api.sambanova.ai/v1/chat/completions \"HTTP/1.1 200 OK\"\n",
      "INFO:httpx:HTTP Request: POST https://api.sambanova.ai/v1/chat/completions \"HTTP/1.1 200 OK\"\n",
      "INFO:httpx:HTTP Request: POST https://api.sambanova.ai/v1/chat/completions \"HTTP/1.1 200 OK\"\n",
      "INFO:httpx:HTTP Request: POST https://api.sambanova.ai/v1/chat/completions \"HTTP/1.1 200 OK\"\n"
     ]
    },
    {
     "name": "stdout",
     "output_type": "stream",
     "text": [
      "⠸ Processed 163 chunks, 1979 entities(duplicated), 944 relations(duplicated)\r"
     ]
    },
    {
     "name": "stderr",
     "output_type": "stream",
     "text": [
      "Extracting entities from chunks:  75%|███████▌  | 163/217 [11:13<03:39,  4.07s/chunk]INFO:httpx:HTTP Request: POST https://api.sambanova.ai/v1/chat/completions \"HTTP/1.1 200 OK\"\n"
     ]
    },
    {
     "name": "stdout",
     "output_type": "stream",
     "text": [
      "⠼ Processed 164 chunks, 1992 entities(duplicated), 944 relations(duplicated)\r"
     ]
    },
    {
     "name": "stderr",
     "output_type": "stream",
     "text": [
      "Extracting entities from chunks:  76%|███████▌  | 164/217 [11:13<02:36,  2.95s/chunk]INFO:httpx:HTTP Request: POST https://api.sambanova.ai/v1/chat/completions \"HTTP/1.1 200 OK\"\n",
      "INFO:httpx:HTTP Request: POST https://api.sambanova.ai/v1/chat/completions \"HTTP/1.1 200 OK\"\n"
     ]
    },
    {
     "name": "stdout",
     "output_type": "stream",
     "text": [
      "⠴ Processed 165 chunks, 2000 entities(duplicated), 948 relations(duplicated)\r"
     ]
    },
    {
     "name": "stderr",
     "output_type": "stream",
     "text": [
      "Extracting entities from chunks:  76%|███████▌  | 165/217 [11:14<02:04,  2.39s/chunk]INFO:httpx:HTTP Request: POST https://api.sambanova.ai/v1/chat/completions \"HTTP/1.1 200 OK\"\n"
     ]
    },
    {
     "name": "stdout",
     "output_type": "stream",
     "text": [
      "⠦ Processed 166 chunks, 2011 entities(duplicated), 948 relations(duplicated)\r"
     ]
    },
    {
     "name": "stderr",
     "output_type": "stream",
     "text": [
      "Extracting entities from chunks:  76%|███████▋  | 166/217 [11:14<01:29,  1.75s/chunk]INFO:httpx:HTTP Request: POST https://api.sambanova.ai/v1/chat/completions \"HTTP/1.1 200 OK\"\n",
      "INFO:httpx:HTTP Request: POST https://api.sambanova.ai/v1/chat/completions \"HTTP/1.1 200 OK\"\n"
     ]
    },
    {
     "name": "stdout",
     "output_type": "stream",
     "text": [
      "⠧ Processed 167 chunks, 2028 entities(duplicated), 959 relations(duplicated)\r"
     ]
    },
    {
     "name": "stderr",
     "output_type": "stream",
     "text": [
      "Extracting entities from chunks:  77%|███████▋  | 167/217 [11:16<01:23,  1.66s/chunk]INFO:httpx:HTTP Request: POST https://api.sambanova.ai/v1/chat/completions \"HTTP/1.1 429 Too Many Requests\"\n",
      "INFO:openai._base_client:Retrying request to /chat/completions in 0.443938 seconds\n",
      "INFO:httpx:HTTP Request: POST https://api.sambanova.ai/v1/chat/completions \"HTTP/1.1 200 OK\"\n",
      "INFO:httpx:HTTP Request: POST https://api.sambanova.ai/v1/chat/completions \"HTTP/1.1 429 Too Many Requests\"\n",
      "INFO:openai._base_client:Retrying request to /chat/completions in 0.861145 seconds\n",
      "INFO:httpx:HTTP Request: POST https://api.sambanova.ai/v1/chat/completions \"HTTP/1.1 429 Too Many Requests\"\n",
      "INFO:openai._base_client:Retrying request to /chat/completions in 0.402894 seconds\n",
      "INFO:httpx:HTTP Request: POST https://api.sambanova.ai/v1/chat/completions \"HTTP/1.1 200 OK\"\n",
      "INFO:httpx:HTTP Request: POST https://api.sambanova.ai/v1/chat/completions \"HTTP/1.1 200 OK\"\n",
      "INFO:httpx:HTTP Request: POST https://api.sambanova.ai/v1/chat/completions \"HTTP/1.1 200 OK\"\n"
     ]
    },
    {
     "name": "stdout",
     "output_type": "stream",
     "text": [
      "⠇ Processed 168 chunks, 2044 entities(duplicated), 974 relations(duplicated)\r"
     ]
    },
    {
     "name": "stderr",
     "output_type": "stream",
     "text": [
      "Extracting entities from chunks:  77%|███████▋  | 168/217 [11:19<01:38,  2.02s/chunk]INFO:httpx:HTTP Request: POST https://api.sambanova.ai/v1/chat/completions \"HTTP/1.1 429 Too Many Requests\"\n",
      "INFO:openai._base_client:Retrying request to /chat/completions in 0.758572 seconds\n",
      "INFO:httpx:HTTP Request: POST https://api.sambanova.ai/v1/chat/completions \"HTTP/1.1 429 Too Many Requests\"\n",
      "INFO:httpx:HTTP Request: POST https://api.sambanova.ai/v1/chat/completions \"HTTP/1.1 200 OK\"\n",
      "INFO:httpx:HTTP Request: POST https://api.sambanova.ai/v1/chat/completions \"HTTP/1.1 429 Too Many Requests\"\n",
      "INFO:openai._base_client:Retrying request to /chat/completions in 0.442747 seconds\n",
      "INFO:httpx:HTTP Request: POST https://api.sambanova.ai/v1/chat/completions \"HTTP/1.1 429 Too Many Requests\"\n",
      "INFO:openai._base_client:Retrying request to /chat/completions in 0.464014 seconds\n",
      "INFO:httpx:HTTP Request: POST https://api.sambanova.ai/v1/chat/completions \"HTTP/1.1 429 Too Many Requests\"\n",
      "INFO:openai._base_client:Retrying request to /chat/completions in 0.486173 seconds\n",
      "INFO:httpx:HTTP Request: POST https://api.sambanova.ai/v1/chat/completions \"HTTP/1.1 200 OK\"\n"
     ]
    },
    {
     "name": "stdout",
     "output_type": "stream",
     "text": [
      "⠏ Processed 169 chunks, 2055 entities(duplicated), 978 relations(duplicated)\r"
     ]
    },
    {
     "name": "stderr",
     "output_type": "stream",
     "text": [
      "Extracting entities from chunks:  78%|███████▊  | 169/217 [11:20<01:22,  1.73s/chunk]INFO:httpx:HTTP Request: POST https://api.sambanova.ai/v1/chat/completions \"HTTP/1.1 429 Too Many Requests\"\n",
      "INFO:httpx:HTTP Request: POST https://api.sambanova.ai/v1/chat/completions \"HTTP/1.1 429 Too Many Requests\"\n",
      "INFO:openai._base_client:Retrying request to /chat/completions in 0.416759 seconds\n",
      "INFO:httpx:HTTP Request: POST https://api.sambanova.ai/v1/chat/completions \"HTTP/1.1 429 Too Many Requests\"\n",
      "INFO:openai._base_client:Retrying request to /chat/completions in 0.799309 seconds\n",
      "INFO:httpx:HTTP Request: POST https://api.sambanova.ai/v1/chat/completions \"HTTP/1.1 429 Too Many Requests\"\n",
      "INFO:openai._base_client:Retrying request to /chat/completions in 0.834170 seconds\n",
      "INFO:httpx:HTTP Request: POST https://api.sambanova.ai/v1/chat/completions \"HTTP/1.1 429 Too Many Requests\"\n",
      "INFO:openai._base_client:Retrying request to /chat/completions in 0.858835 seconds\n",
      "INFO:httpx:HTTP Request: POST https://api.sambanova.ai/v1/chat/completions \"HTTP/1.1 429 Too Many Requests\"\n",
      "INFO:openai._base_client:Retrying request to /chat/completions in 0.943667 seconds\n",
      "INFO:httpx:HTTP Request: POST https://api.sambanova.ai/v1/chat/completions \"HTTP/1.1 429 Too Many Requests\"\n",
      "INFO:openai._base_client:Retrying request to /chat/completions in 0.398985 seconds\n",
      "INFO:httpx:HTTP Request: POST https://api.sambanova.ai/v1/chat/completions \"HTTP/1.1 200 OK\"\n"
     ]
    },
    {
     "name": "stdout",
     "output_type": "stream",
     "text": [
      "⠋ Processed 170 chunks, 2063 entities(duplicated), 985 relations(duplicated)\r"
     ]
    },
    {
     "name": "stderr",
     "output_type": "stream",
     "text": [
      "Extracting entities from chunks:  78%|███████▊  | 170/217 [11:21<01:13,  1.57s/chunk]INFO:httpx:HTTP Request: POST https://api.sambanova.ai/v1/chat/completions \"HTTP/1.1 429 Too Many Requests\"\n",
      "INFO:httpx:HTTP Request: POST https://api.sambanova.ai/v1/chat/completions \"HTTP/1.1 429 Too Many Requests\"\n",
      "INFO:httpx:HTTP Request: POST https://api.sambanova.ai/v1/chat/completions \"HTTP/1.1 429 Too Many Requests\"\n",
      "INFO:openai._base_client:Retrying request to /chat/completions in 0.840023 seconds\n",
      "INFO:httpx:HTTP Request: POST https://api.sambanova.ai/v1/chat/completions \"HTTP/1.1 429 Too Many Requests\"\n",
      "INFO:httpx:HTTP Request: POST https://api.sambanova.ai/v1/chat/completions \"HTTP/1.1 429 Too Many Requests\"\n",
      "INFO:httpx:HTTP Request: POST https://api.sambanova.ai/v1/chat/completions \"HTTP/1.1 429 Too Many Requests\"\n",
      "INFO:openai._base_client:Retrying request to /chat/completions in 0.462825 seconds\n",
      "INFO:httpx:HTTP Request: POST https://api.sambanova.ai/v1/chat/completions \"HTTP/1.1 429 Too Many Requests\"\n",
      "INFO:httpx:HTTP Request: POST https://api.sambanova.ai/v1/chat/completions \"HTTP/1.1 429 Too Many Requests\"\n",
      "INFO:openai._base_client:Retrying request to /chat/completions in 0.888251 seconds\n",
      "INFO:httpx:HTTP Request: POST https://api.sambanova.ai/v1/chat/completions \"HTTP/1.1 200 OK\"\n"
     ]
    },
    {
     "name": "stdout",
     "output_type": "stream",
     "text": [
      "⠙ Processed 171 chunks, 2082 entities(duplicated), 993 relations(duplicated)\r"
     ]
    },
    {
     "name": "stderr",
     "output_type": "stream",
     "text": [
      "Extracting entities from chunks:  79%|███████▉  | 171/217 [11:23<01:19,  1.73s/chunk]INFO:httpx:HTTP Request: POST https://api.sambanova.ai/v1/chat/completions \"HTTP/1.1 200 OK\"\n",
      "INFO:httpx:HTTP Request: POST https://api.sambanova.ai/v1/chat/completions \"HTTP/1.1 200 OK\"\n"
     ]
    },
    {
     "name": "stdout",
     "output_type": "stream",
     "text": [
      "⠹ Processed 172 chunks, 2100 entities(duplicated), 1002 relations(duplicated)\r"
     ]
    },
    {
     "name": "stderr",
     "output_type": "stream",
     "text": [
      "Extracting entities from chunks:  79%|███████▉  | 172/217 [11:23<00:59,  1.31s/chunk]INFO:httpx:HTTP Request: POST https://api.sambanova.ai/v1/chat/completions \"HTTP/1.1 200 OK\"\n"
     ]
    },
    {
     "name": "stdout",
     "output_type": "stream",
     "text": [
      "⠸ Processed 173 chunks, 2118 entities(duplicated), 1009 relations(duplicated)\r"
     ]
    },
    {
     "name": "stderr",
     "output_type": "stream",
     "text": [
      "Extracting entities from chunks:  80%|███████▉  | 173/217 [11:24<00:46,  1.07s/chunk]INFO:httpx:HTTP Request: POST https://api.sambanova.ai/v1/chat/completions \"HTTP/1.1 429 Too Many Requests\"\n",
      "INFO:httpx:HTTP Request: POST https://api.sambanova.ai/v1/chat/completions \"HTTP/1.1 200 OK\"\n",
      "INFO:httpx:HTTP Request: POST https://api.sambanova.ai/v1/chat/completions \"HTTP/1.1 429 Too Many Requests\"\n",
      "INFO:openai._base_client:Retrying request to /chat/completions in 0.394002 seconds\n",
      "INFO:httpx:HTTP Request: POST https://api.sambanova.ai/v1/chat/completions \"HTTP/1.1 429 Too Many Requests\"\n",
      "INFO:openai._base_client:Retrying request to /chat/completions in 0.432477 seconds\n",
      "INFO:httpx:HTTP Request: POST https://api.sambanova.ai/v1/chat/completions \"HTTP/1.1 429 Too Many Requests\"\n",
      "INFO:openai._base_client:Retrying request to /chat/completions in 0.394983 seconds\n",
      "INFO:httpx:HTTP Request: POST https://api.sambanova.ai/v1/chat/completions \"HTTP/1.1 429 Too Many Requests\"\n",
      "INFO:httpx:HTTP Request: POST https://api.sambanova.ai/v1/chat/completions \"HTTP/1.1 429 Too Many Requests\"\n",
      "INFO:openai._base_client:Retrying request to /chat/completions in 0.878093 seconds\n",
      "INFO:openai._base_client:Retrying request to /chat/completions in 0.445390 seconds\n",
      "INFO:httpx:HTTP Request: POST https://api.sambanova.ai/v1/chat/completions \"HTTP/1.1 429 Too Many Requests\"\n",
      "INFO:openai._base_client:Retrying request to /chat/completions in 0.790834 seconds\n",
      "INFO:httpx:HTTP Request: POST https://api.sambanova.ai/v1/chat/completions \"HTTP/1.1 429 Too Many Requests\"\n",
      "INFO:openai._base_client:Retrying request to /chat/completions in 0.751908 seconds\n",
      "INFO:httpx:HTTP Request: POST https://api.sambanova.ai/v1/chat/completions \"HTTP/1.1 429 Too Many Requests\"\n",
      "INFO:openai._base_client:Retrying request to /chat/completions in 0.425070 seconds\n",
      "INFO:httpx:HTTP Request: POST https://api.sambanova.ai/v1/chat/completions \"HTTP/1.1 200 OK\"\n"
     ]
    },
    {
     "name": "stdout",
     "output_type": "stream",
     "text": [
      "⠼ Processed 174 chunks, 2123 entities(duplicated), 1009 relations(duplicated)\r"
     ]
    },
    {
     "name": "stderr",
     "output_type": "stream",
     "text": [
      "Extracting entities from chunks:  80%|████████  | 174/217 [11:25<00:52,  1.21s/chunk]INFO:httpx:HTTP Request: POST https://api.sambanova.ai/v1/chat/completions \"HTTP/1.1 429 Too Many Requests\"\n",
      "INFO:openai._base_client:Retrying request to /chat/completions in 0.938066 seconds\n",
      "INFO:httpx:HTTP Request: POST https://api.sambanova.ai/v1/chat/completions \"HTTP/1.1 429 Too Many Requests\"\n",
      "INFO:openai._base_client:Retrying request to /chat/completions in 0.969180 seconds\n",
      "INFO:httpx:HTTP Request: POST https://api.sambanova.ai/v1/chat/completions \"HTTP/1.1 429 Too Many Requests\"\n",
      "INFO:httpx:HTTP Request: POST https://api.sambanova.ai/v1/chat/completions \"HTTP/1.1 429 Too Many Requests\"\n",
      "INFO:httpx:HTTP Request: POST https://api.sambanova.ai/v1/chat/completions \"HTTP/1.1 429 Too Many Requests\"\n",
      "INFO:httpx:HTTP Request: POST https://api.sambanova.ai/v1/chat/completions \"HTTP/1.1 429 Too Many Requests\"\n",
      "INFO:openai._base_client:Retrying request to /chat/completions in 0.478805 seconds\n",
      "INFO:httpx:HTTP Request: POST https://api.sambanova.ai/v1/chat/completions \"HTTP/1.1 429 Too Many Requests\"\n",
      "INFO:httpx:HTTP Request: POST https://api.sambanova.ai/v1/chat/completions \"HTTP/1.1 429 Too Many Requests\"\n",
      "INFO:httpx:HTTP Request: POST https://api.sambanova.ai/v1/chat/completions \"HTTP/1.1 429 Too Many Requests\"\n",
      "INFO:openai._base_client:Retrying request to /chat/completions in 0.785070 seconds\n",
      "INFO:httpx:HTTP Request: POST https://api.sambanova.ai/v1/chat/completions \"HTTP/1.1 429 Too Many Requests\"\n",
      "INFO:httpx:HTTP Request: POST https://api.sambanova.ai/v1/chat/completions \"HTTP/1.1 200 OK\"\n"
     ]
    },
    {
     "name": "stdout",
     "output_type": "stream",
     "text": [
      "⠴ Processed 175 chunks, 2141 entities(duplicated), 1019 relations(duplicated)\r"
     ]
    },
    {
     "name": "stderr",
     "output_type": "stream",
     "text": [
      "Extracting entities from chunks:  81%|████████  | 175/217 [11:31<01:49,  2.61s/chunk]INFO:httpx:HTTP Request: POST https://api.sambanova.ai/v1/chat/completions \"HTTP/1.1 200 OK\"\n"
     ]
    },
    {
     "name": "stdout",
     "output_type": "stream",
     "text": [
      "⠦ Processed 176 chunks, 2156 entities(duplicated), 1026 relations(duplicated)\r"
     ]
    },
    {
     "name": "stderr",
     "output_type": "stream",
     "text": [
      "Extracting entities from chunks:  81%|████████  | 176/217 [11:32<01:19,  1.94s/chunk]INFO:httpx:HTTP Request: POST https://api.sambanova.ai/v1/chat/completions \"HTTP/1.1 429 Too Many Requests\"\n",
      "INFO:openai._base_client:Retrying request to /chat/completions in 0.398086 seconds\n",
      "INFO:httpx:HTTP Request: POST https://api.sambanova.ai/v1/chat/completions \"HTTP/1.1 429 Too Many Requests\"\n",
      "INFO:openai._base_client:Retrying request to /chat/completions in 0.959524 seconds\n",
      "INFO:httpx:HTTP Request: POST https://api.sambanova.ai/v1/chat/completions \"HTTP/1.1 429 Too Many Requests\"\n",
      "INFO:httpx:HTTP Request: POST https://api.sambanova.ai/v1/chat/completions \"HTTP/1.1 200 OK\"\n",
      "INFO:httpx:HTTP Request: POST https://api.sambanova.ai/v1/chat/completions \"HTTP/1.1 200 OK\"\n"
     ]
    },
    {
     "name": "stdout",
     "output_type": "stream",
     "text": [
      "⠧ Processed 177 chunks, 2169 entities(duplicated), 1036 relations(duplicated)\r"
     ]
    },
    {
     "name": "stderr",
     "output_type": "stream",
     "text": [
      "Extracting entities from chunks:  82%|████████▏ | 177/217 [11:46<03:50,  5.75s/chunk]INFO:httpx:HTTP Request: POST https://api.sambanova.ai/v1/chat/completions \"HTTP/1.1 200 OK\"\n",
      "INFO:httpx:HTTP Request: POST https://api.sambanova.ai/v1/chat/completions \"HTTP/1.1 429 Too Many Requests\"\n",
      "INFO:openai._base_client:Retrying request to /chat/completions in 0.466917 seconds\n",
      "INFO:httpx:HTTP Request: POST https://api.sambanova.ai/v1/chat/completions \"HTTP/1.1 429 Too Many Requests\"\n",
      "INFO:openai._base_client:Retrying request to /chat/completions in 0.836410 seconds\n",
      "INFO:httpx:HTTP Request: POST https://api.sambanova.ai/v1/chat/completions \"HTTP/1.1 200 OK\"\n"
     ]
    },
    {
     "name": "stdout",
     "output_type": "stream",
     "text": [
      "⠇ Processed 178 chunks, 2181 entities(duplicated), 1044 relations(duplicated)\r"
     ]
    },
    {
     "name": "stderr",
     "output_type": "stream",
     "text": [
      "Extracting entities from chunks:  82%|████████▏ | 178/217 [12:00<05:22,  8.26s/chunk]INFO:httpx:HTTP Request: POST https://api.sambanova.ai/v1/chat/completions \"HTTP/1.1 200 OK\"\n",
      "INFO:httpx:HTTP Request: POST https://api.sambanova.ai/v1/chat/completions \"HTTP/1.1 200 OK\"\n"
     ]
    },
    {
     "name": "stdout",
     "output_type": "stream",
     "text": [
      "⠏ Processed 179 chunks, 2189 entities(duplicated), 1050 relations(duplicated)\r"
     ]
    },
    {
     "name": "stderr",
     "output_type": "stream",
     "text": [
      "Extracting entities from chunks:  82%|████████▏ | 179/217 [12:13<06:02,  9.55s/chunk]INFO:openai._base_client:Retrying request to /chat/completions in 0.441650 seconds\n",
      "INFO:httpx:HTTP Request: POST https://api.sambanova.ai/v1/chat/completions \"HTTP/1.1 200 OK\"\n",
      "INFO:httpx:HTTP Request: POST https://api.sambanova.ai/v1/chat/completions \"HTTP/1.1 200 OK\"\n",
      "INFO:httpx:HTTP Request: POST https://api.sambanova.ai/v1/chat/completions \"HTTP/1.1 200 OK\"\n",
      "INFO:httpx:HTTP Request: POST https://api.sambanova.ai/v1/chat/completions \"HTTP/1.1 200 OK\"\n",
      "INFO:httpx:HTTP Request: POST https://api.sambanova.ai/v1/chat/completions \"HTTP/1.1 200 OK\"\n",
      "INFO:httpx:HTTP Request: POST https://api.sambanova.ai/v1/chat/completions \"HTTP/1.1 200 OK\"\n",
      "INFO:httpx:HTTP Request: POST https://api.sambanova.ai/v1/chat/completions \"HTTP/1.1 200 OK\"\n"
     ]
    },
    {
     "name": "stdout",
     "output_type": "stream",
     "text": [
      "⠋ Processed 180 chunks, 2199 entities(duplicated), 1053 relations(duplicated)\r"
     ]
    },
    {
     "name": "stderr",
     "output_type": "stream",
     "text": [
      "Extracting entities from chunks:  83%|████████▎ | 180/217 [12:36<08:17, 13.44s/chunk]INFO:httpx:HTTP Request: POST https://api.sambanova.ai/v1/chat/completions \"HTTP/1.1 200 OK\"\n",
      "INFO:httpx:HTTP Request: POST https://api.sambanova.ai/v1/chat/completions \"HTTP/1.1 200 OK\"\n",
      "INFO:httpx:HTTP Request: POST https://api.sambanova.ai/v1/chat/completions \"HTTP/1.1 200 OK\"\n"
     ]
    },
    {
     "name": "stdout",
     "output_type": "stream",
     "text": [
      "⠙ Processed 181 chunks, 2213 entities(duplicated), 1061 relations(duplicated)\r"
     ]
    },
    {
     "name": "stderr",
     "output_type": "stream",
     "text": [
      "Extracting entities from chunks:  83%|████████▎ | 181/217 [12:36<05:41,  9.49s/chunk]INFO:httpx:HTTP Request: POST https://api.sambanova.ai/v1/chat/completions \"HTTP/1.1 200 OK\"\n"
     ]
    },
    {
     "name": "stdout",
     "output_type": "stream",
     "text": [
      "⠹ Processed 182 chunks, 2221 entities(duplicated), 1066 relations(duplicated)\r"
     ]
    },
    {
     "name": "stderr",
     "output_type": "stream",
     "text": [
      "Extracting entities from chunks:  84%|████████▍ | 182/217 [12:36<03:54,  6.71s/chunk]INFO:httpx:HTTP Request: POST https://api.sambanova.ai/v1/chat/completions \"HTTP/1.1 200 OK\"\n"
     ]
    },
    {
     "name": "stdout",
     "output_type": "stream",
     "text": [
      "⠸ Processed 183 chunks, 2229 entities(duplicated), 1066 relations(duplicated)\r"
     ]
    },
    {
     "name": "stderr",
     "output_type": "stream",
     "text": [
      "Extracting entities from chunks:  84%|████████▍ | 183/217 [12:36<02:42,  4.79s/chunk]INFO:httpx:HTTP Request: POST https://api.sambanova.ai/v1/chat/completions \"HTTP/1.1 200 OK\"\n",
      "INFO:httpx:HTTP Request: POST https://api.sambanova.ai/v1/chat/completions \"HTTP/1.1 200 OK\"\n"
     ]
    },
    {
     "name": "stdout",
     "output_type": "stream",
     "text": [
      "⠼ Processed 184 chunks, 2238 entities(duplicated), 1072 relations(duplicated)\r"
     ]
    },
    {
     "name": "stderr",
     "output_type": "stream",
     "text": [
      "Extracting entities from chunks:  85%|████████▍ | 184/217 [12:38<02:11,  3.97s/chunk]INFO:httpx:HTTP Request: POST https://api.sambanova.ai/v1/chat/completions \"HTTP/1.1 200 OK\"\n"
     ]
    },
    {
     "name": "stdout",
     "output_type": "stream",
     "text": [
      "⠴ Processed 185 chunks, 2250 entities(duplicated), 1078 relations(duplicated)\r"
     ]
    },
    {
     "name": "stderr",
     "output_type": "stream",
     "text": [
      "Extracting entities from chunks:  85%|████████▌ | 185/217 [12:39<01:36,  3.03s/chunk]INFO:httpx:HTTP Request: POST https://api.sambanova.ai/v1/chat/completions \"HTTP/1.1 200 OK\"\n"
     ]
    },
    {
     "name": "stdout",
     "output_type": "stream",
     "text": [
      "⠦ Processed 186 chunks, 2263 entities(duplicated), 1078 relations(duplicated)\r"
     ]
    },
    {
     "name": "stderr",
     "output_type": "stream",
     "text": [
      "Extracting entities from chunks:  86%|████████▌ | 186/217 [12:39<01:07,  2.17s/chunk]INFO:httpx:HTTP Request: POST https://api.sambanova.ai/v1/chat/completions \"HTTP/1.1 200 OK\"\n"
     ]
    },
    {
     "name": "stdout",
     "output_type": "stream",
     "text": [
      "⠧ Processed 187 chunks, 2271 entities(duplicated), 1083 relations(duplicated)\r"
     ]
    },
    {
     "name": "stderr",
     "output_type": "stream",
     "text": [
      "Extracting entities from chunks:  86%|████████▌ | 187/217 [12:40<00:47,  1.57s/chunk]INFO:httpx:HTTP Request: POST https://api.sambanova.ai/v1/chat/completions \"HTTP/1.1 200 OK\"\n"
     ]
    },
    {
     "name": "stdout",
     "output_type": "stream",
     "text": [
      "⠇ Processed 188 chunks, 2283 entities(duplicated), 1089 relations(duplicated)\r"
     ]
    },
    {
     "name": "stderr",
     "output_type": "stream",
     "text": [
      "INFO:httpx:HTTP Request: POST https://api.sambanova.ai/v1/chat/completions \"HTTP/1.1 200 OK\"\n"
     ]
    },
    {
     "name": "stdout",
     "output_type": "stream",
     "text": [
      "⠏ Processed 189 chunks, 2293 entities(duplicated), 1095 relations(duplicated)\r"
     ]
    },
    {
     "name": "stderr",
     "output_type": "stream",
     "text": [
      "Extracting entities from chunks:  87%|████████▋ | 189/217 [12:42<00:37,  1.35s/chunk]INFO:httpx:HTTP Request: POST https://api.sambanova.ai/v1/chat/completions \"HTTP/1.1 200 OK\"\n",
      "INFO:httpx:HTTP Request: POST https://api.sambanova.ai/v1/chat/completions \"HTTP/1.1 200 OK\"\n",
      "INFO:httpx:HTTP Request: POST https://api.sambanova.ai/v1/chat/completions \"HTTP/1.1 200 OK\"\n",
      "INFO:httpx:HTTP Request: POST https://api.sambanova.ai/v1/chat/completions \"HTTP/1.1 200 OK\"\n",
      "INFO:httpx:HTTP Request: POST https://api.sambanova.ai/v1/chat/completions \"HTTP/1.1 200 OK\"\n",
      "INFO:httpx:HTTP Request: POST https://api.sambanova.ai/v1/chat/completions \"HTTP/1.1 429 Too Many Requests\"\n",
      "INFO:openai._base_client:Retrying request to /chat/completions in 0.442380 seconds\n",
      "INFO:httpx:HTTP Request: POST https://api.sambanova.ai/v1/chat/completions \"HTTP/1.1 429 Too Many Requests\"\n",
      "INFO:openai._base_client:Retrying request to /chat/completions in 0.456419 seconds\n",
      "INFO:httpx:HTTP Request: POST https://api.sambanova.ai/v1/chat/completions \"HTTP/1.1 429 Too Many Requests\"\n",
      "INFO:openai._base_client:Retrying request to /chat/completions in 0.457023 seconds\n",
      "INFO:httpx:HTTP Request: POST https://api.sambanova.ai/v1/chat/completions \"HTTP/1.1 429 Too Many Requests\"\n",
      "INFO:openai._base_client:Retrying request to /chat/completions in 0.824950 seconds\n",
      "INFO:httpx:HTTP Request: POST https://api.sambanova.ai/v1/chat/completions \"HTTP/1.1 429 Too Many Requests\"\n",
      "INFO:openai._base_client:Retrying request to /chat/completions in 0.891737 seconds\n",
      "INFO:httpx:HTTP Request: POST https://api.sambanova.ai/v1/chat/completions \"HTTP/1.1 429 Too Many Requests\"\n",
      "INFO:openai._base_client:Retrying request to /chat/completions in 0.826392 seconds\n",
      "INFO:httpx:HTTP Request: POST https://api.sambanova.ai/v1/chat/completions \"HTTP/1.1 200 OK\"\n",
      "INFO:httpx:HTTP Request: POST https://api.sambanova.ai/v1/chat/completions \"HTTP/1.1 200 OK\"\n",
      "INFO:httpx:HTTP Request: POST https://api.sambanova.ai/v1/chat/completions \"HTTP/1.1 429 Too Many Requests\"\n",
      "INFO:httpx:HTTP Request: POST https://api.sambanova.ai/v1/chat/completions \"HTTP/1.1 200 OK\"\n",
      "INFO:httpx:HTTP Request: POST https://api.sambanova.ai/v1/chat/completions \"HTTP/1.1 429 Too Many Requests\"\n",
      "INFO:httpx:HTTP Request: POST https://api.sambanova.ai/v1/chat/completions \"HTTP/1.1 200 OK\"\n",
      "INFO:httpx:HTTP Request: POST https://api.sambanova.ai/v1/chat/completions \"HTTP/1.1 200 OK\"\n"
     ]
    },
    {
     "name": "stdout",
     "output_type": "stream",
     "text": [
      "⠋ Processed 190 chunks, 2307 entities(duplicated), 1103 relations(duplicated)\r"
     ]
    },
    {
     "name": "stderr",
     "output_type": "stream",
     "text": [
      "Extracting entities from chunks:  88%|████████▊ | 190/217 [12:49<01:14,  2.75s/chunk]INFO:httpx:HTTP Request: POST https://api.sambanova.ai/v1/chat/completions \"HTTP/1.1 429 Too Many Requests\"\n",
      "INFO:httpx:HTTP Request: POST https://api.sambanova.ai/v1/chat/completions \"HTTP/1.1 200 OK\"\n",
      "INFO:httpx:HTTP Request: POST https://api.sambanova.ai/v1/chat/completions \"HTTP/1.1 429 Too Many Requests\"\n",
      "INFO:openai._base_client:Retrying request to /chat/completions in 0.398051 seconds\n",
      "INFO:httpx:HTTP Request: POST https://api.sambanova.ai/v1/chat/completions \"HTTP/1.1 429 Too Many Requests\"\n",
      "INFO:openai._base_client:Retrying request to /chat/completions in 0.394500 seconds\n",
      "INFO:httpx:HTTP Request: POST https://api.sambanova.ai/v1/chat/completions \"HTTP/1.1 429 Too Many Requests\"\n",
      "INFO:openai._base_client:Retrying request to /chat/completions in 0.388212 seconds\n",
      "INFO:httpx:HTTP Request: POST https://api.sambanova.ai/v1/chat/completions \"HTTP/1.1 200 OK\"\n"
     ]
    },
    {
     "name": "stdout",
     "output_type": "stream",
     "text": [
      "⠙ Processed 191 chunks, 2314 entities(duplicated), 1107 relations(duplicated)\r"
     ]
    },
    {
     "name": "stderr",
     "output_type": "stream",
     "text": [
      "Extracting entities from chunks:  88%|████████▊ | 191/217 [12:50<01:03,  2.45s/chunk]INFO:httpx:HTTP Request: POST https://api.sambanova.ai/v1/chat/completions \"HTTP/1.1 200 OK\"\n"
     ]
    },
    {
     "name": "stdout",
     "output_type": "stream",
     "text": [
      "⠹ Processed 192 chunks, 2326 entities(duplicated), 1118 relations(duplicated)\r"
     ]
    },
    {
     "name": "stderr",
     "output_type": "stream",
     "text": [
      "Extracting entities from chunks:  88%|████████▊ | 192/217 [12:51<00:46,  1.85s/chunk]INFO:httpx:HTTP Request: POST https://api.sambanova.ai/v1/chat/completions \"HTTP/1.1 429 Too Many Requests\"\n",
      "INFO:openai._base_client:Retrying request to /chat/completions in 0.827408 seconds\n",
      "INFO:httpx:HTTP Request: POST https://api.sambanova.ai/v1/chat/completions \"HTTP/1.1 429 Too Many Requests\"\n",
      "INFO:openai._base_client:Retrying request to /chat/completions in 0.912275 seconds\n",
      "INFO:httpx:HTTP Request: POST https://api.sambanova.ai/v1/chat/completions \"HTTP/1.1 429 Too Many Requests\"\n",
      "INFO:openai._base_client:Retrying request to /chat/completions in 0.966300 seconds\n",
      "INFO:httpx:HTTP Request: POST https://api.sambanova.ai/v1/chat/completions \"HTTP/1.1 200 OK\"\n"
     ]
    },
    {
     "name": "stdout",
     "output_type": "stream",
     "text": [
      "⠸ Processed 193 chunks, 2337 entities(duplicated), 1124 relations(duplicated)\r"
     ]
    },
    {
     "name": "stderr",
     "output_type": "stream",
     "text": [
      "Extracting entities from chunks:  89%|████████▉ | 193/217 [12:51<00:36,  1.52s/chunk]INFO:httpx:HTTP Request: POST https://api.sambanova.ai/v1/chat/completions \"HTTP/1.1 429 Too Many Requests\"\n",
      "INFO:httpx:HTTP Request: POST https://api.sambanova.ai/v1/chat/completions \"HTTP/1.1 429 Too Many Requests\"\n",
      "INFO:httpx:HTTP Request: POST https://api.sambanova.ai/v1/chat/completions \"HTTP/1.1 429 Too Many Requests\"\n",
      "INFO:httpx:HTTP Request: POST https://api.sambanova.ai/v1/chat/completions \"HTTP/1.1 200 OK\"\n"
     ]
    },
    {
     "name": "stdout",
     "output_type": "stream",
     "text": [
      "⠼ Processed 194 chunks, 2353 entities(duplicated), 1138 relations(duplicated)\r"
     ]
    },
    {
     "name": "stderr",
     "output_type": "stream",
     "text": [
      "Extracting entities from chunks:  89%|████████▉ | 194/217 [12:52<00:31,  1.37s/chunk]INFO:httpx:HTTP Request: POST https://api.sambanova.ai/v1/chat/completions \"HTTP/1.1 429 Too Many Requests\"\n",
      "INFO:openai._base_client:Retrying request to /chat/completions in 0.463923 seconds\n",
      "INFO:httpx:HTTP Request: POST https://api.sambanova.ai/v1/chat/completions \"HTTP/1.1 200 OK\"\n",
      "INFO:httpx:HTTP Request: POST https://api.sambanova.ai/v1/chat/completions \"HTTP/1.1 200 OK\"\n"
     ]
    },
    {
     "name": "stdout",
     "output_type": "stream",
     "text": [
      "⠴ Processed 195 chunks, 2370 entities(duplicated), 1138 relations(duplicated)\r"
     ]
    },
    {
     "name": "stderr",
     "output_type": "stream",
     "text": [
      "Extracting entities from chunks:  90%|████████▉ | 195/217 [12:53<00:26,  1.22s/chunk]INFO:httpx:HTTP Request: POST https://api.sambanova.ai/v1/chat/completions \"HTTP/1.1 429 Too Many Requests\"\n",
      "INFO:openai._base_client:Retrying request to /chat/completions in 0.375037 seconds\n",
      "INFO:httpx:HTTP Request: POST https://api.sambanova.ai/v1/chat/completions \"HTTP/1.1 429 Too Many Requests\"\n",
      "INFO:openai._base_client:Retrying request to /chat/completions in 0.387329 seconds\n",
      "INFO:httpx:HTTP Request: POST https://api.sambanova.ai/v1/chat/completions \"HTTP/1.1 200 OK\"\n"
     ]
    },
    {
     "name": "stdout",
     "output_type": "stream",
     "text": [
      "⠦ Processed 196 chunks, 2382 entities(duplicated), 1143 relations(duplicated)\r"
     ]
    },
    {
     "name": "stderr",
     "output_type": "stream",
     "text": [
      "Extracting entities from chunks:  90%|█████████ | 196/217 [12:54<00:22,  1.09s/chunk]INFO:httpx:HTTP Request: POST https://api.sambanova.ai/v1/chat/completions \"HTTP/1.1 429 Too Many Requests\"\n",
      "INFO:openai._base_client:Retrying request to /chat/completions in 0.994858 seconds\n",
      "INFO:httpx:HTTP Request: POST https://api.sambanova.ai/v1/chat/completions \"HTTP/1.1 429 Too Many Requests\"\n",
      "INFO:openai._base_client:Retrying request to /chat/completions in 0.905083 seconds\n",
      "INFO:httpx:HTTP Request: POST https://api.sambanova.ai/v1/chat/completions \"HTTP/1.1 429 Too Many Requests\"\n",
      "INFO:httpx:HTTP Request: POST https://api.sambanova.ai/v1/chat/completions \"HTTP/1.1 429 Too Many Requests\"\n",
      "INFO:httpx:HTTP Request: POST https://api.sambanova.ai/v1/chat/completions \"HTTP/1.1 200 OK\"\n",
      "INFO:httpx:HTTP Request: POST https://api.sambanova.ai/v1/chat/completions \"HTTP/1.1 200 OK\"\n",
      "INFO:openai._base_client:Retrying request to /chat/completions in 0.412260 seconds\n",
      "INFO:httpx:HTTP Request: POST https://api.sambanova.ai/v1/chat/completions \"HTTP/1.1 200 OK\"\n",
      "INFO:httpx:HTTP Request: POST https://api.sambanova.ai/v1/chat/completions \"HTTP/1.1 200 OK\"\n"
     ]
    },
    {
     "name": "stdout",
     "output_type": "stream",
     "text": [
      "⠧ Processed 197 chunks, 2392 entities(duplicated), 1143 relations(duplicated)\r"
     ]
    },
    {
     "name": "stderr",
     "output_type": "stream",
     "text": [
      "Extracting entities from chunks:  91%|█████████ | 197/217 [13:02<01:00,  3.05s/chunk]INFO:httpx:HTTP Request: POST https://api.sambanova.ai/v1/chat/completions \"HTTP/1.1 429 Too Many Requests\"\n",
      "INFO:openai._base_client:Retrying request to /chat/completions in 0.376816 seconds\n",
      "INFO:httpx:HTTP Request: POST https://api.sambanova.ai/v1/chat/completions \"HTTP/1.1 200 OK\"\n",
      "INFO:httpx:HTTP Request: POST https://api.sambanova.ai/v1/chat/completions \"HTTP/1.1 429 Too Many Requests\"\n",
      "INFO:openai._base_client:Retrying request to /chat/completions in 0.819291 seconds\n",
      "INFO:httpx:HTTP Request: POST https://api.sambanova.ai/v1/chat/completions \"HTTP/1.1 200 OK\"\n"
     ]
    },
    {
     "name": "stdout",
     "output_type": "stream",
     "text": [
      "⠇ Processed 198 chunks, 2406 entities(duplicated), 1153 relations(duplicated)\r"
     ]
    },
    {
     "name": "stderr",
     "output_type": "stream",
     "text": [
      "Extracting entities from chunks:  91%|█████████ | 198/217 [13:04<00:54,  2.86s/chunk]INFO:httpx:HTTP Request: POST https://api.sambanova.ai/v1/chat/completions \"HTTP/1.1 200 OK\"\n"
     ]
    },
    {
     "name": "stdout",
     "output_type": "stream",
     "text": [
      "⠏ Processed 199 chunks, 2417 entities(duplicated), 1153 relations(duplicated)\r"
     ]
    },
    {
     "name": "stderr",
     "output_type": "stream",
     "text": [
      "Extracting entities from chunks:  92%|█████████▏| 199/217 [13:05<00:38,  2.16s/chunk]INFO:httpx:HTTP Request: POST https://api.sambanova.ai/v1/chat/completions \"HTTP/1.1 429 Too Many Requests\"\n",
      "INFO:httpx:HTTP Request: POST https://api.sambanova.ai/v1/chat/completions \"HTTP/1.1 200 OK\"\n",
      "INFO:httpx:HTTP Request: POST https://api.sambanova.ai/v1/chat/completions \"HTTP/1.1 200 OK\"\n"
     ]
    },
    {
     "name": "stdout",
     "output_type": "stream",
     "text": [
      "⠋ Processed 200 chunks, 2425 entities(duplicated), 1157 relations(duplicated)\r"
     ]
    },
    {
     "name": "stderr",
     "output_type": "stream",
     "text": [
      "Extracting entities from chunks:  92%|█████████▏| 200/217 [13:06<00:32,  1.94s/chunk]INFO:httpx:HTTP Request: POST https://api.sambanova.ai/v1/chat/completions \"HTTP/1.1 200 OK\"\n"
     ]
    },
    {
     "name": "stdout",
     "output_type": "stream",
     "text": [
      "⠙ Processed 201 chunks, 2434 entities(duplicated), 1163 relations(duplicated)\r"
     ]
    },
    {
     "name": "stderr",
     "output_type": "stream",
     "text": [
      "Extracting entities from chunks:  93%|█████████▎| 201/217 [13:07<00:25,  1.59s/chunk]INFO:httpx:HTTP Request: POST https://api.sambanova.ai/v1/chat/completions \"HTTP/1.1 200 OK\"\n"
     ]
    },
    {
     "name": "stdout",
     "output_type": "stream",
     "text": [
      "⠹ Processed 202 chunks, 2448 entities(duplicated), 1171 relations(duplicated)\r"
     ]
    },
    {
     "name": "stderr",
     "output_type": "stream",
     "text": [
      "Extracting entities from chunks:  93%|█████████▎| 202/217 [13:08<00:20,  1.39s/chunk]INFO:httpx:HTTP Request: POST https://api.sambanova.ai/v1/chat/completions \"HTTP/1.1 200 OK\"\n",
      "INFO:httpx:HTTP Request: POST https://api.sambanova.ai/v1/chat/completions \"HTTP/1.1 200 OK\"\n",
      "INFO:httpx:HTTP Request: POST https://api.sambanova.ai/v1/chat/completions \"HTTP/1.1 429 Too Many Requests\"\n",
      "INFO:openai._base_client:Retrying request to /chat/completions in 0.377958 seconds\n",
      "INFO:httpx:HTTP Request: POST https://api.sambanova.ai/v1/chat/completions \"HTTP/1.1 200 OK\"\n",
      "INFO:httpx:HTTP Request: POST https://api.sambanova.ai/v1/chat/completions \"HTTP/1.1 429 Too Many Requests\"\n",
      "INFO:openai._base_client:Retrying request to /chat/completions in 0.906369 seconds\n",
      "INFO:httpx:HTTP Request: POST https://api.sambanova.ai/v1/chat/completions \"HTTP/1.1 200 OK\"\n"
     ]
    },
    {
     "name": "stdout",
     "output_type": "stream",
     "text": [
      "⠸ Processed 203 chunks, 2462 entities(duplicated), 1179 relations(duplicated)\r"
     ]
    },
    {
     "name": "stderr",
     "output_type": "stream",
     "text": [
      "Extracting entities from chunks:  94%|█████████▎| 203/217 [13:11<00:27,  1.98s/chunk]INFO:httpx:HTTP Request: POST https://api.sambanova.ai/v1/chat/completions \"HTTP/1.1 429 Too Many Requests\"\n",
      "INFO:httpx:HTTP Request: POST https://api.sambanova.ai/v1/chat/completions \"HTTP/1.1 200 OK\"\n",
      "INFO:httpx:HTTP Request: POST https://api.sambanova.ai/v1/chat/completions \"HTTP/1.1 200 OK\"\n"
     ]
    },
    {
     "name": "stdout",
     "output_type": "stream",
     "text": [
      "⠼ Processed 204 chunks, 2471 entities(duplicated), 1182 relations(duplicated)\r"
     ]
    },
    {
     "name": "stderr",
     "output_type": "stream",
     "text": [
      "Extracting entities from chunks:  94%|█████████▍| 204/217 [13:16<00:39,  3.01s/chunk]INFO:httpx:HTTP Request: POST https://api.sambanova.ai/v1/chat/completions \"HTTP/1.1 200 OK\"\n"
     ]
    },
    {
     "name": "stdout",
     "output_type": "stream",
     "text": [
      "⠴ Processed 205 chunks, 2486 entities(duplicated), 1190 relations(duplicated)\r"
     ]
    },
    {
     "name": "stderr",
     "output_type": "stream",
     "text": [
      "Extracting entities from chunks:  94%|█████████▍| 205/217 [13:18<00:29,  2.45s/chunk]INFO:httpx:HTTP Request: POST https://api.sambanova.ai/v1/chat/completions \"HTTP/1.1 200 OK\"\n"
     ]
    },
    {
     "name": "stdout",
     "output_type": "stream",
     "text": [
      "⠦ Processed 206 chunks, 2500 entities(duplicated), 1199 relations(duplicated)\r"
     ]
    },
    {
     "name": "stderr",
     "output_type": "stream",
     "text": [
      "Extracting entities from chunks:  95%|█████████▍| 206/217 [13:18<00:20,  1.85s/chunk]INFO:httpx:HTTP Request: POST https://api.sambanova.ai/v1/chat/completions \"HTTP/1.1 200 OK\"\n"
     ]
    },
    {
     "name": "stdout",
     "output_type": "stream",
     "text": [
      "⠧ Processed 207 chunks, 2515 entities(duplicated), 1208 relations(duplicated)\r"
     ]
    },
    {
     "name": "stderr",
     "output_type": "stream",
     "text": [
      "Extracting entities from chunks:  95%|█████████▌| 207/217 [13:25<00:35,  3.51s/chunk]INFO:httpx:HTTP Request: POST https://api.sambanova.ai/v1/chat/completions \"HTTP/1.1 200 OK\"\n"
     ]
    },
    {
     "name": "stdout",
     "output_type": "stream",
     "text": [
      "⠇ Processed 208 chunks, 2526 entities(duplicated), 1211 relations(duplicated)\r"
     ]
    },
    {
     "name": "stderr",
     "output_type": "stream",
     "text": [
      "Extracting entities from chunks:  96%|█████████▌| 208/217 [13:54<01:39, 11.04s/chunk]INFO:httpx:HTTP Request: POST https://api.sambanova.ai/v1/chat/completions \"HTTP/1.1 200 OK\"\n",
      "INFO:httpx:HTTP Request: POST https://api.sambanova.ai/v1/chat/completions \"HTTP/1.1 200 OK\"\n"
     ]
    },
    {
     "name": "stdout",
     "output_type": "stream",
     "text": [
      "⠏ Processed 209 chunks, 2535 entities(duplicated), 1218 relations(duplicated)\r"
     ]
    },
    {
     "name": "stderr",
     "output_type": "stream",
     "text": [
      "Extracting entities from chunks:  96%|█████████▋| 209/217 [13:56<01:06,  8.26s/chunk]INFO:httpx:HTTP Request: POST https://api.sambanova.ai/v1/chat/completions \"HTTP/1.1 200 OK\"\n"
     ]
    },
    {
     "name": "stdout",
     "output_type": "stream",
     "text": [
      "⠋ Processed 210 chunks, 2551 entities(duplicated), 1228 relations(duplicated)\r"
     ]
    },
    {
     "name": "stderr",
     "output_type": "stream",
     "text": [
      "Extracting entities from chunks:  97%|█████████▋| 210/217 [13:57<00:43,  6.17s/chunk]INFO:httpx:HTTP Request: POST https://api.sambanova.ai/v1/chat/completions \"HTTP/1.1 200 OK\"\n"
     ]
    },
    {
     "name": "stdout",
     "output_type": "stream",
     "text": [
      "⠙ Processed 211 chunks, 2563 entities(duplicated), 1232 relations(duplicated)\r"
     ]
    },
    {
     "name": "stderr",
     "output_type": "stream",
     "text": [
      "Extracting entities from chunks:  97%|█████████▋| 211/217 [13:58<00:26,  4.45s/chunk]INFO:httpx:HTTP Request: POST https://api.sambanova.ai/v1/chat/completions \"HTTP/1.1 200 OK\"\n"
     ]
    },
    {
     "name": "stdout",
     "output_type": "stream",
     "text": [
      "⠹ Processed 212 chunks, 2571 entities(duplicated), 1237 relations(duplicated)\r"
     ]
    },
    {
     "name": "stderr",
     "output_type": "stream",
     "text": [
      "Extracting entities from chunks:  98%|█████████▊| 212/217 [13:58<00:16,  3.29s/chunk]INFO:httpx:HTTP Request: POST https://api.sambanova.ai/v1/chat/completions \"HTTP/1.1 200 OK\"\n",
      "INFO:httpx:HTTP Request: POST https://api.sambanova.ai/v1/chat/completions \"HTTP/1.1 200 OK\"\n"
     ]
    },
    {
     "name": "stdout",
     "output_type": "stream",
     "text": [
      "⠸ Processed 213 chunks, 2580 entities(duplicated), 1243 relations(duplicated)\r"
     ]
    },
    {
     "name": "stderr",
     "output_type": "stream",
     "text": [
      "Extracting entities from chunks:  98%|█████████▊| 213/217 [14:03<00:15,  3.87s/chunk]INFO:httpx:HTTP Request: POST https://api.sambanova.ai/v1/chat/completions \"HTTP/1.1 200 OK\"\n"
     ]
    },
    {
     "name": "stdout",
     "output_type": "stream",
     "text": [
      "⠼ Processed 214 chunks, 2588 entities(duplicated), 1246 relations(duplicated)\r"
     ]
    },
    {
     "name": "stderr",
     "output_type": "stream",
     "text": [
      "Extracting entities from chunks:  99%|█████████▊| 214/217 [14:06<00:10,  3.52s/chunk]INFO:httpx:HTTP Request: POST https://api.sambanova.ai/v1/chat/completions \"HTTP/1.1 200 OK\"\n"
     ]
    },
    {
     "name": "stdout",
     "output_type": "stream",
     "text": [
      "⠴ Processed 215 chunks, 2607 entities(duplicated), 1256 relations(duplicated)\r"
     ]
    },
    {
     "name": "stderr",
     "output_type": "stream",
     "text": [
      "Extracting entities from chunks:  99%|█████████▉| 215/217 [14:10<00:07,  3.51s/chunk]INFO:httpx:HTTP Request: POST https://api.sambanova.ai/v1/chat/completions \"HTTP/1.1 200 OK\"\n",
      "INFO:httpx:HTTP Request: POST https://api.sambanova.ai/v1/chat/completions \"HTTP/1.1 200 OK\"\n"
     ]
    },
    {
     "name": "stdout",
     "output_type": "stream",
     "text": [
      "⠦ Processed 216 chunks, 2616 entities(duplicated), 1261 relations(duplicated)\r"
     ]
    },
    {
     "name": "stderr",
     "output_type": "stream",
     "text": [
      "Extracting entities from chunks: 100%|█████████▉| 216/217 [14:22<00:06,  6.32s/chunk]INFO:httpx:HTTP Request: POST https://api.sambanova.ai/v1/chat/completions \"HTTP/1.1 200 OK\"\n"
     ]
    },
    {
     "name": "stdout",
     "output_type": "stream",
     "text": [
      "⠧ Processed 217 chunks, 2634 entities(duplicated), 1273 relations(duplicated)\r"
     ]
    },
    {
     "name": "stderr",
     "output_type": "stream",
     "text": [
      "Extracting entities from chunks: 100%|██████████| 217/217 [14:28<00:00,  4.00s/chunk]\n",
      "INFO:lightrag:Inserting entities into storage...\n",
      "Inserting entities:   0%|          | 1/1605 [00:00<11:47,  2.27entity/s]INFO:httpx:HTTP Request: POST https://api.sambanova.ai/v1/chat/completions \"HTTP/1.1 200 OK\"\n",
      "Inserting entities: 100%|█████████▉| 1602/1605 [00:05<00:00, 286.73entity/s]INFO:httpx:HTTP Request: POST https://api.sambanova.ai/v1/chat/completions \"HTTP/1.1 200 OK\"\n",
      "INFO:httpx:HTTP Request: POST https://api.sambanova.ai/v1/chat/completions \"HTTP/1.1 200 OK\"\n",
      "INFO:httpx:HTTP Request: POST https://api.sambanova.ai/v1/chat/completions \"HTTP/1.1 200 OK\"\n",
      "Inserting entities: 100%|██████████| 1605/1605 [00:06<00:00, 234.22entity/s]\n",
      "INFO:lightrag:Inserting relationships into storage...\n",
      "Inserting relationships: 100%|██████████| 1179/1179 [00:00<00:00, 9337.59relationship/s]\n",
      "INFO:lightrag:Inserting 1605 vectors to entities\n",
      "Generating embeddings: 100%|██████████| 51/51 [03:35<00:00,  4.22s/batch]  \n",
      "INFO:lightrag:Inserting 1179 vectors to relationships\n",
      "Generating embeddings: 100%|██████████| 37/37 [02:02<00:00,  3.30s/batch]  \n",
      "INFO:lightrag:Writing graph with 1639 nodes, 1179 edges\n"
     ]
    }
   ],
   "source": [
    "pdf_path = config['raw/Росконгресс_Рынок_промышленных_роботов_в_мире_и_России_2024_16_стр.pdf']\n",
    "docx_path = config['raw/СП_496_1325800_2020_Основания_и_фундаменты_зданий_и_сооружений.docx']\n",
    "rag.insert([pdf_path, docx_path], config=config)"
   ]
  },
  {
   "cell_type": "markdown",
   "metadata": {},
   "source": [
    "## QA test"
   ]
  },
  {
   "cell_type": "code",
   "execution_count": 5,
   "metadata": {},
   "outputs": [],
   "source": [
    "single = ChatOpenAI(api_key=config['samba_nova_api_key'],\n",
    "                base_url=\"https://api.sambanova.ai/v1\",\n",
    "                model=\"Meta-Llama-3.1-405B-Instruct\",\n",
    "                streaming=True)"
   ]
  },
  {
   "cell_type": "code",
   "execution_count": 6,
   "metadata": {},
   "outputs": [
    {
     "name": "stdout",
     "output_type": "stream",
     "text": [
      "\n",
      "## RAG-Answer\n",
      "\n"
     ]
    },
    {
     "name": "stderr",
     "output_type": "stream",
     "text": [
      "INFO:httpx:HTTP Request: POST https://api.sambanova.ai/v1/chat/completions \"HTTP/1.1 200 OK\"\n",
      "INFO:lightrag:kw_prompt result:\n"
     ]
    },
    {
     "name": "stdout",
     "output_type": "stream",
     "text": [
      "Since the query is in Russian, I will provide the output in English, as per the instructions.\n",
      "\n",
      "Query Translation: \"In what cases is the roof of the MMS raised to the level of the base of the embankment for earthworks during the construction of foundations and foundations on the MMS?\"\n",
      "\n",
      "Output:\n",
      "{\n",
      "  \"high_level_keywords\": [\"Earthworks\", \"Foundation construction\", \"MMS ( Mechanized Modular System )\"],\n",
      "  \"low_level_keywords\": [\"Roof raising\", \"Embankment base\", \"Soil excavation\", \"Foundation installation\", \"Modular construction\"]\n",
      "}\n"
     ]
    },
    {
     "name": "stderr",
     "output_type": "stream",
     "text": [
      "INFO:lightrag:Local query uses 60 entites, 74 relations, 5 text units\n",
      "INFO:httpx:HTTP Request: POST https://api.sambanova.ai/v1/chat/completions \"HTTP/1.1 200 OK\"\n"
     ]
    },
    {
     "name": "stdout",
     "output_type": "stream",
     "text": [
      "### Повышение кровли ММГ до уровня подошвы насыпи\n",
      "\n",
      "Повышение кровли ММГ (мерзлотно-мёрзлых грунтов) до уровня подошвы насыпи является одним из методов производства земляных работ при устройстве оснований и фундаментов на ММГ. Этот метод применяется в следующих случаях:\n",
      "\n",
      "*   **При значительном превышении уровня подошвы насыпи над кровлей ММГ**: В этом случае повышение кровли ММГ позволяет уменьшить объём земляных работ и сократить время производства работ.\n",
      "*   **При необходимости устройства фундаментов на ММГ с низкой несущей способностью**: Повышение кровли ММГ позволяет увеличить несущую способность грунта и обеспечить устойчивость фундаментов.\n",
      "*   **При наличии подземных вод или агрессивных грунтов**: Повышение кровли ММГ позволяет уменьшить влияние подземных вод или агрессивных грунтов на фундамент и обеспечить его долговечность.\n",
      "\n",
      "### Технология повышения кровли ММГ\n",
      "\n",
      "Технология повышения кровли ММГ включает в себя следующие этапы:\n",
      "\n",
      "1.  **Подготовка территории**: Перед началом работ производится очистка территории от растительного слоя и других препятствий.\n",
      "2.  **Разработка котлована**: Разрабатывается котлован до проектной глубины, с учетом уровня подошвы насыпи.\n",
      "3.  **Повышение кровли ММГ**: Кровля ММГ повышается до уровня подошвы насыпи с помощью специальной техники и оборудования.\n",
      "4.  **Устройство фундаментов**: После повышения кровли ММГ производится устройство фундаментов в соответствии с проектной документацией.\n",
      "\n",
      "### Преимущества повышения кровли ММГ\n",
      "\n",
      "Повышение кровли ММГ имеет следующие преимущества:\n",
      "\n",
      "*   **Сокращение объёма земляных работ**: Повышение кровли ММГ позволяет уменьшить объём земляных работ и сократить время производства работ.\n",
      "*   **Увеличение несущей способности грунта**: Повышение кровли ММГ позволяет увеличить несущую способность грунта и обеспечить устойчивость фундаментов.\n",
      "*   **Уменьшение влияния подземных вод или агрессивных грунтов**: Повышение кровли ММГ позволяет уменьшить влияние подземных вод или агрессивных грунтов на фундамент и обеспечить его долговечность.\n",
      "\n",
      "## -Llama-405B-Answer\n",
      "\n"
     ]
    },
    {
     "name": "stderr",
     "output_type": "stream",
     "text": [
      "INFO:httpx:HTTP Request: POST https://api.sambanova.ai/v1/chat/completions \"HTTP/1.1 200 OK\"\n"
     ]
    },
    {
     "name": "stdout",
     "output_type": "stream",
     "text": [
      "Повышение кровли ММГ (массива мерзлых грунтов) до уровня подошвы насыпи применяется в следующих случаях:\n",
      "\n",
      "1. **При значительной толщине слоя мерзлых грунтов**: Если толщина слоя мерзлых грунтов велика, то повышение кровли ММГ до уровня подошвы насыпи позволяет уменьшить объем земляных работ и сократить время производства работ.\n",
      "2. **При высоком уровне грунтовых вод**: Если уровень грунтовых вод высок, то повышение кровли ММГ до уровня подошвы насыпи позволяет предотвратить затопление котлована или траншеи и облегчить производство земляных работ.\n",
      "3. **При неустойчивых грунтах**: Если грунты неустойчивы и склонны к оползням или обрушениям, то повышение кровли ММГ до уровня подошвы насыпи позволяет повысить устойчивость откосов и обеспечить безопасность производства работ.\n",
      "4. **При необходимости устройства глубоких фундаментов**: Если необходимо устройство глубоких фундаментов, то повышение кровли ММГ до уровня подошвы насыпи позволяет уменьшить глубину котлована или траншеи и сократить время производства работ.\n",
      "5. **При производстве работ в районах с суровыми климатическими условиями**: Если работы производятся в районах с суровыми климатическими условиями (например, в районах с вечной мерзлотой), то повышение кровли ММГ до уровня подошвы насыпи позволяет уменьшить влияние отрицательных температур на производство работ.\n",
      "\n",
      "В целом, повышение кровли ММГ до уровня подошвы насыпи позволяет оптимизировать производство земляных работ, сократить время и стоимость работ, а также повысить безопасность и качество устройства оснований и фундаментов на ММГ.\n"
     ]
    }
   ],
   "source": [
    "query = \"В каких случаях применяют повышение кровли ММГ до уровня подошвы насыпи для производства земляных работ при устройстве оснований и фундаментов на ММГ\"\n",
    "print('\\n## RAG-Answer\\n')\n",
    "print(rag.query(query, param=QueryParam(mode=\"local\",\n",
    "                                                                            max_token_for_global_context=1650,\n",
    "                                                                            max_token_for_local_context=1650,\n",
    "                                                                            max_token_for_text_unit=1450)))\n",
    "print('\\n## -Llama-405B-Answer\\n')\n",
    "\n",
    "print(single.invoke(query).content)"
   ]
  },
  {
   "cell_type": "markdown",
   "metadata": {},
   "source": [
    "## Miscellaneous"
   ]
  },
  {
   "cell_type": "markdown",
   "metadata": {},
   "source": [
    "### Vision LLM test"
   ]
  },
  {
   "cell_type": "code",
   "execution_count": null,
   "metadata": {},
   "outputs": [],
   "source": [
    "vision = ChatOpenAI(api_key=config['samba_nova_api_key'],\n",
    "                base_url=\"https://api.sambanova.ai/v1\",\n",
    "                model=\"Llama-3.2-11B-Vision-Instruct\",\n",
    "                streaming=True)"
   ]
  },
  {
   "cell_type": "code",
   "execution_count": null,
   "metadata": {},
   "outputs": [],
   "source": [
    "image_path = config['raw/image.jpg']\n",
    "with open(image_path, \"rb\") as image_file:\n",
    "    encoded = base64.b64encode(image_file.read())\n",
    "    url = f'data:image/jpeg;base64,{encoded.decode(\"utf-8\")}'\n",
    "print(vision.invoke([{\"role\":\"user\",\"content\":[{\"type\":\"text\",\"text\":\"What do you see in this image\"},{\"type\":\"image_url\",\"image_url\":{\"url\":url}}]}]).content)"
   ]
  },
  {
   "cell_type": "markdown",
   "metadata": {},
   "source": [
    "### Saving the knowledge graph"
   ]
  },
  {
   "cell_type": "code",
   "execution_count": null,
   "metadata": {},
   "outputs": [],
   "source": [
    "\n",
    "# Load the GraphML file\n",
    "G = nx.read_graphml(f'{WORKING_DIR}/graph_chunk_entity_relation.graphml')\n",
    "\n",
    "# Create a Pyvis network\n",
    "net = Network(notebook=True)\n",
    "\n",
    "# Convert NetworkX graph to Pyvis network\n",
    "net.from_nx(G)\n",
    "\n",
    "# Save and display the network\n",
    "net.save_graph(f'{WORKING_DIR}/knowledge_graph.html')"
   ]
  },
  {
   "cell_type": "code",
   "execution_count": null,
   "metadata": {},
   "outputs": [],
   "source": [
    "G"
   ]
  }
 ],
 "metadata": {
  "kernelspec": {
   "display_name": "DL",
   "language": "python",
   "name": "python3"
  },
  "language_info": {
   "codemirror_mode": {
    "name": "ipython",
    "version": 3
   },
   "file_extension": ".py",
   "mimetype": "text/x-python",
   "name": "python",
   "nbconvert_exporter": "python",
   "pygments_lexer": "ipython3",
   "version": "3.10.15"
  }
 },
 "nbformat": 4,
 "nbformat_minor": 2
}
